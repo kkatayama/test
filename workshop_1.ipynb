{
 "cells": [
  {
   "cell_type": "markdown",
   "metadata": {
    "deletable": false,
    "editable": false
   },
   "source": [
    "The **IPython Notebook** is now known as the **Jupyter Notebook**. It is an interactive computational environment, in which you can combine code execution, rich text, mathematics, plots and rich media."
   ]
  },
  {
   "cell_type": "markdown",
   "metadata": {},
   "source": [
    "# **Introduction - Jupyter Notebook Basics**"
   ]
  },
  {
   "cell_type": "markdown",
   "metadata": {},
   "source": [
    "![](https://jupyter-notebook.readthedocs.io/en/stable/_images/blank-notebook-ui.png)\n",
    "**Notebook name:** The name displayed at the top of the page, next to the Jupyter logo, reflects the name of the .ipynb file. Clicking on the notebook name brings up a dialog which allows you to rename it. Thus, renaming a notebook from “Untitled0” to “My first notebook” in the browser, renames the Untitled0.ipynb file to My first notebook.ipynb.\n",
    "\n",
    "**Menu bar:** The menu bar presents different options that may be used to manipulate the way the notebook functions.\n",
    "\n",
    "**Toolbar:** The tool bar gives a quick way of performing the most-used operations within the notebook, by clicking on an icon.\n",
    "\n",
    "**Code cell:** the default type of cell; read on for an explanation of cells.\n",
    "\n",
    "<br>\n",
    "\n",
    "<div class=\"exercise-cell\"> \n",
    "\n",
    "**To Begin**, let's import the python libraries we will be using during throughout this Python Session\n",
    "    \n",
    "Select the **Code Cell** below and press `Shift`**+** `Enter`\n",
    "<div>"
   ]
  },
  {
   "cell_type": "code",
   "execution_count": 63,
   "metadata": {
    "ExecuteTime": {
     "end_time": "2018-10-17T07:56:26.906317Z",
     "start_time": "2018-10-17T07:56:26.867949Z"
    },
    "code_folding": [],
    "deletable": false,
    "editable": false,
    "init_cell": true,
    "solution": "hidden"
   },
   "outputs": [
    {
     "name": "stdout",
     "output_type": "stream",
     "text": [
      "The oct2py.ipython extension is already loaded. To reload it, use:\n",
      "  %reload_ext oct2py.ipython\n"
     ]
    },
    {
     "data": {
      "text/html": [
       "<style>\n",
       "div.exercise-cell {    \n",
       "    background-color: #ccffcc;\n",
       "    border-color: #deffde;\n",
       "    border-left: 5px solid #deffde;\n",
       "    padding: 0.5em;\n",
       "    }\n",
       " </style>\n"
      ],
      "text/plain": [
       "<IPython.core.display.HTML object>"
      ]
     },
     "execution_count": 63,
     "metadata": {},
     "output_type": "execute_result"
    },
    {
     "data": {
      "application/vnd.jupyter.widget-view+json": {
       "model_id": "5073ac857af144ec84149a1d68c4ade4",
       "version_major": 2,
       "version_minor": 0
      },
      "text/plain": [
       "TWFwKGJhc2VtYXA9eyd1cmwnOiAnaHR0cHM6Ly97c30udGlsZS5vcGVuc3RyZWV0bWFwLm9yZy97en0ve3h9L3t5fS5wbmcnLCAnbWF4X3pvb20nOiAxOSwgJ2F0dHJpYnV0aW9uJzogJ01hcCDigKY=\n"
      ]
     },
     "metadata": {},
     "output_type": "display_data"
    }
   ],
   "source": [
    "### Cool Stuff ###\n",
    "from tqdm import tqdm_notebook\n",
    "from IPython.core.interactiveshell import InteractiveShell\n",
    "from IPython.core.display import HTML\n",
    "from ipyleaflet import Map, Marker\n",
    "import pyEX\n",
    "import graphviz\n",
    "import lolviz\n",
    "\n",
    "### Web Scraping ###\n",
    "from selenium import webdriver\n",
    "from selenium.webdriver.common.action_chains import ActionChains\n",
    "from urlparse import urlparse\n",
    "from bs4 import BeautifulSoup\n",
    "from unidecode import unidecode\n",
    "import requests\n",
    "import urllib2\n",
    "\n",
    "### Parsing / Formatting Utilities ###\n",
    "from collections import OrderedDict\n",
    "from collections import Counter\n",
    "from datetime import datetime as dt\n",
    "from datetime import timedelta as td\n",
    "from dateutil import parser as dp\n",
    "import string\n",
    "import time\n",
    "import json\n",
    "import lxml\n",
    "import math\n",
    "\n",
    "### Plotting / Machine Learning ###\n",
    "%matplotlib widget\n",
    "%load_ext oct2py.ipython\n",
    "from sklearn import linear_model, metrics, naive_bayes, neighbors, tree, svm, ensemble, calibration, model_selection, preprocessing\n",
    "from scipy.integrate import quad, dblquad, tplquad, nquad, odeint, ode\n",
    "import matplotlib.pyplot as plt\n",
    "import numpy as np\n",
    "import seaborn as sns\n",
    "import pandas as pd\n",
    "import graphlab as gl\n",
    "\n",
    "### Prettify Tables ###\n",
    "InteractiveShell.ast_node_interactivity = \"all\"\n",
    "\n",
    "### Add CSS for Example Tables ###\n",
    "HTML(open(\"./style.css\", \"r\").read())\n",
    "\n",
    "### Quick Test Map ###\n",
    "one_south_main = [39.682732, -75.756611]\n",
    "m = Map(center=one_south_main, zoom=20)\n",
    "marker = Marker(location=one_south_main, draggable=False)\n",
    "m.add_layer(marker);\n",
    "m"
   ]
  },
  {
   "cell_type": "markdown",
   "metadata": {},
   "source": [
    "## **IPython Notebook Notes**\n",
    "* For General Help, look at the cheatsheets I added to the Desktop.\n",
    "* The `Snippets` menu contains a collection of templates to generate sample code. \n",
    "* To get help about any python function or syntax, you can click on the function, hold down the `shift` key and press `tab` 4 times.\n",
    "* You could also wrap the object with the `help()` function:\n",
    "  * **help(json)**\n",
    "* Or you can simply place a `?` character in front of the object:\n",
    "  * **?json**\n",
    "* The various methods sometimes display different information about the same object, so be sure to try them all!\n",
    "* If you receive an error when executing a python statement, add `%pdb` as the first statement to run the debugger"
   ]
  },
  {
   "cell_type": "code",
   "execution_count": null,
   "metadata": {},
   "outputs": [],
   "source": []
  },
  {
   "cell_type": "code",
   "execution_count": null,
   "metadata": {},
   "outputs": [],
   "source": []
  },
  {
   "cell_type": "markdown",
   "metadata": {},
   "source": [
    "***"
   ]
  },
  {
   "cell_type": "markdown",
   "metadata": {
    "ExecuteTime": {
     "end_time": "2018-10-10T13:29:27.091258Z",
     "start_time": "2018-10-10T13:29:27.088337Z"
    }
   },
   "source": [
    "# **Python Basics**"
   ]
  },
  {
   "cell_type": "markdown",
   "metadata": {
    "ExecuteTime": {
     "end_time": "2018-10-09T20:10:23.076241Z",
     "start_time": "2018-10-09T20:10:23.066063Z"
    },
    "deletable": false,
    "editable": false,
    "run_control": {
     "frozen": true
    }
   },
   "source": [
    "## Python is interpreted\n",
    " - Python is an _interpreted_ language, in contrast to Java and C which are compiled languages.\n",
    "<details>This means we can type statements into the interpreter and they are executed immediately.</details>"
   ]
  },
  {
   "cell_type": "code",
   "execution_count": 48,
   "metadata": {
    "ExecuteTime": {
     "end_time": "2018-10-10T22:43:31.381343Z",
     "start_time": "2018-10-10T22:43:31.375473Z"
    }
   },
   "outputs": [
    {
     "data": {
      "text/plain": [
       "3"
      ]
     },
     "execution_count": 48,
     "metadata": {},
     "output_type": "execute_result"
    }
   ],
   "source": [
    "1 + 2"
   ]
  },
  {
   "cell_type": "markdown",
   "metadata": {},
   "source": [
    "## Arithmetic\n",
    "- Like every programming language, Python is a good calculator. \n",
    "- Conveniently, python follows BEDMAS (brackets, exponents, division, multiplication, addition, subtraction)"
   ]
  },
  {
   "cell_type": "code",
   "execution_count": 49,
   "metadata": {
    "ExecuteTime": {
     "end_time": "2018-10-10T22:43:49.444409Z",
     "start_time": "2018-10-10T22:43:49.437185Z"
    }
   },
   "outputs": [
    {
     "data": {
      "text/plain": [
       "42"
      ]
     },
     "execution_count": 49,
     "metadata": {},
     "output_type": "execute_result"
    }
   ],
   "source": [
    "8 + 6*2*3 - (15 - 13)"
   ]
  },
  {
   "cell_type": "markdown",
   "metadata": {},
   "source": [
    "* Numbers are valid Python code as are the common operators, +, /, * and -."
   ]
  },
  {
   "cell_type": "code",
   "execution_count": 50,
   "metadata": {
    "ExecuteTime": {
     "end_time": "2018-10-10T22:44:01.377865Z",
     "start_time": "2018-10-10T22:44:01.373423Z"
    }
   },
   "outputs": [
    {
     "data": {
      "text/plain": [
       "44.149"
      ]
     },
     "execution_count": 50,
     "metadata": {},
     "output_type": "execute_result"
    }
   ],
   "source": [
    "42 + 3.149 + -1"
   ]
  },
  {
   "cell_type": "markdown",
   "metadata": {
    "deletable": false,
    "editable": false,
    "run_control": {
     "frozen": true
    }
   },
   "source": [
    "## Assignments versus equations\n",
    "- In Python when we write `x = 5`. This means something different from an equation $x=5$.\n",
    "<details>Unlike variables in mathematical models, variables in Python can refer to different things as more statements are interpreted.</details>"
   ]
  },
  {
   "cell_type": "code",
   "execution_count": 51,
   "metadata": {
    "ExecuteTime": {
     "end_time": "2018-10-17T16:54:28.253932Z",
     "start_time": "2018-10-17T16:54:28.247618Z"
    }
   },
   "outputs": [
    {
     "name": "stdout",
     "output_type": "stream",
     "text": [
      "The value of x is:     1\n",
      "Now the value of x is: 2.5\n",
      "Now the value of x is: hello there\n"
     ]
    }
   ],
   "source": [
    "# Anythying typed after a hash-tag is a comment \n",
    "x = 1\n",
    "print 'The value of x is:    ', x\n",
    "\n",
    "x = 2.5\n",
    "print 'Now the value of x is:', x  # Comments can be placed anywhere!!!!\n",
    "\n",
    "x = 'hello there'\n",
    "print 'Now the value of x is:', x  # Comments can contain python statements: x = stuff'"
   ]
  },
  {
   "cell_type": "markdown",
   "metadata": {},
   "source": [
    "## Calling Functions\n",
    "- We can call functions in a conventional way using round brackets"
   ]
  },
  {
   "cell_type": "code",
   "execution_count": 52,
   "metadata": {
    "ExecuteTime": {
     "end_time": "2018-10-17T16:54:30.387684Z",
     "start_time": "2018-10-17T16:54:30.383688Z"
    }
   },
   "outputs": [
    {
     "name": "stdout",
     "output_type": "stream",
     "text": [
      "3.0\n"
     ]
    }
   ],
   "source": [
    "print round(3.14)"
   ]
  },
  {
   "cell_type": "markdown",
   "metadata": {
    "ExecuteTime": {
     "end_time": "2018-10-10T19:08:20.412593Z",
     "start_time": "2018-10-10T19:08:20.408504Z"
    },
    "deletable": false,
    "editable": false,
    "run_control": {
     "frozen": true
    }
   },
   "source": [
    "## Types\n",
    "- Values in Python have an associated _type_.\n",
    "<details open>If we combine types incorrectly we get an error.</details>"
   ]
  },
  {
   "cell_type": "code",
   "execution_count": 54,
   "metadata": {
    "ExecuteTime": {
     "end_time": "2018-10-17T16:54:31.683685Z",
     "start_time": "2018-10-17T16:54:31.679700Z"
    }
   },
   "outputs": [
    {
     "name": "stdout",
     "output_type": "stream",
     "text": [
      "hello there\n"
     ]
    }
   ],
   "source": [
    "print x"
   ]
  },
  {
   "cell_type": "code",
   "execution_count": 55,
   "metadata": {
    "ExecuteTime": {
     "end_time": "2018-10-17T16:54:32.618203Z",
     "start_time": "2018-10-17T16:54:32.594655Z"
    }
   },
   "outputs": [
    {
     "ename": "TypeError",
     "evalue": "cannot concatenate 'str' and 'int' objects",
     "output_type": "error",
     "traceback": [
      "\u001b[0;31m---------------------------------------------------------------------------\u001b[0m",
      "\u001b[0;31mTypeError\u001b[0m                                 Traceback (most recent call last)",
      "\u001b[0;32m<ipython-input-55-d3d9026a1fcf>\u001b[0m in \u001b[0;36m<module>\u001b[0;34m()\u001b[0m\n\u001b[0;32m----> 1\u001b[0;31m \u001b[0mx\u001b[0m \u001b[0;34m+\u001b[0m \u001b[0;36m5\u001b[0m\u001b[0;34m\u001b[0m\u001b[0m\n\u001b[0m",
      "\u001b[0;31mTypeError\u001b[0m: cannot concatenate 'str' and 'int' objects"
     ]
    }
   ],
   "source": [
    "x + 5 "
   ]
  },
  {
   "cell_type": "markdown",
   "metadata": {
    "deletable": false,
    "editable": false,
    "run_control": {
     "frozen": true
    }
   },
   "source": [
    "> This caused an error because `x` is a string containing `hello there` where as `5` is an integer and you can not add a `string` type with an `integer` type"
   ]
  },
  {
   "cell_type": "markdown",
   "metadata": {
    "deletable": false,
    "editable": false,
    "run_control": {
     "frozen": true
    }
   },
   "source": [
    "* **However**, you can multiply `string` objects to generate a repeated pattern: "
   ]
  },
  {
   "cell_type": "code",
   "execution_count": 56,
   "metadata": {
    "ExecuteTime": {
     "end_time": "2018-10-17T16:54:36.208363Z",
     "start_time": "2018-10-17T16:54:36.199944Z"
    }
   },
   "outputs": [
    {
     "name": "stdout",
     "output_type": "stream",
     "text": [
      "hello there hello there hello there hello there hello there \n"
     ]
    }
   ],
   "source": [
    "print str(x + \" \") * 5"
   ]
  },
  {
   "cell_type": "markdown",
   "metadata": {
    "deletable": false,
    "editable": false,
    "run_control": {
     "frozen": true
    }
   },
   "source": [
    "## The type function\n",
    "> Did you notice the **TypeError** in the previous execution?\n",
    "\n",
    "- We can query the type of a value using the `type` function."
   ]
  },
  {
   "cell_type": "code",
   "execution_count": 57,
   "metadata": {
    "ExecuteTime": {
     "start_time": "2018-10-10T22:46:04.737Z"
    }
   },
   "outputs": [
    {
     "data": {
      "text/plain": [
       "int"
      ]
     },
     "execution_count": 57,
     "metadata": {},
     "output_type": "execute_result"
    }
   ],
   "source": [
    "type(1)"
   ]
  },
  {
   "cell_type": "code",
   "execution_count": 58,
   "metadata": {
    "ExecuteTime": {
     "end_time": "2018-10-10T19:16:13.112280Z",
     "start_time": "2018-10-10T19:16:13.103508Z"
    }
   },
   "outputs": [
    {
     "data": {
      "text/plain": [
       "str"
      ]
     },
     "execution_count": 58,
     "metadata": {},
     "output_type": "execute_result"
    }
   ],
   "source": [
    "type('hello')"
   ]
  },
  {
   "cell_type": "code",
   "execution_count": 59,
   "metadata": {
    "ExecuteTime": {
     "end_time": "2018-10-10T19:16:13.332406Z",
     "start_time": "2018-10-10T19:16:13.316380Z"
    }
   },
   "outputs": [
    {
     "data": {
      "text/plain": [
       "float"
      ]
     },
     "execution_count": 59,
     "metadata": {},
     "output_type": "execute_result"
    }
   ],
   "source": [
    "type(2.5)"
   ]
  },
  {
   "cell_type": "code",
   "execution_count": 60,
   "metadata": {
    "ExecuteTime": {
     "end_time": "2018-10-10T19:16:13.519508Z",
     "start_time": "2018-10-10T19:16:13.509817Z"
    }
   },
   "outputs": [
    {
     "data": {
      "text/plain": [
       "bool"
      ]
     },
     "execution_count": 60,
     "metadata": {},
     "output_type": "execute_result"
    }
   ],
   "source": [
    "type(True)"
   ]
  },
  {
   "cell_type": "markdown",
   "metadata": {
    "deletable": false,
    "editable": false,
    "run_control": {
     "frozen": true
    }
   },
   "source": [
    "## Null values\n",
    "\n",
    " - Sometimes we represent \"no data\" or \"not applicable\".  \n",
    " - In Python we use the special value `None`.\n",
    " - This corresponds to `Null` in Java or SQL."
   ]
  },
  {
   "cell_type": "code",
   "execution_count": 61,
   "metadata": {
    "ExecuteTime": {
     "end_time": "2018-10-10T19:17:19.364690Z",
     "start_time": "2018-10-10T19:17:19.356092Z"
    }
   },
   "outputs": [],
   "source": [
    "result = None"
   ]
  },
  {
   "cell_type": "markdown",
   "metadata": {
    "deletable": false,
    "editable": false,
    "run_control": {
     "frozen": true
    }
   },
   "source": [
    "- We can check whether there is a result or not using the `is` operator:"
   ]
  },
  {
   "cell_type": "code",
   "execution_count": 62,
   "metadata": {
    "ExecuteTime": {
     "end_time": "2018-10-10T19:17:45.493558Z",
     "start_time": "2018-10-10T19:17:45.486210Z"
    }
   },
   "outputs": [
    {
     "data": {
      "text/plain": [
       "True"
      ]
     },
     "execution_count": 62,
     "metadata": {},
     "output_type": "execute_result"
    }
   ],
   "source": [
    "result is None"
   ]
  },
  {
   "cell_type": "code",
   "execution_count": 63,
   "metadata": {
    "ExecuteTime": {
     "start_time": "2018-10-10T22:47:29.666Z"
    }
   },
   "outputs": [
    {
     "data": {
      "text/plain": [
       "False"
      ]
     },
     "execution_count": 63,
     "metadata": {},
     "output_type": "execute_result"
    }
   ],
   "source": [
    "x = 5\n",
    "x is None"
   ]
  },
  {
   "cell_type": "markdown",
   "metadata": {
    "ExecuteTime": {
     "end_time": "2018-10-10T19:18:31.774382Z",
     "start_time": "2018-10-10T19:18:31.764965Z"
    },
    "deletable": false,
    "editable": false,
    "run_control": {
     "frozen": true
    }
   },
   "source": [
    "## Converting values between types\n",
    "- We can convert values between different types.\n",
    "- To convert an integer to a floating-point number use the `float()` function.\n",
    "- To convert a floating-point to an integer use the `int()` function."
   ]
  },
  {
   "cell_type": "code",
   "execution_count": 64,
   "metadata": {
    "ExecuteTime": {
     "end_time": "2018-10-17T06:50:15.043408Z",
     "start_time": "2018-10-17T06:50:15.034052Z"
    }
   },
   "outputs": [
    {
     "name": "stdout",
     "output_type": "stream",
     "text": [
      "<type 'int'>\n",
      "1\n"
     ]
    }
   ],
   "source": [
    "x = 1\n",
    "print type(x)\n",
    "print x"
   ]
  },
  {
   "cell_type": "code",
   "execution_count": 65,
   "metadata": {
    "ExecuteTime": {
     "end_time": "2018-10-10T19:18:55.574411Z",
     "start_time": "2018-10-10T19:18:55.568827Z"
    }
   },
   "outputs": [
    {
     "name": "stdout",
     "output_type": "stream",
     "text": [
      "<type 'float'>\n",
      "1.0\n"
     ]
    }
   ],
   "source": [
    "y = float(x)\n",
    "print type(y)\n",
    "print y"
   ]
  },
  {
   "cell_type": "code",
   "execution_count": 66,
   "metadata": {
    "ExecuteTime": {
     "end_time": "2018-10-10T19:19:03.400700Z",
     "start_time": "2018-10-10T19:19:03.397185Z"
    }
   },
   "outputs": [
    {
     "name": "stdout",
     "output_type": "stream",
     "text": [
      "1\n"
     ]
    }
   ],
   "source": [
    "print int(y)"
   ]
  },
  {
   "cell_type": "markdown",
   "metadata": {
    "deletable": false,
    "editable": false,
    "run_control": {
     "frozen": true
    }
   },
   "source": [
    "## Variables are not typed\n",
    "- _Variables_ themselves, on the other hand, do not have a fixed type.\n",
    "- It is only the values that they refer to that have a type.\n",
    "<details>This means that the type referred to by a variable can change as more statements are interpreted.</details>"
   ]
  },
  {
   "cell_type": "code",
   "execution_count": 67,
   "metadata": {
    "ExecuteTime": {
     "end_time": "2018-10-10T19:20:18.855719Z",
     "start_time": "2018-10-10T19:20:18.851138Z"
    }
   },
   "outputs": [
    {
     "name": "stdout",
     "output_type": "stream",
     "text": [
      "The type of the value referred to by y is  <type 'str'>\n",
      "And now the type of the value is  <type 'float'>\n"
     ]
    }
   ],
   "source": [
    "y = 'hello'\n",
    "print 'The type of the value referred to by y is ', type(y)\n",
    "y = 5.0\n",
    "print 'And now the type of the value is ', type(y)"
   ]
  },
  {
   "cell_type": "markdown",
   "metadata": {
    "solution": "hidden",
    "solution_first": true
   },
   "source": [
    "<legend>String variable types can be concatenated to form other strings:</legend>\n",
    "\n",
    "```python\n",
    "color = 'red'\n",
    "fruit = 'apples'\n",
    "colored_fruit = color + '_' + fruit\n",
    "print colored_fruit\n",
    "\n",
    "red_apples\n",
    "```"
   ]
  },
  {
   "cell_type": "markdown",
   "metadata": {
    "solution2": "hidden",
    "solution2_first": true
   },
   "source": [
    "<div class=exercise-cell>\n",
    "\n",
    "**Exercise 1**<br>\n",
    "Create a **_string_** variable called **first_name** and assign it your **First Name**.  Then create another **_string_** variable called **_last_name_** and assign it your **Last Name**.  Finally, concatenate **first_name** with your **last_name** and save the result to **full_name** and print **full_name**.\n",
    "</div>"
   ]
  },
  {
   "cell_type": "code",
   "execution_count": 68,
   "metadata": {
    "ExecuteTime": {
     "end_time": "2018-10-17T06:53:38.234013Z",
     "start_time": "2018-10-17T06:53:38.225141Z"
    },
    "solution": "hidden",
    "solution2": "hidden"
   },
   "outputs": [
    {
     "name": "stdout",
     "output_type": "stream",
     "text": [
      "Teddy Katayama\n"
     ]
    }
   ],
   "source": [
    "first_name = \"Teddy\"\n",
    "last_name = \"Katayama\"\n",
    "full_name = first_name + \" \" + last_name\n",
    "print full_name"
   ]
  },
  {
   "cell_type": "code",
   "execution_count": null,
   "metadata": {},
   "outputs": [],
   "source": []
  },
  {
   "cell_type": "code",
   "execution_count": null,
   "metadata": {},
   "outputs": [],
   "source": []
  },
  {
   "cell_type": "code",
   "execution_count": null,
   "metadata": {},
   "outputs": [],
   "source": []
  },
  {
   "cell_type": "code",
   "execution_count": null,
   "metadata": {},
   "outputs": [],
   "source": []
  },
  {
   "cell_type": "markdown",
   "metadata": {
    "ExecuteTime": {
     "end_time": "2018-10-10T19:21:53.088943Z",
     "start_time": "2018-10-10T19:21:53.081990Z"
    }
   },
   "source": [
    "# **Data Structures**"
   ]
  },
  {
   "cell_type": "markdown",
   "metadata": {
    "deletable": false,
    "editable": false,
    "run_control": {
     "frozen": true
    }
   },
   "source": [
    "## Strings!!!\n",
    "- In a literal sense, *pieces of text inside code*\n",
    "- Python is awesome for parsing text :)"
   ]
  },
  {
   "cell_type": "code",
   "execution_count": 96,
   "metadata": {
    "ExecuteTime": {
     "end_time": "2018-10-17T22:31:03.725438Z",
     "start_time": "2018-10-17T22:31:03.722365Z"
    }
   },
   "outputs": [
    {
     "name": "stdout",
     "output_type": "stream",
     "text": [
      "Hello, World\n"
     ]
    }
   ],
   "source": [
    "text = \"Hello, World\"\n",
    "print text"
   ]
  },
  {
   "cell_type": "markdown",
   "metadata": {
    "deletable": false,
    "editable": false,
    "run_control": {
     "frozen": true
    }
   },
   "source": [
    "- Now type the variable `text`, add a `.` period at the end and press `tab`\n",
    "<details open>You will see a list of helper functions()<br> \n",
    "All python structures have helper functions() to perform various tasks!</details>"
   ]
  },
  {
   "cell_type": "code",
   "execution_count": null,
   "metadata": {},
   "outputs": [],
   "source": []
  },
  {
   "cell_type": "code",
   "execution_count": 97,
   "metadata": {
    "ExecuteTime": {
     "end_time": "2018-10-17T16:57:01.589163Z",
     "start_time": "2018-10-17T16:57:01.574932Z"
    }
   },
   "outputs": [
    {
     "name": "stdout",
     "output_type": "stream",
     "text": [
      "3\n"
     ]
    }
   ],
   "source": [
    "print text.count('l')"
   ]
  },
  {
   "cell_type": "code",
   "execution_count": 98,
   "metadata": {
    "ExecuteTime": {
     "end_time": "2018-10-17T16:57:02.568379Z",
     "start_time": "2018-10-17T16:57:02.560604Z"
    }
   },
   "outputs": [
    {
     "name": "stdout",
     "output_type": "stream",
     "text": [
      "False\n"
     ]
    }
   ],
   "source": [
    "print text.isdigit()"
   ]
  },
  {
   "cell_type": "code",
   "execution_count": 99,
   "metadata": {
    "ExecuteTime": {
     "end_time": "2018-10-17T16:57:03.223373Z",
     "start_time": "2018-10-17T16:57:03.214391Z"
    }
   },
   "outputs": [
    {
     "name": "stdout",
     "output_type": "stream",
     "text": [
      "hello, world\n"
     ]
    }
   ],
   "source": [
    "print text.lower()"
   ]
  },
  {
   "cell_type": "code",
   "execution_count": 100,
   "metadata": {
    "ExecuteTime": {
     "end_time": "2018-10-17T16:57:04.911570Z",
     "start_time": "2018-10-17T16:57:04.902788Z"
    }
   },
   "outputs": [
    {
     "name": "stdout",
     "output_type": "stream",
     "text": [
      "Hello, world\n"
     ]
    }
   ],
   "source": [
    "print text.lower().capitalize()"
   ]
  },
  {
   "cell_type": "code",
   "execution_count": 101,
   "metadata": {
    "ExecuteTime": {
     "end_time": "2018-10-17T16:57:05.714840Z",
     "start_time": "2018-10-17T16:57:05.709557Z"
    }
   },
   "outputs": [
    {
     "name": "stdout",
     "output_type": "stream",
     "text": [
      "Hello|||World\n"
     ]
    }
   ],
   "source": [
    "print text.replace(', ', '|||')"
   ]
  },
  {
   "cell_type": "code",
   "execution_count": 102,
   "metadata": {
    "ExecuteTime": {
     "end_time": "2018-10-17T16:57:08.946690Z",
     "start_time": "2018-10-17T16:57:08.938021Z"
    }
   },
   "outputs": [
    {
     "name": "stdout",
     "output_type": "stream",
     "text": [
      "llo, World\n"
     ]
    }
   ],
   "source": [
    "print text.lstrip('He')"
   ]
  },
  {
   "cell_type": "code",
   "execution_count": 103,
   "metadata": {
    "ExecuteTime": {
     "end_time": "2018-10-17T16:57:10.288284Z",
     "start_time": "2018-10-17T16:57:10.279335Z"
    }
   },
   "outputs": [
    {
     "name": "stdout",
     "output_type": "stream",
     "text": [
      "llo, Wor\n"
     ]
    }
   ],
   "source": [
    "print text.lstrip('He').rstrip('ld')"
   ]
  },
  {
   "cell_type": "code",
   "execution_count": 104,
   "metadata": {
    "ExecuteTime": {
     "end_time": "2018-10-17T16:57:11.094758Z",
     "start_time": "2018-10-17T16:57:11.085772Z"
    }
   },
   "outputs": [
    {
     "name": "stdout",
     "output_type": "stream",
     "text": [
      "o, Wor\n"
     ]
    }
   ],
   "source": [
    "print text.strip('Held')"
   ]
  },
  {
   "cell_type": "code",
   "execution_count": 105,
   "metadata": {
    "ExecuteTime": {
     "end_time": "2018-10-17T22:31:27.403903Z",
     "start_time": "2018-10-17T22:31:27.396420Z"
    }
   },
   "outputs": [
    {
     "name": "stdout",
     "output_type": "stream",
     "text": [
      "['Hello', ' World']\n"
     ]
    }
   ],
   "source": [
    "print text.split(',')"
   ]
  },
  {
   "cell_type": "code",
   "execution_count": 106,
   "metadata": {
    "ExecuteTime": {
     "end_time": "2018-10-17T22:32:27.172324Z",
     "start_time": "2018-10-17T22:32:27.165593Z"
    }
   },
   "outputs": [
    {
     "name": "stdout",
     "output_type": "stream",
     "text": [
      "Hello\n"
     ]
    }
   ],
   "source": [
    "print text.split(',')[0]"
   ]
  },
  {
   "cell_type": "code",
   "execution_count": 107,
   "metadata": {
    "ExecuteTime": {
     "end_time": "2018-10-17T22:32:31.720899Z",
     "start_time": "2018-10-17T22:32:31.713614Z"
    }
   },
   "outputs": [
    {
     "name": "stdout",
     "output_type": "stream",
     "text": [
      " World\n"
     ]
    }
   ],
   "source": [
    "print text.split(',')[1]"
   ]
  },
  {
   "cell_type": "code",
   "execution_count": 113,
   "metadata": {},
   "outputs": [
    {
     "name": "stdout",
     "output_type": "stream",
     "text": [
      "google\n"
     ]
    }
   ],
   "source": [
    "print 'www.google.com'.strip('w.com')"
   ]
  },
  {
   "cell_type": "code",
   "execution_count": 116,
   "metadata": {},
   "outputs": [
    {
     "name": "stdout",
     "output_type": "stream",
     "text": [
      "0000001\n"
     ]
    }
   ],
   "source": [
    "print '1'.zfill(7)"
   ]
  },
  {
   "cell_type": "code",
   "execution_count": 117,
   "metadata": {},
   "outputs": [
    {
     "name": "stdout",
     "output_type": "stream",
     "text": [
      "we won the game\n"
     ]
    }
   ],
   "source": [
    "print '   we won the game\\t\\t\\t\\n'.strip()"
   ]
  },
  {
   "cell_type": "code",
   "execution_count": 119,
   "metadata": {},
   "outputs": [
    {
     "name": "stdout",
     "output_type": "stream",
     "text": [
      "First Name: Teddy \n",
      "Last  Name: Katayama\n"
     ]
    }
   ],
   "source": [
    "first_name = 'Teddy'\n",
    "last_name = 'Katayama'\n",
    "print 'First Name: {0} \\nLast  Name: {1}'.format(first_name, last_name)"
   ]
  },
  {
   "cell_type": "code",
   "execution_count": 108,
   "metadata": {
    "ExecuteTime": {
     "end_time": "2018-10-17T23:18:51.248920Z",
     "start_time": "2018-10-17T23:18:51.243166Z"
    }
   },
   "outputs": [
    {
     "name": "stdout",
     "output_type": "stream",
     "text": [
      "/* Food for thought! */\n",
      "\n",
      "abcdefghijklmnopqrstuvwxyzABCDEFGHIJKLMNOPQRSTUVWXYZ\n",
      "!\"#$%&'()*+,-./:;<=>?@[\\]^_`{|}~\n",
      "\n",
      "Food for thought\n"
     ]
    }
   ],
   "source": [
    "text = \"/* Food for thought! */\"   # A text commented in C, C++, javascript style syntax\n",
    "print text\n",
    "print ''\n",
    "print string.ascii_letters         # The string package comes packed with goodies :)\n",
    "print string.punctuation           # highlight the word string, then hold the shift key\n",
    "print ''                           #  and press the TAB key 4 times to see them.\n",
    "print text.strip(string.punctuation + ' ')"
   ]
  },
  {
   "cell_type": "markdown",
   "metadata": {
    "deletable": false,
    "editable": false,
    "run_control": {
     "frozen": true
    },
    "solution": "hidden",
    "solution_first": true
   },
   "source": [
    "***\n",
    "There are many ways to parse a string using Python to end with the same result!<br>\n",
    "String variables can be assigned by wrapping the **text** with `'` or `\"` like so:<br>\n",
    "```python\n",
    "line1 = \"I like apple pie\"\n",
    "line2 = 'I like apple pie\"\n",
    "```\n",
    ">**Hint:** when dealing with text from outside sources, the text itself may contain `'` and `\"` characters\n",
    "    and require you to escape them.  Instead of dealing with escaping those characters, wrap the text with\n",
    "    **three** `\"` characters and a **space** ` ` like this:\n",
    "```python\n",
    "line3 = \"\"\" I like to eat \"Anne's Apple Pie\" \"\"\"\n",
    "```\n",
    "This is called a **doc-string** and is normally used in `functions()` to display **help documentation**.\n",
    "\n",
    ">**note:** this is not really the pythonic way to declare a string, but it does allow you to easily declare a string without having to deal with any possible errors :)"
   ]
  },
  {
   "cell_type": "markdown",
   "metadata": {
    "ExecuteTime": {
     "end_time": "2018-10-17T22:45:56.646985Z",
     "start_time": "2018-10-17T22:45:56.638634Z"
    },
    "solution2": "hidden",
    "solution2_first": true
   },
   "source": [
    "<div class=exercise-cell>\n",
    "\n",
    "**Exercise 2**<br>\n",
    "The text below is two lines that you may see in a web page source code.<br>\n",
    "Your task is to print the email address contained in both lines of text.\n",
    "\n",
    "```html\n",
    "<div><a href=\"mailto:katayama@udel.edu\">Email Me</a></div>\n",
    "    \n",
    "<div><span style=\"background-color:rgb(255,255,0)\">Kaoru Katayama &lt;katayama@udel.edu&gt;</span></div>\n",
    "```\n",
    "\n",
    "</div>"
   ]
  },
  {
   "cell_type": "code",
   "execution_count": null,
   "metadata": {
    "ExecuteTime": {
     "end_time": "2018-10-17T22:50:34.015392Z",
     "start_time": "2018-10-17T22:50:34.006139Z"
    },
    "deletable": false,
    "editable": false,
    "run_control": {
     "frozen": true
    },
    "solution2": "hidden"
   },
   "outputs": [],
   "source": [
    "line1 = \"\"\" <div><a href=\"mailto:katayama@udel.edu\">Email Me</a></div> \"\"\"\n",
    "remove_first_part = line1.split(':')[1]\n",
    "print 'remove_first_part =', remove_first_part\n",
    "email = remove_first_part.split('\"')[0]\n",
    "print 'email =',email\n",
    "\n",
    "# another solution for line1\n",
    "col_index = line1.index(':')\n",
    "close_paren_index = line1.index('\">')\n",
    "email = line1[(col_index + 1):(close_paren_index)]\n",
    "print 'email =',email\n",
    "\n",
    "# and another solution for line1\n",
    "email = line1.replace(' <div><a href=\"mailto:', '').replace('\">Email Me</a></div> ', '')\n",
    "print 'email =',email\n",
    "\n",
    "# solution for line2\n",
    "line2 = \"\"\" <div><span style=\"background-color:rgb(255,255,0)\">Kaoru Katayama &lt;katayama@udel.edu&gt;</span></div> \"\"\"\n",
    "email = line2.split(';')[1].split('&')[0]\n",
    "print 'email =',email"
   ]
  },
  {
   "cell_type": "code",
   "execution_count": null,
   "metadata": {},
   "outputs": [],
   "source": []
  },
  {
   "cell_type": "code",
   "execution_count": null,
   "metadata": {},
   "outputs": [],
   "source": []
  },
  {
   "cell_type": "code",
   "execution_count": null,
   "metadata": {},
   "outputs": [],
   "source": []
  },
  {
   "cell_type": "code",
   "execution_count": null,
   "metadata": {},
   "outputs": [],
   "source": []
  },
  {
   "cell_type": "markdown",
   "metadata": {},
   "source": [
    "## Lists\n",
    "- Python lists are like arrays in other languages, but can hold values of any type"
   ]
  },
  {
   "cell_type": "code",
   "execution_count": 110,
   "metadata": {
    "ExecuteTime": {
     "end_time": "2018-10-10T22:54:27.673013Z",
     "start_time": "2018-10-10T22:54:27.664621Z"
    },
    "scrolled": true
   },
   "outputs": [
    {
     "name": "stdout",
     "output_type": "stream",
     "text": [
      "['first', 'second', 'third']\n"
     ]
    }
   ],
   "source": [
    "medals_text = ['first', 'second', 'third']                     # all strings\n",
    "print medals_text"
   ]
  },
  {
   "cell_type": "markdown",
   "metadata": {
    "deletable": false,
    "editable": false,
    "run_control": {
     "frozen": true
    }
   },
   "source": [
    "* Lists have helper functions as well.\n",
    "<details open>\n",
    "You can append any type object to a list and remove a specific object by value</details>"
   ]
  },
  {
   "cell_type": "code",
   "execution_count": 111,
   "metadata": {
    "ExecuteTime": {
     "end_time": "2018-10-10T19:32:02.334046Z",
     "start_time": "2018-10-10T19:32:02.330224Z"
    }
   },
   "outputs": [
    {
     "name": "stdout",
     "output_type": "stream",
     "text": [
      "['first', 'second', 'third', 'fourth']\n"
     ]
    }
   ],
   "source": [
    "medals_text = []             # reset and initialize list\n",
    "medals_text.append('first')\n",
    "medals_text.append('second')\n",
    "medals_text.append('third')\n",
    "medals_text.append('fourth')\n",
    "print medals_text"
   ]
  },
  {
   "cell_type": "code",
   "execution_count": 112,
   "metadata": {},
   "outputs": [
    {
     "name": "stdout",
     "output_type": "stream",
     "text": [
      "['second', 'third', 'fourth']\n"
     ]
    }
   ],
   "source": [
    "medals_text.remove('first')\n",
    "print medals_text"
   ]
  },
  {
   "cell_type": "markdown",
   "metadata": {
    "ExecuteTime": {
     "end_time": "2018-10-10T19:45:00.814005Z",
     "start_time": "2018-10-10T19:45:00.811159Z"
    }
   },
   "source": [
    "### Lists are Indexed\n",
    "- Lists also maintain the order in which it was assigned."
   ]
  },
  {
   "cell_type": "code",
   "execution_count": 113,
   "metadata": {
    "ExecuteTime": {
     "end_time": "2018-10-10T19:45:26.407301Z",
     "start_time": "2018-10-10T19:45:26.402297Z"
    }
   },
   "outputs": [
    {
     "name": "stdout",
     "output_type": "stream",
     "text": [
      "1\n"
     ]
    }
   ],
   "source": [
    "id_numbers = []\n",
    "id_numbers.append(1)\n",
    "id_numbers.append(2)\n",
    "id_numbers.append(3)\n",
    "print id_numbers[0]"
   ]
  },
  {
   "cell_type": "code",
   "execution_count": 114,
   "metadata": {
    "ExecuteTime": {
     "end_time": "2018-10-10T19:46:02.423645Z",
     "start_time": "2018-10-10T19:46:02.420504Z"
    }
   },
   "outputs": [
    {
     "name": "stdout",
     "output_type": "stream",
     "text": [
      "2\n"
     ]
    }
   ],
   "source": [
    "print id_numbers[1]"
   ]
  },
  {
   "cell_type": "code",
   "execution_count": 115,
   "metadata": {
    "ExecuteTime": {
     "end_time": "2018-10-10T19:46:12.030640Z",
     "start_time": "2018-10-10T19:46:12.027511Z"
    }
   },
   "outputs": [
    {
     "name": "stdout",
     "output_type": "stream",
     "text": [
      "3\n"
     ]
    }
   ],
   "source": [
    "print id_numbers[2]"
   ]
  },
  {
   "cell_type": "markdown",
   "metadata": {
    "deletable": false,
    "editable": false,
    "run_control": {
     "frozen": true
    }
   },
   "source": [
    "<legend>You can also pop and insert any object by index</legend>"
   ]
  },
  {
   "cell_type": "code",
   "execution_count": 116,
   "metadata": {},
   "outputs": [
    {
     "data": {
      "text/plain": [
       "'fourth'"
      ]
     },
     "execution_count": 116,
     "metadata": {},
     "output_type": "execute_result"
    },
    {
     "name": "stdout",
     "output_type": "stream",
     "text": [
      "['second', 'third']\n"
     ]
    }
   ],
   "source": [
    "medals_text.pop(2)\n",
    "print medals_text"
   ]
  },
  {
   "cell_type": "code",
   "execution_count": 117,
   "metadata": {},
   "outputs": [
    {
     "name": "stdout",
     "output_type": "stream",
     "text": [
      "['first', 'second', 'third']\n"
     ]
    }
   ],
   "source": [
    "medals_text.insert(0,'first')\n",
    "print medals_text"
   ]
  },
  {
   "cell_type": "code",
   "execution_count": 118,
   "metadata": {
    "ExecuteTime": {
     "end_time": "2018-10-10T19:31:13.147958Z",
     "start_time": "2018-10-10T19:31:13.144652Z"
    }
   },
   "outputs": [
    {
     "name": "stdout",
     "output_type": "stream",
     "text": [
      "['first', 'second', 'third', 1, 2, 3]\n"
     ]
    }
   ],
   "source": [
    "medals_text_and_int = ['first', 'second', 'third', 1, 2, 3] # strings and integers\n",
    "print medals_text_and_int"
   ]
  },
  {
   "cell_type": "markdown",
   "metadata": {},
   "source": [
    "<legend>You can add multiple lists of different types to form new lists.</legend>"
   ]
  },
  {
   "cell_type": "code",
   "execution_count": 119,
   "metadata": {},
   "outputs": [
    {
     "name": "stdout",
     "output_type": "stream",
     "text": [
      "['first', 'second', 'third', 'Sarah', 'John', 'Mary']\n"
     ]
    }
   ],
   "source": [
    "runners = ['Sarah', 'John', 'Mary']\n",
    "medals_and_runners = medals_text + runners\n",
    "print medals_and_runners"
   ]
  },
  {
   "cell_type": "code",
   "execution_count": 120,
   "metadata": {
    "ExecuteTime": {
     "end_time": "2018-10-10T19:31:39.401527Z",
     "start_time": "2018-10-10T19:31:39.398140Z"
    }
   },
   "outputs": [
    {
     "name": "stdout",
     "output_type": "stream",
     "text": [
      "1\n"
     ]
    }
   ],
   "source": [
    "print medals_text_and_int.count('first')"
   ]
  },
  {
   "cell_type": "code",
   "execution_count": 121,
   "metadata": {},
   "outputs": [
    {
     "name": "stdout",
     "output_type": "stream",
     "text": [
      "2\n"
     ]
    }
   ],
   "source": [
    "print medals_text_and_int.index('third')"
   ]
  },
  {
   "cell_type": "code",
   "execution_count": 122,
   "metadata": {},
   "outputs": [
    {
     "name": "stdout",
     "output_type": "stream",
     "text": [
      "5\n"
     ]
    }
   ],
   "source": [
    "print medals_text_and_int.index(3)"
   ]
  },
  {
   "cell_type": "markdown",
   "metadata": {
    "deletable": false,
    "editable": false,
    "run_control": {
     "frozen": true
    }
   },
   "source": [
    "### **List References**\n",
    "- Whenever we bind a variable to a value in Python we create a reference.\n",
    "- A reference is distinct from the value that it refers to.\n",
    "- Variables are names for references.  **NOT A COPY** \n",
    "> This is important to remember!!!"
   ]
  },
  {
   "cell_type": "code",
   "execution_count": 98,
   "metadata": {
    "ExecuteTime": {
     "end_time": "2018-10-10T19:37:02.711717Z",
     "start_time": "2018-10-10T19:37:02.707913Z"
    }
   },
   "outputs": [
    {
     "name": "stdout",
     "output_type": "stream",
     "text": [
      "X = [1, 2, 3]\n",
      "Y = [1, 2, 3]\n"
     ]
    }
   ],
   "source": [
    "X = [1, 2, 3]\n",
    "print 'X =',X\n",
    "\n",
    "Y = X\n",
    "print 'Y =',Y"
   ]
  },
  {
   "cell_type": "code",
   "execution_count": 99,
   "metadata": {
    "ExecuteTime": {
     "end_time": "2018-10-10T19:37:03.290441Z",
     "start_time": "2018-10-10T19:37:03.286782Z"
    }
   },
   "outputs": [
    {
     "name": "stdout",
     "output_type": "stream",
     "text": [
      "X = [1, 2, 3, 4]\n",
      "Y = [1, 2, 3, 4]\n"
     ]
    }
   ],
   "source": [
    "X.append(4)   # Making a change to X[] changes Y[]!!!\n",
    "print 'X =',X\n",
    "print 'Y =',Y"
   ]
  },
  {
   "cell_type": "code",
   "execution_count": 100,
   "metadata": {
    "ExecuteTime": {
     "end_time": "2018-10-10T19:37:09.326986Z",
     "start_time": "2018-10-10T19:37:09.321829Z"
    }
   },
   "outputs": [
    {
     "data": {
      "text/plain": [
       "3"
      ]
     },
     "execution_count": 100,
     "metadata": {},
     "output_type": "execute_result"
    }
   ],
   "source": [
    "Y.pop(2)  # Remove element at index=2 from Y[]"
   ]
  },
  {
   "cell_type": "code",
   "execution_count": 101,
   "metadata": {
    "ExecuteTime": {
     "end_time": "2018-10-10T19:37:43.299486Z",
     "start_time": "2018-10-10T19:37:43.295254Z"
    }
   },
   "outputs": [
    {
     "name": "stdout",
     "output_type": "stream",
     "text": [
      "X = [1, 2, 4]\n",
      "Y = [1, 2, 4]\n"
     ]
    }
   ],
   "source": [
    "print 'X =',X  # Also changes X[]\n",
    "print 'Y =',Y"
   ]
  },
  {
   "cell_type": "code",
   "execution_count": 93,
   "metadata": {
    "ExecuteTime": {
     "end_time": "2018-10-10T22:56:09.384554Z",
     "start_time": "2018-10-10T22:56:09.381000Z"
    }
   },
   "outputs": [],
   "source": [
    "student_ids = [11,11,11,22,33,33,55,66,66,88,99,66,22,78,36,11,22,66]"
   ]
  },
  {
   "cell_type": "markdown",
   "metadata": {
    "deletable": false,
    "editable": false,
    "run_control": {
     "frozen": true
    }
   },
   "source": [
    "* The Counter module contains several frequency helper functions\n",
    "* highlight the word Counter, then hold the shift key and press the TAB key 4 times to see usage examples!"
   ]
  },
  {
   "cell_type": "code",
   "execution_count": 95,
   "metadata": {
    "ExecuteTime": {
     "end_time": "2018-10-10T22:56:30.183246Z",
     "start_time": "2018-10-10T22:56:30.180821Z"
    }
   },
   "outputs": [],
   "source": [
    "id_count = Counter(student_ids)     "
   ]
  },
  {
   "cell_type": "code",
   "execution_count": 96,
   "metadata": {},
   "outputs": [
    {
     "name": "stdout",
     "output_type": "stream",
     "text": [
      "[(66, 4), (11, 4), (22, 3), (33, 2), (99, 1), (36, 1), (78, 1), (55, 1), (88, 1)]\n"
     ]
    }
   ],
   "source": [
    "print id_count.most_common()"
   ]
  },
  {
   "cell_type": "code",
   "execution_count": 97,
   "metadata": {
    "ExecuteTime": {
     "end_time": "2018-10-10T22:57:21.245235Z",
     "start_time": "2018-10-10T22:57:21.239501Z"
    }
   },
   "outputs": [
    {
     "name": "stdout",
     "output_type": "stream",
     "text": [
      "3\n"
     ]
    }
   ],
   "source": [
    "print id_count[22]"
   ]
  },
  {
   "cell_type": "markdown",
   "metadata": {},
   "source": [
    "## Sets\n",
    "- Lists can contain duplicate values.\n",
    "- A set, in contrast, contains no duplicates.\n",
    "- Sets can be created from lists using the set() function."
   ]
  },
  {
   "cell_type": "code",
   "execution_count": null,
   "metadata": {
    "ExecuteTime": {
     "end_time": "2018-10-10T19:44:02.750249Z",
     "start_time": "2018-10-10T19:44:02.746242Z"
    }
   },
   "outputs": [],
   "source": [
    "X = set([1, 2, 2, 2, 3, 3, 4])\n",
    "X"
   ]
  },
  {
   "cell_type": "code",
   "execution_count": null,
   "metadata": {
    "ExecuteTime": {
     "end_time": "2018-10-10T19:47:34.925146Z",
     "start_time": "2018-10-10T19:47:34.920803Z"
    }
   },
   "outputs": [],
   "source": [
    "Y = set([4, 2, 6, 9, 8, 6, 2, 4])\n",
    "Y"
   ]
  },
  {
   "cell_type": "markdown",
   "metadata": {},
   "source": [
    "### Sets are not indexed"
   ]
  },
  {
   "cell_type": "code",
   "execution_count": null,
   "metadata": {
    "ExecuteTime": {
     "end_time": "2018-10-10T19:48:04.795403Z",
     "start_time": "2018-10-10T19:48:04.779572Z"
    }
   },
   "outputs": [],
   "source": [
    "X[0]"
   ]
  },
  {
   "cell_type": "markdown",
   "metadata": {},
   "source": [
    "### Sets can be compared though :)"
   ]
  },
  {
   "cell_type": "code",
   "execution_count": null,
   "metadata": {
    "ExecuteTime": {
     "end_time": "2018-10-10T19:49:23.092194Z",
     "start_time": "2018-10-10T19:49:23.088419Z"
    }
   },
   "outputs": [],
   "source": [
    "X.intersection(Y)"
   ]
  },
  {
   "cell_type": "code",
   "execution_count": null,
   "metadata": {
    "ExecuteTime": {
     "end_time": "2018-10-10T19:50:09.848357Z",
     "start_time": "2018-10-10T19:50:09.841744Z"
    }
   },
   "outputs": [],
   "source": [
    "X & Y"
   ]
  },
  {
   "cell_type": "code",
   "execution_count": null,
   "metadata": {
    "ExecuteTime": {
     "end_time": "2018-10-10T19:50:15.420369Z",
     "start_time": "2018-10-10T19:50:15.415275Z"
    }
   },
   "outputs": [],
   "source": [
    "X - Y"
   ]
  },
  {
   "cell_type": "code",
   "execution_count": null,
   "metadata": {
    "ExecuteTime": {
     "end_time": "2018-10-10T19:50:19.815342Z",
     "start_time": "2018-10-10T19:50:19.811332Z"
    }
   },
   "outputs": [],
   "source": [
    "Y - X"
   ]
  },
  {
   "cell_type": "markdown",
   "metadata": {},
   "source": [
    "## Dictionaries\n",
    "- A Python Dictionary is similar to a JSON object"
   ]
  },
  {
   "cell_type": "code",
   "execution_count": 51,
   "metadata": {
    "ExecuteTime": {
     "end_time": "2018-10-10T23:05:48.449116Z",
     "start_time": "2018-10-10T23:05:48.446015Z"
    }
   },
   "outputs": [],
   "source": [
    "data = {'students':[{'name': \"Amanda\",\n",
    "                    'favorite_color': 'green',\n",
    "                    'favorite_numbers': [3, 7, 9, 13, 24]\n",
    "                    },\n",
    "                    {'name': \"Pete\",\n",
    "                    'favorite_color': 'blue',\n",
    "                    'favorite_numbers': [3, 9]\n",
    "                    },\n",
    "                    {'name': \"Sarah\",\n",
    "                    'favorite_color': 'red',\n",
    "                    'favorite_numbers': [1337, 22, 443]\n",
    "                    },\n",
    "                    {'name': \"Karen\",\n",
    "                    'favorite_color': 'orange',\n",
    "                    'favorite_numbers': [54, 17, 16, 32, 84, 100]\n",
    "                    }]}"
   ]
  },
  {
   "cell_type": "code",
   "execution_count": 52,
   "metadata": {
    "ExecuteTime": {
     "end_time": "2018-10-10T23:05:48.971038Z",
     "start_time": "2018-10-10T23:05:48.965576Z"
    }
   },
   "outputs": [
    {
     "data": {
      "text/plain": [
       "{'students': [{'favorite_color': 'green',\n",
       "   'favorite_numbers': [3, 7, 9, 13, 24],\n",
       "   'name': 'Amanda'},\n",
       "  {'favorite_color': 'blue', 'favorite_numbers': [3, 9], 'name': 'Pete'},\n",
       "  {'favorite_color': 'red',\n",
       "   'favorite_numbers': [1337, 22, 443],\n",
       "   'name': 'Sarah'},\n",
       "  {'favorite_color': 'orange',\n",
       "   'favorite_numbers': [54, 17, 16, 32, 84, 100],\n",
       "   'name': 'Karen'}]}"
      ]
     },
     "execution_count": 52,
     "metadata": {},
     "output_type": "execute_result"
    }
   ],
   "source": [
    "data"
   ]
  },
  {
   "cell_type": "code",
   "execution_count": 53,
   "metadata": {},
   "outputs": [
    {
     "name": "stdout",
     "output_type": "stream",
     "text": [
      "['students']\n"
     ]
    }
   ],
   "source": [
    "print data.keys()"
   ]
  },
  {
   "cell_type": "code",
   "execution_count": 54,
   "metadata": {
    "ExecuteTime": {
     "end_time": "2018-10-10T23:05:52.089512Z",
     "start_time": "2018-10-10T23:05:52.085910Z"
    }
   },
   "outputs": [
    {
     "data": {
      "text/plain": [
       "[{'favorite_color': 'green',\n",
       "  'favorite_numbers': [3, 7, 9, 13, 24],\n",
       "  'name': 'Amanda'},\n",
       " {'favorite_color': 'blue', 'favorite_numbers': [3, 9], 'name': 'Pete'},\n",
       " {'favorite_color': 'red',\n",
       "  'favorite_numbers': [1337, 22, 443],\n",
       "  'name': 'Sarah'},\n",
       " {'favorite_color': 'orange',\n",
       "  'favorite_numbers': [54, 17, 16, 32, 84, 100],\n",
       "  'name': 'Karen'}]"
      ]
     },
     "execution_count": 54,
     "metadata": {},
     "output_type": "execute_result"
    }
   ],
   "source": [
    "data['students']"
   ]
  },
  {
   "cell_type": "code",
   "execution_count": 55,
   "metadata": {},
   "outputs": [
    {
     "data": {
      "text/plain": [
       "{'favorite_color': 'green',\n",
       " 'favorite_numbers': [3, 7, 9, 13, 24],\n",
       " 'name': 'Amanda'}"
      ]
     },
     "execution_count": 55,
     "metadata": {},
     "output_type": "execute_result"
    }
   ],
   "source": [
    "data['students'][0]"
   ]
  },
  {
   "cell_type": "code",
   "execution_count": 56,
   "metadata": {},
   "outputs": [
    {
     "data": {
      "text/plain": [
       "['favorite_color', 'name', 'favorite_numbers']"
      ]
     },
     "execution_count": 56,
     "metadata": {},
     "output_type": "execute_result"
    }
   ],
   "source": [
    "data['students'][0].keys()"
   ]
  },
  {
   "cell_type": "code",
   "execution_count": 57,
   "metadata": {},
   "outputs": [
    {
     "data": {
      "text/plain": [
       "'Amanda'"
      ]
     },
     "execution_count": 57,
     "metadata": {},
     "output_type": "execute_result"
    }
   ],
   "source": [
    "data['students'][0]['name']"
   ]
  },
  {
   "cell_type": "code",
   "execution_count": 58,
   "metadata": {
    "ExecuteTime": {
     "end_time": "2018-10-10T20:18:04.792602Z",
     "start_time": "2018-10-10T20:18:04.784813Z"
    }
   },
   "outputs": [
    {
     "data": {
      "text/plain": [
       "'green'"
      ]
     },
     "execution_count": 58,
     "metadata": {},
     "output_type": "execute_result"
    }
   ],
   "source": [
    "data['students'][0]['favorite_color']"
   ]
  },
  {
   "cell_type": "code",
   "execution_count": 59,
   "metadata": {},
   "outputs": [
    {
     "data": {
      "text/plain": [
       "[3, 7, 9, 13, 24]"
      ]
     },
     "execution_count": 59,
     "metadata": {},
     "output_type": "execute_result"
    }
   ],
   "source": [
    "data['students'][0]['favorite_numbers']"
   ]
  },
  {
   "cell_type": "code",
   "execution_count": 60,
   "metadata": {
    "ExecuteTime": {
     "end_time": "2018-10-10T23:07:24.874212Z",
     "start_time": "2018-10-10T23:07:24.866534Z"
    }
   },
   "outputs": [
    {
     "data": {
      "text/plain": [
       "{'students': [{'favorite_color': 'green',\n",
       "   'favorite_numbers': [3, 7, 9, 13, 24],\n",
       "   'name': 'Amanda'},\n",
       "  {'favorite_color': 'blue', 'favorite_numbers': [3, 9], 'name': 'Steve Jobs'},\n",
       "  {'favorite_color': 'red',\n",
       "   'favorite_numbers': [1337, 22, 443],\n",
       "   'name': 'Sarah'},\n",
       "  {'favorite_color': 'orange',\n",
       "   'favorite_numbers': [54, 17, 16, 32, 84, 100],\n",
       "   'name': 'Karen'}]}"
      ]
     },
     "execution_count": 60,
     "metadata": {},
     "output_type": "execute_result"
    }
   ],
   "source": [
    "data['students'][1]['name'] = 'Steve Jobs'\n",
    "data"
   ]
  },
  {
   "cell_type": "markdown",
   "metadata": {},
   "source": [
    "Sometimes it helps to examine an object with a different view.\n",
    "* `lolviz` is one of many packages that can do just that "
   ]
  },
  {
   "cell_type": "code",
   "execution_count": 61,
   "metadata": {},
   "outputs": [
    {
     "data": {
      "image/svg+xml": [
       "<?xml version=\"1.0\" encoding=\"UTF-8\" standalone=\"no\"?>\n",
       "<!DOCTYPE svg PUBLIC \"-//W3C//DTD SVG 1.1//EN\"\n",
       " \"http://www.w3.org/Graphics/SVG/1.1/DTD/svg11.dtd\">\n",
       "<!-- Generated by graphviz version 2.40.1 (20161225.0304)\n",
       " -->\n",
       "<!-- Title: G Pages: 1 -->\n",
       "<svg width=\"454pt\" height=\"236pt\"\n",
       " viewBox=\"0.00 0.00 454.00 236.00\" xmlns=\"http://www.w3.org/2000/svg\" xmlns:xlink=\"http://www.w3.org/1999/xlink\">\n",
       "<g id=\"graph0\" class=\"graph\" transform=\"scale(1 1) rotate(0) translate(4 232)\">\n",
       "<title>G</title>\n",
       "<polygon fill=\"#ffffff\" stroke=\"transparent\" points=\"-4,4 -4,-232 450,-232 450,4 -4,4\"/>\n",
       "<!-- node140687599781880 -->\n",
       "<g id=\"node1\" class=\"node\">\n",
       "<title>node140687599781880</title>\n",
       "<polygon fill=\"#fefecd\" stroke=\"#444443\" stroke-width=\".5\" points=\"78,-126 0,-126 0,-108 78,-108 78,-126\"/>\n",
       "<polygon fill=\"#fefecd\" stroke=\"transparent\" points=\"2,-110 2,-124 51,-124 51,-110 2,-110\"/>\n",
       "<text text-anchor=\"start\" x=\"2\" y=\"-114.2\" font-family=\"Helvetica,sans-Serif\" font-size=\"11.00\" fill=\"#444443\">&#39;students&#39; </text>\n",
       "<text text-anchor=\"start\" x=\"51\" y=\"-112.8\" font-family=\"Helvetica,sans-Serif\" font-size=\"9.00\" fill=\"#444443\">→</text>\n",
       "<polygon fill=\"#fefecd\" stroke=\"transparent\" points=\"61,-110 61,-124 76,-124 76,-110 61,-110\"/>\n",
       "<text text-anchor=\"start\" x=\"62\" y=\"-114.2\" font-family=\"Helvetica,sans-Serif\" font-size=\"11.00\" fill=\"#444443\"> &#160;&#160;&#160;</text>\n",
       "</g>\n",
       "<!-- node140687613607016 -->\n",
       "<g id=\"node2\" class=\"node\">\n",
       "<title>node140687613607016</title>\n",
       "<polygon fill=\"#cfe2d4\" stroke=\"#444443\" stroke-width=\".5\" points=\"114,-150 100,-150 100,-84 114,-84 114,-150\"/>\n",
       "<polygon fill=\"#cfe2d4\" stroke=\"transparent\" points=\"101,-133 101,-149 113,-149 113,-133 101,-133\"/>\n",
       "<polyline fill=\"none\" stroke=\"#444443\" points=\"101,-133 113,-133 \"/>\n",
       "<text text-anchor=\"start\" x=\"104\" y=\"-138.8\" font-family=\"Helvetica,sans-Serif\" font-size=\"9.00\" fill=\"#444443\">0</text>\n",
       "<polygon fill=\"#cfe2d4\" stroke=\"transparent\" points=\"101,-117 101,-133 113,-133 113,-117 101,-117\"/>\n",
       "<polyline fill=\"none\" stroke=\"#444443\" points=\"101,-117 113,-117 \"/>\n",
       "<text text-anchor=\"start\" x=\"104\" y=\"-122.8\" font-family=\"Helvetica,sans-Serif\" font-size=\"9.00\" fill=\"#444443\">1</text>\n",
       "<polygon fill=\"#cfe2d4\" stroke=\"transparent\" points=\"101,-101 101,-117 113,-117 113,-101 101,-101\"/>\n",
       "<polyline fill=\"none\" stroke=\"#444443\" points=\"101,-101 113,-101 \"/>\n",
       "<text text-anchor=\"start\" x=\"104\" y=\"-106.8\" font-family=\"Helvetica,sans-Serif\" font-size=\"9.00\" fill=\"#444443\">2</text>\n",
       "<polygon fill=\"#cfe2d4\" stroke=\"transparent\" points=\"101,-85 101,-101 113,-101 113,-85 101,-85\"/>\n",
       "<text text-anchor=\"start\" x=\"104\" y=\"-90.8\" font-family=\"Helvetica,sans-Serif\" font-size=\"9.00\" fill=\"#444443\">3</text>\n",
       "</g>\n",
       "<!-- node140687599781880&#45;&gt;node140687613607016 -->\n",
       "<g id=\"edge1\" class=\"edge\">\n",
       "<title>node140687599781880:c&#45;&gt;node140687613607016</title>\n",
       "<path fill=\"none\" stroke=\"#444443\" stroke-width=\".5\" d=\"M72.2399,-117C77.3351,-117 87.4664,-117 95.4827,-117\"/>\n",
       "<ellipse fill=\"#444443\" stroke=\"#444443\" stroke-width=\".5\" cx=\"70.6\" cy=\"-117\" rx=\"1.6\" ry=\"1.6\"/>\n",
       "<polygon fill=\"#444443\" stroke=\"#444443\" stroke-width=\".5\" points=\"95.6733,-118.4001 99.6732,-117 95.6732,-115.6001 95.6733,-118.4001\"/>\n",
       "</g>\n",
       "<!-- node140687599782160 -->\n",
       "<g id=\"node3\" class=\"node\">\n",
       "<title>node140687599782160</title>\n",
       "<polygon fill=\"#fefecd\" stroke=\"#444443\" stroke-width=\".5\" points=\"298,-228 142,-228 142,-178 298,-178 298,-228\"/>\n",
       "<polygon fill=\"#fefecd\" stroke=\"transparent\" points=\"144,-212 144,-226 235,-226 235,-212 144,-212\"/>\n",
       "<text text-anchor=\"start\" x=\"162\" y=\"-216.2\" font-family=\"Helvetica,sans-Serif\" font-size=\"11.00\" fill=\"#444443\">&#39;favorite_color&#39; </text>\n",
       "<text text-anchor=\"start\" x=\"235\" y=\"-214.8\" font-family=\"Helvetica,sans-Serif\" font-size=\"9.00\" fill=\"#444443\">→</text>\n",
       "<polygon fill=\"#fefecd\" stroke=\"transparent\" points=\"245,-212 245,-226 296,-226 296,-212 245,-212\"/>\n",
       "<text text-anchor=\"start\" x=\"246\" y=\"-216.2\" font-family=\"Helvetica,sans-Serif\" font-size=\"11.00\" fill=\"#444443\"> &#39;green&#39;</text>\n",
       "<polygon fill=\"#fefecd\" stroke=\"transparent\" points=\"144,-210 144,-212 296,-212 296,-210 144,-210\"/>\n",
       "<polygon fill=\"#fefecd\" stroke=\"transparent\" points=\"144,-196 144,-210 235,-210 235,-196 144,-196\"/>\n",
       "<text text-anchor=\"start\" x=\"200\" y=\"-200.2\" font-family=\"Helvetica,sans-Serif\" font-size=\"11.00\" fill=\"#444443\">&#39;name&#39; </text>\n",
       "<text text-anchor=\"start\" x=\"235\" y=\"-198.8\" font-family=\"Helvetica,sans-Serif\" font-size=\"9.00\" fill=\"#444443\">→</text>\n",
       "<polygon fill=\"#fefecd\" stroke=\"transparent\" points=\"245,-196 245,-210 296,-210 296,-196 245,-196\"/>\n",
       "<text text-anchor=\"start\" x=\"246\" y=\"-200.2\" font-family=\"Helvetica,sans-Serif\" font-size=\"11.00\" fill=\"#444443\"> &#39;Amanda&#39;</text>\n",
       "<polygon fill=\"#fefecd\" stroke=\"transparent\" points=\"144,-194 144,-196 296,-196 296,-194 144,-194\"/>\n",
       "<polygon fill=\"#fefecd\" stroke=\"transparent\" points=\"144,-180 144,-194 235,-194 235,-180 144,-180\"/>\n",
       "<text text-anchor=\"start\" x=\"144\" y=\"-184.2\" font-family=\"Helvetica,sans-Serif\" font-size=\"11.00\" fill=\"#444443\">&#39;favorite_numbers&#39; </text>\n",
       "<text text-anchor=\"start\" x=\"235\" y=\"-182.8\" font-family=\"Helvetica,sans-Serif\" font-size=\"9.00\" fill=\"#444443\">→</text>\n",
       "<polygon fill=\"#fefecd\" stroke=\"transparent\" points=\"245,-180 245,-194 296,-194 296,-180 245,-180\"/>\n",
       "<text text-anchor=\"start\" x=\"246\" y=\"-184.2\" font-family=\"Helvetica,sans-Serif\" font-size=\"11.00\" fill=\"#444443\"> &#160;&#160;&#160;</text>\n",
       "</g>\n",
       "<!-- node140687613607016&#45;&gt;node140687599782160 -->\n",
       "<g id=\"edge2\" class=\"edge\">\n",
       "<title>node140687613607016:0&#45;&gt;node140687599782160:w</title>\n",
       "<path fill=\"none\" stroke=\"#444443\" stroke-width=\".5\" d=\"M113,-141C141.8761,-141 114.6525,-196.863 137.8309,-202.5366\"/>\n",
       "<polygon fill=\"#444443\" stroke=\"#444443\" stroke-width=\".5\" points=\"137.8698,-203.9495 142,-203 138.1792,-201.1666 137.8698,-203.9495\"/>\n",
       "</g>\n",
       "<!-- node140687599783560 -->\n",
       "<g id=\"node5\" class=\"node\">\n",
       "<title>node140687599783560</title>\n",
       "<polygon fill=\"#fefecd\" stroke=\"#444443\" stroke-width=\".5\" points=\"304,-171 136,-171 136,-121 304,-121 304,-171\"/>\n",
       "<polygon fill=\"#fefecd\" stroke=\"transparent\" points=\"138,-155 138,-169 229,-169 229,-155 138,-155\"/>\n",
       "<text text-anchor=\"start\" x=\"156\" y=\"-159.2\" font-family=\"Helvetica,sans-Serif\" font-size=\"11.00\" fill=\"#444443\">&#39;favorite_color&#39; </text>\n",
       "<text text-anchor=\"start\" x=\"229\" y=\"-157.8\" font-family=\"Helvetica,sans-Serif\" font-size=\"9.00\" fill=\"#444443\">→</text>\n",
       "<polygon fill=\"#fefecd\" stroke=\"transparent\" points=\"239,-155 239,-169 302,-169 302,-155 239,-155\"/>\n",
       "<text text-anchor=\"start\" x=\"240\" y=\"-159.2\" font-family=\"Helvetica,sans-Serif\" font-size=\"11.00\" fill=\"#444443\"> &#39;blue&#39;</text>\n",
       "<polygon fill=\"#fefecd\" stroke=\"transparent\" points=\"138,-153 138,-155 302,-155 302,-153 138,-153\"/>\n",
       "<polygon fill=\"#fefecd\" stroke=\"transparent\" points=\"138,-139 138,-153 229,-153 229,-139 138,-139\"/>\n",
       "<text text-anchor=\"start\" x=\"194\" y=\"-143.2\" font-family=\"Helvetica,sans-Serif\" font-size=\"11.00\" fill=\"#444443\">&#39;name&#39; </text>\n",
       "<text text-anchor=\"start\" x=\"229\" y=\"-141.8\" font-family=\"Helvetica,sans-Serif\" font-size=\"9.00\" fill=\"#444443\">→</text>\n",
       "<polygon fill=\"#fefecd\" stroke=\"transparent\" points=\"239,-139 239,-153 302,-153 302,-139 239,-139\"/>\n",
       "<text text-anchor=\"start\" x=\"240\" y=\"-143.2\" font-family=\"Helvetica,sans-Serif\" font-size=\"11.00\" fill=\"#444443\"> &#39;Steve Jobs&#39;</text>\n",
       "<polygon fill=\"#fefecd\" stroke=\"transparent\" points=\"138,-137 138,-139 302,-139 302,-137 138,-137\"/>\n",
       "<polygon fill=\"#fefecd\" stroke=\"transparent\" points=\"138,-123 138,-137 229,-137 229,-123 138,-123\"/>\n",
       "<text text-anchor=\"start\" x=\"138\" y=\"-127.2\" font-family=\"Helvetica,sans-Serif\" font-size=\"11.00\" fill=\"#444443\">&#39;favorite_numbers&#39; </text>\n",
       "<text text-anchor=\"start\" x=\"229\" y=\"-125.8\" font-family=\"Helvetica,sans-Serif\" font-size=\"9.00\" fill=\"#444443\">→</text>\n",
       "<polygon fill=\"#fefecd\" stroke=\"transparent\" points=\"239,-123 239,-137 302,-137 302,-123 239,-123\"/>\n",
       "<text text-anchor=\"start\" x=\"240\" y=\"-127.2\" font-family=\"Helvetica,sans-Serif\" font-size=\"11.00\" fill=\"#444443\"> &#160;&#160;&#160;</text>\n",
       "</g>\n",
       "<!-- node140687613607016&#45;&gt;node140687599783560 -->\n",
       "<g id=\"edge3\" class=\"edge\">\n",
       "<title>node140687613607016:1&#45;&gt;node140687599783560:w</title>\n",
       "<path fill=\"none\" stroke=\"#444443\" stroke-width=\".5\" d=\"M113,-125C125.1119,-125 123.0395,-141.0781 131.6053,-145.0977\"/>\n",
       "<polygon fill=\"#444443\" stroke=\"#444443\" stroke-width=\".5\" points=\"131.8001,-146.5668 136,-146 132.3633,-143.824 131.8001,-146.5668\"/>\n",
       "</g>\n",
       "<!-- node140687599782720 -->\n",
       "<g id=\"node7\" class=\"node\">\n",
       "<title>node140687599782720</title>\n",
       "<polygon fill=\"#fefecd\" stroke=\"#444443\" stroke-width=\".5\" points=\"292,-114 148,-114 148,-64 292,-64 292,-114\"/>\n",
       "<polygon fill=\"#fefecd\" stroke=\"transparent\" points=\"150,-98 150,-112 241,-112 241,-98 150,-98\"/>\n",
       "<text text-anchor=\"start\" x=\"168\" y=\"-102.2\" font-family=\"Helvetica,sans-Serif\" font-size=\"11.00\" fill=\"#444443\">&#39;favorite_color&#39; </text>\n",
       "<text text-anchor=\"start\" x=\"241\" y=\"-100.8\" font-family=\"Helvetica,sans-Serif\" font-size=\"9.00\" fill=\"#444443\">→</text>\n",
       "<polygon fill=\"#fefecd\" stroke=\"transparent\" points=\"251,-98 251,-112 290,-112 290,-98 251,-98\"/>\n",
       "<text text-anchor=\"start\" x=\"252\" y=\"-102.2\" font-family=\"Helvetica,sans-Serif\" font-size=\"11.00\" fill=\"#444443\"> &#39;red&#39;</text>\n",
       "<polygon fill=\"#fefecd\" stroke=\"transparent\" points=\"150,-96 150,-98 290,-98 290,-96 150,-96\"/>\n",
       "<polygon fill=\"#fefecd\" stroke=\"transparent\" points=\"150,-82 150,-96 241,-96 241,-82 150,-82\"/>\n",
       "<text text-anchor=\"start\" x=\"206\" y=\"-86.2\" font-family=\"Helvetica,sans-Serif\" font-size=\"11.00\" fill=\"#444443\">&#39;name&#39; </text>\n",
       "<text text-anchor=\"start\" x=\"241\" y=\"-84.8\" font-family=\"Helvetica,sans-Serif\" font-size=\"9.00\" fill=\"#444443\">→</text>\n",
       "<polygon fill=\"#fefecd\" stroke=\"transparent\" points=\"251,-82 251,-96 290,-96 290,-82 251,-82\"/>\n",
       "<text text-anchor=\"start\" x=\"252\" y=\"-86.2\" font-family=\"Helvetica,sans-Serif\" font-size=\"11.00\" fill=\"#444443\"> &#39;Sarah&#39;</text>\n",
       "<polygon fill=\"#fefecd\" stroke=\"transparent\" points=\"150,-80 150,-82 290,-82 290,-80 150,-80\"/>\n",
       "<polygon fill=\"#fefecd\" stroke=\"transparent\" points=\"150,-66 150,-80 241,-80 241,-66 150,-66\"/>\n",
       "<text text-anchor=\"start\" x=\"150\" y=\"-70.2\" font-family=\"Helvetica,sans-Serif\" font-size=\"11.00\" fill=\"#444443\">&#39;favorite_numbers&#39; </text>\n",
       "<text text-anchor=\"start\" x=\"241\" y=\"-68.8\" font-family=\"Helvetica,sans-Serif\" font-size=\"9.00\" fill=\"#444443\">→</text>\n",
       "<polygon fill=\"#fefecd\" stroke=\"transparent\" points=\"251,-66 251,-80 290,-80 290,-66 251,-66\"/>\n",
       "<text text-anchor=\"start\" x=\"252\" y=\"-70.2\" font-family=\"Helvetica,sans-Serif\" font-size=\"11.00\" fill=\"#444443\"> &#160;&#160;&#160;</text>\n",
       "</g>\n",
       "<!-- node140687613607016&#45;&gt;node140687599782720 -->\n",
       "<g id=\"edge4\" class=\"edge\">\n",
       "<title>node140687613607016:2&#45;&gt;node140687599782720:w</title>\n",
       "<path fill=\"none\" stroke=\"#444443\" stroke-width=\".5\" d=\"M113,-109C129.3765,-109 130.0885,-92.2898 143.7726,-89.4177\"/>\n",
       "<polygon fill=\"#444443\" stroke=\"#444443\" stroke-width=\".5\" points=\"144.1571,-90.7866 148,-89 143.8817,-88.0002 144.1571,-90.7866\"/>\n",
       "</g>\n",
       "<!-- node140687599783280 -->\n",
       "<g id=\"node9\" class=\"node\">\n",
       "<title>node140687599783280</title>\n",
       "<polygon fill=\"#fefecd\" stroke=\"#444443\" stroke-width=\".5\" points=\"294.5,-57 145.5,-57 145.5,-7 294.5,-7 294.5,-57\"/>\n",
       "<polygon fill=\"#fefecd\" stroke=\"transparent\" points=\"148,-41 148,-55 239,-55 239,-41 148,-41\"/>\n",
       "<text text-anchor=\"start\" x=\"166\" y=\"-45.2\" font-family=\"Helvetica,sans-Serif\" font-size=\"11.00\" fill=\"#444443\">&#39;favorite_color&#39; </text>\n",
       "<text text-anchor=\"start\" x=\"239\" y=\"-43.8\" font-family=\"Helvetica,sans-Serif\" font-size=\"9.00\" fill=\"#444443\">→</text>\n",
       "<polygon fill=\"#fefecd\" stroke=\"transparent\" points=\"249,-41 249,-55 293,-55 293,-41 249,-41\"/>\n",
       "<text text-anchor=\"start\" x=\"250\" y=\"-45.2\" font-family=\"Helvetica,sans-Serif\" font-size=\"11.00\" fill=\"#444443\"> &#39;orange&#39;</text>\n",
       "<polygon fill=\"#fefecd\" stroke=\"transparent\" points=\"148,-39 148,-41 293,-41 293,-39 148,-39\"/>\n",
       "<polygon fill=\"#fefecd\" stroke=\"transparent\" points=\"148,-25 148,-39 239,-39 239,-25 148,-25\"/>\n",
       "<text text-anchor=\"start\" x=\"204\" y=\"-29.2\" font-family=\"Helvetica,sans-Serif\" font-size=\"11.00\" fill=\"#444443\">&#39;name&#39; </text>\n",
       "<text text-anchor=\"start\" x=\"239\" y=\"-27.8\" font-family=\"Helvetica,sans-Serif\" font-size=\"9.00\" fill=\"#444443\">→</text>\n",
       "<polygon fill=\"#fefecd\" stroke=\"transparent\" points=\"249,-25 249,-39 293,-39 293,-25 249,-25\"/>\n",
       "<text text-anchor=\"start\" x=\"250\" y=\"-29.2\" font-family=\"Helvetica,sans-Serif\" font-size=\"11.00\" fill=\"#444443\"> &#39;Karen&#39;</text>\n",
       "<polygon fill=\"#fefecd\" stroke=\"transparent\" points=\"148,-23 148,-25 293,-25 293,-23 148,-23\"/>\n",
       "<polygon fill=\"#fefecd\" stroke=\"transparent\" points=\"148,-9 148,-23 239,-23 239,-9 148,-9\"/>\n",
       "<text text-anchor=\"start\" x=\"148\" y=\"-13.2\" font-family=\"Helvetica,sans-Serif\" font-size=\"11.00\" fill=\"#444443\">&#39;favorite_numbers&#39; </text>\n",
       "<text text-anchor=\"start\" x=\"239\" y=\"-11.8\" font-family=\"Helvetica,sans-Serif\" font-size=\"9.00\" fill=\"#444443\">→</text>\n",
       "<polygon fill=\"#fefecd\" stroke=\"transparent\" points=\"249,-9 249,-23 293,-23 293,-9 249,-9\"/>\n",
       "<text text-anchor=\"start\" x=\"250\" y=\"-13.2\" font-family=\"Helvetica,sans-Serif\" font-size=\"11.00\" fill=\"#444443\"> &#160;&#160;&#160;</text>\n",
       "</g>\n",
       "<!-- node140687613607016&#45;&gt;node140687599783280 -->\n",
       "<g id=\"edge5\" class=\"edge\">\n",
       "<title>node140687613607016:3&#45;&gt;node140687599783280:w</title>\n",
       "<path fill=\"none\" stroke=\"#444443\" stroke-width=\".5\" d=\"M113,-93C142.2588,-93 117.9321,-38.038 141.7487,-32.4559\"/>\n",
       "<polygon fill=\"#444443\" stroke=\"#444443\" stroke-width=\".5\" points=\"142.1721,-33.8186 146,-32 141.8735,-31.0346 142.1721,-33.8186\"/>\n",
       "</g>\n",
       "<!-- node140687599208136 -->\n",
       "<g id=\"node4\" class=\"node\">\n",
       "<title>node140687599208136</title>\n",
       "<polygon fill=\"none\" stroke=\"#000000\" stroke-width=\".5\" points=\"424.5,-203 347.5,-203 347.5,-171 424.5,-171 424.5,-203\"/>\n",
       "<polygon fill=\"#fefecd\" stroke=\"transparent\" points=\"349,-190 349,-202 362,-202 362,-190 349,-190\"/>\n",
       "<polyline fill=\"none\" stroke=\"#000000\" points=\"349,-190 362,-190 362,-202 \"/>\n",
       "<text text-anchor=\"start\" x=\"352.5\" y=\"-193.8\" font-family=\"Helvetica,sans-Serif\" font-size=\"9.00\" fill=\"#444443\">0</text>\n",
       "<polygon fill=\"#fefecd\" stroke=\"transparent\" points=\"362,-190 362,-202 375,-202 375,-190 362,-190\"/>\n",
       "<polyline fill=\"none\" stroke=\"#000000\" points=\"362,-190 375,-190 375,-202 \"/>\n",
       "<text text-anchor=\"start\" x=\"365.5\" y=\"-193.8\" font-family=\"Helvetica,sans-Serif\" font-size=\"9.00\" fill=\"#444443\">1</text>\n",
       "<polygon fill=\"#fefecd\" stroke=\"transparent\" points=\"375,-190 375,-202 388,-202 388,-190 375,-190\"/>\n",
       "<polyline fill=\"none\" stroke=\"#000000\" points=\"375,-190 388,-190 388,-202 \"/>\n",
       "<text text-anchor=\"start\" x=\"378.5\" y=\"-193.8\" font-family=\"Helvetica,sans-Serif\" font-size=\"9.00\" fill=\"#444443\">2</text>\n",
       "<polygon fill=\"#fefecd\" stroke=\"transparent\" points=\"388,-190 388,-202 407,-202 407,-190 388,-190\"/>\n",
       "<polyline fill=\"none\" stroke=\"#000000\" points=\"388,-190 407,-190 407,-202 \"/>\n",
       "<text text-anchor=\"start\" x=\"394.5\" y=\"-193.8\" font-family=\"Helvetica,sans-Serif\" font-size=\"9.00\" fill=\"#444443\">3</text>\n",
       "<polygon fill=\"#fefecd\" stroke=\"transparent\" points=\"407,-190 407,-202 424,-202 424,-190 407,-190\"/>\n",
       "<polyline fill=\"none\" stroke=\"#000000\" points=\"407,-190 424,-190 \"/>\n",
       "<text text-anchor=\"start\" x=\"412.5\" y=\"-193.8\" font-family=\"Helvetica,sans-Serif\" font-size=\"9.00\" fill=\"#444443\">4</text>\n",
       "<polygon fill=\"#fefecd\" stroke=\"transparent\" points=\"349,-172 349,-190 362,-190 362,-172 349,-172\"/>\n",
       "<polyline fill=\"none\" stroke=\"#000000\" points=\"362,-172 362,-190 \"/>\n",
       "<text text-anchor=\"start\" x=\"352\" y=\"-178.2\" font-family=\"Helvetica,sans-Serif\" font-size=\"11.00\" fill=\"#444443\">3</text>\n",
       "<polygon fill=\"#fefecd\" stroke=\"transparent\" points=\"362,-172 362,-190 375,-190 375,-172 362,-172\"/>\n",
       "<polyline fill=\"none\" stroke=\"#000000\" points=\"375,-172 375,-190 \"/>\n",
       "<text text-anchor=\"start\" x=\"365\" y=\"-178.2\" font-family=\"Helvetica,sans-Serif\" font-size=\"11.00\" fill=\"#444443\">7</text>\n",
       "<polygon fill=\"#fefecd\" stroke=\"transparent\" points=\"375,-172 375,-190 388,-190 388,-172 375,-172\"/>\n",
       "<polyline fill=\"none\" stroke=\"#000000\" points=\"388,-172 388,-190 \"/>\n",
       "<text text-anchor=\"start\" x=\"378\" y=\"-178.2\" font-family=\"Helvetica,sans-Serif\" font-size=\"11.00\" fill=\"#444443\">9</text>\n",
       "<polygon fill=\"#fefecd\" stroke=\"transparent\" points=\"388,-172 388,-190 407,-190 407,-172 388,-172\"/>\n",
       "<polyline fill=\"none\" stroke=\"#000000\" points=\"407,-172 407,-190 \"/>\n",
       "<text text-anchor=\"start\" x=\"391\" y=\"-178.2\" font-family=\"Helvetica,sans-Serif\" font-size=\"11.00\" fill=\"#444443\">13</text>\n",
       "<polygon fill=\"#fefecd\" stroke=\"transparent\" points=\"407,-172 407,-190 424,-190 424,-172 407,-172\"/>\n",
       "<text text-anchor=\"start\" x=\"409\" y=\"-178.2\" font-family=\"Helvetica,sans-Serif\" font-size=\"11.00\" fill=\"#444443\">24</text>\n",
       "</g>\n",
       "<!-- node140687599782160&#45;&gt;node140687599208136 -->\n",
       "<g id=\"edge6\" class=\"edge\">\n",
       "<title>node140687599782160:c&#45;&gt;node140687599208136</title>\n",
       "<path fill=\"none\" stroke=\"#444443\" stroke-width=\".5\" d=\"M274.2384,-187C284.306,-187 316.0055,-187 343.0844,-187\"/>\n",
       "<ellipse fill=\"#444443\" stroke=\"#444443\" stroke-width=\".5\" cx=\"272.6\" cy=\"-187\" rx=\"1.6\" ry=\"1.6\"/>\n",
       "<polygon fill=\"#444443\" stroke=\"#444443\" stroke-width=\".5\" points=\"343.3868,-188.4001 347.3867,-187 343.3867,-185.6001 343.3868,-188.4001\"/>\n",
       "</g>\n",
       "<!-- node140687599208208 -->\n",
       "<g id=\"node6\" class=\"node\">\n",
       "<title>node140687599208208</title>\n",
       "<polygon fill=\"none\" stroke=\"#000000\" stroke-width=\".5\" points=\"399,-146 373,-146 373,-114 399,-114 399,-146\"/>\n",
       "<polygon fill=\"#fefecd\" stroke=\"transparent\" points=\"374,-133 374,-145 387,-145 387,-133 374,-133\"/>\n",
       "<polyline fill=\"none\" stroke=\"#000000\" points=\"374,-133 387,-133 387,-145 \"/>\n",
       "<text text-anchor=\"start\" x=\"377.5\" y=\"-136.8\" font-family=\"Helvetica,sans-Serif\" font-size=\"9.00\" fill=\"#444443\">0</text>\n",
       "<polygon fill=\"#fefecd\" stroke=\"transparent\" points=\"387,-133 387,-145 398,-145 398,-133 387,-133\"/>\n",
       "<polyline fill=\"none\" stroke=\"#000000\" points=\"387,-133 398,-133 \"/>\n",
       "<text text-anchor=\"start\" x=\"389.5\" y=\"-136.8\" font-family=\"Helvetica,sans-Serif\" font-size=\"9.00\" fill=\"#444443\">1</text>\n",
       "<polygon fill=\"#fefecd\" stroke=\"transparent\" points=\"374,-115 374,-133 387,-133 387,-115 374,-115\"/>\n",
       "<polyline fill=\"none\" stroke=\"#000000\" points=\"387,-115 387,-133 \"/>\n",
       "<text text-anchor=\"start\" x=\"377\" y=\"-121.2\" font-family=\"Helvetica,sans-Serif\" font-size=\"11.00\" fill=\"#444443\">3</text>\n",
       "<polygon fill=\"#fefecd\" stroke=\"transparent\" points=\"387,-115 387,-133 398,-133 398,-115 387,-115\"/>\n",
       "<text text-anchor=\"start\" x=\"389\" y=\"-121.2\" font-family=\"Helvetica,sans-Serif\" font-size=\"11.00\" fill=\"#444443\">9</text>\n",
       "</g>\n",
       "<!-- node140687599783560&#45;&gt;node140687599208208 -->\n",
       "<g id=\"edge7\" class=\"edge\">\n",
       "<title>node140687599783560:c&#45;&gt;node140687599208208</title>\n",
       "<path fill=\"none\" stroke=\"#444443\" stroke-width=\".5\" d=\"M274.5242,-130C288.5392,-130 340.9009,-130 368.5862,-130\"/>\n",
       "<ellipse fill=\"#444443\" stroke=\"#444443\" stroke-width=\".5\" cx=\"272.6\" cy=\"-130\" rx=\"1.6\" ry=\"1.6\"/>\n",
       "<polygon fill=\"#444443\" stroke=\"#444443\" stroke-width=\".5\" points=\"368.8081,-131.4001 372.808,-130 368.808,-128.6001 368.8081,-131.4001\"/>\n",
       "</g>\n",
       "<!-- node140687599209720 -->\n",
       "<g id=\"node8\" class=\"node\">\n",
       "<title>node140687599209720</title>\n",
       "<polygon fill=\"none\" stroke=\"#000000\" stroke-width=\".5\" points=\"423.5,-89 348.5,-89 348.5,-57 423.5,-57 423.5,-89\"/>\n",
       "<polygon fill=\"#fefecd\" stroke=\"transparent\" points=\"350,-76 350,-88 381,-88 381,-76 350,-76\"/>\n",
       "<polyline fill=\"none\" stroke=\"#000000\" points=\"350,-76 381,-76 381,-88 \"/>\n",
       "<text text-anchor=\"start\" x=\"362.5\" y=\"-79.8\" font-family=\"Helvetica,sans-Serif\" font-size=\"9.00\" fill=\"#444443\">0</text>\n",
       "<polygon fill=\"#fefecd\" stroke=\"transparent\" points=\"381,-76 381,-88 400,-88 400,-76 381,-76\"/>\n",
       "<polyline fill=\"none\" stroke=\"#000000\" points=\"381,-76 400,-76 400,-88 \"/>\n",
       "<text text-anchor=\"start\" x=\"387.5\" y=\"-79.8\" font-family=\"Helvetica,sans-Serif\" font-size=\"9.00\" fill=\"#444443\">1</text>\n",
       "<polygon fill=\"#fefecd\" stroke=\"transparent\" points=\"400,-76 400,-88 423,-88 423,-76 400,-76\"/>\n",
       "<polyline fill=\"none\" stroke=\"#000000\" points=\"400,-76 423,-76 \"/>\n",
       "<text text-anchor=\"start\" x=\"408.5\" y=\"-79.8\" font-family=\"Helvetica,sans-Serif\" font-size=\"9.00\" fill=\"#444443\">2</text>\n",
       "<polygon fill=\"#fefecd\" stroke=\"transparent\" points=\"350,-58 350,-76 381,-76 381,-58 350,-58\"/>\n",
       "<polyline fill=\"none\" stroke=\"#000000\" points=\"381,-58 381,-76 \"/>\n",
       "<text text-anchor=\"start\" x=\"353\" y=\"-64.2\" font-family=\"Helvetica,sans-Serif\" font-size=\"11.00\" fill=\"#444443\">1337</text>\n",
       "<polygon fill=\"#fefecd\" stroke=\"transparent\" points=\"381,-58 381,-76 400,-76 400,-58 381,-58\"/>\n",
       "<polyline fill=\"none\" stroke=\"#000000\" points=\"400,-58 400,-76 \"/>\n",
       "<text text-anchor=\"start\" x=\"384\" y=\"-64.2\" font-family=\"Helvetica,sans-Serif\" font-size=\"11.00\" fill=\"#444443\">22</text>\n",
       "<polygon fill=\"#fefecd\" stroke=\"transparent\" points=\"400,-58 400,-76 423,-76 423,-58 400,-58\"/>\n",
       "<text text-anchor=\"start\" x=\"402\" y=\"-64.2\" font-family=\"Helvetica,sans-Serif\" font-size=\"11.00\" fill=\"#444443\">443</text>\n",
       "</g>\n",
       "<!-- node140687599782720&#45;&gt;node140687599209720 -->\n",
       "<g id=\"edge8\" class=\"edge\">\n",
       "<title>node140687599782720:c&#45;&gt;node140687599209720</title>\n",
       "<path fill=\"none\" stroke=\"#444443\" stroke-width=\".5\" d=\"M274.2985,-73C284.5491,-73 316.7952,-73 344.0222,-73\"/>\n",
       "<ellipse fill=\"#444443\" stroke=\"#444443\" stroke-width=\".5\" cx=\"272.6\" cy=\"-73\" rx=\"1.6\" ry=\"1.6\"/>\n",
       "<polygon fill=\"#444443\" stroke=\"#444443\" stroke-width=\".5\" points=\"344.3447,-74.4001 348.3447,-73 344.3447,-71.6001 344.3447,-74.4001\"/>\n",
       "</g>\n",
       "<!-- node140687614866424 -->\n",
       "<g id=\"node10\" class=\"node\">\n",
       "<title>node140687614866424</title>\n",
       "<polygon fill=\"none\" stroke=\"#000000\" stroke-width=\".5\" points=\"446,-32 326,-32 326,0 446,0 446,-32\"/>\n",
       "<polygon fill=\"#fefecd\" stroke=\"transparent\" points=\"327,-19 327,-31 346,-31 346,-19 327,-19\"/>\n",
       "<polyline fill=\"none\" stroke=\"#000000\" points=\"327,-19 346,-19 346,-31 \"/>\n",
       "<text text-anchor=\"start\" x=\"333.5\" y=\"-22.8\" font-family=\"Helvetica,sans-Serif\" font-size=\"9.00\" fill=\"#444443\">0</text>\n",
       "<polygon fill=\"#fefecd\" stroke=\"transparent\" points=\"346,-19 346,-31 365,-31 365,-19 346,-19\"/>\n",
       "<polyline fill=\"none\" stroke=\"#000000\" points=\"346,-19 365,-19 365,-31 \"/>\n",
       "<text text-anchor=\"start\" x=\"352.5\" y=\"-22.8\" font-family=\"Helvetica,sans-Serif\" font-size=\"9.00\" fill=\"#444443\">1</text>\n",
       "<polygon fill=\"#fefecd\" stroke=\"transparent\" points=\"365,-19 365,-31 384,-31 384,-19 365,-19\"/>\n",
       "<polyline fill=\"none\" stroke=\"#000000\" points=\"365,-19 384,-19 384,-31 \"/>\n",
       "<text text-anchor=\"start\" x=\"371.5\" y=\"-22.8\" font-family=\"Helvetica,sans-Serif\" font-size=\"9.00\" fill=\"#444443\">2</text>\n",
       "<polygon fill=\"#fefecd\" stroke=\"transparent\" points=\"384,-19 384,-31 403,-31 403,-19 384,-19\"/>\n",
       "<polyline fill=\"none\" stroke=\"#000000\" points=\"384,-19 403,-19 403,-31 \"/>\n",
       "<text text-anchor=\"start\" x=\"390.5\" y=\"-22.8\" font-family=\"Helvetica,sans-Serif\" font-size=\"9.00\" fill=\"#444443\">3</text>\n",
       "<polygon fill=\"#fefecd\" stroke=\"transparent\" points=\"403,-19 403,-31 422,-31 422,-19 403,-19\"/>\n",
       "<polyline fill=\"none\" stroke=\"#000000\" points=\"403,-19 422,-19 422,-31 \"/>\n",
       "<text text-anchor=\"start\" x=\"409.5\" y=\"-22.8\" font-family=\"Helvetica,sans-Serif\" font-size=\"9.00\" fill=\"#444443\">4</text>\n",
       "<polygon fill=\"#fefecd\" stroke=\"transparent\" points=\"422,-19 422,-31 445,-31 445,-19 422,-19\"/>\n",
       "<polyline fill=\"none\" stroke=\"#000000\" points=\"422,-19 445,-19 \"/>\n",
       "<text text-anchor=\"start\" x=\"430.5\" y=\"-22.8\" font-family=\"Helvetica,sans-Serif\" font-size=\"9.00\" fill=\"#444443\">5</text>\n",
       "<polygon fill=\"#fefecd\" stroke=\"transparent\" points=\"327,-1 327,-19 346,-19 346,-1 327,-1\"/>\n",
       "<polyline fill=\"none\" stroke=\"#000000\" points=\"346,-1 346,-19 \"/>\n",
       "<text text-anchor=\"start\" x=\"330\" y=\"-7.2\" font-family=\"Helvetica,sans-Serif\" font-size=\"11.00\" fill=\"#444443\">54</text>\n",
       "<polygon fill=\"#fefecd\" stroke=\"transparent\" points=\"346,-1 346,-19 365,-19 365,-1 346,-1\"/>\n",
       "<polyline fill=\"none\" stroke=\"#000000\" points=\"365,-1 365,-19 \"/>\n",
       "<text text-anchor=\"start\" x=\"349\" y=\"-7.2\" font-family=\"Helvetica,sans-Serif\" font-size=\"11.00\" fill=\"#444443\">17</text>\n",
       "<polygon fill=\"#fefecd\" stroke=\"transparent\" points=\"365,-1 365,-19 384,-19 384,-1 365,-1\"/>\n",
       "<polyline fill=\"none\" stroke=\"#000000\" points=\"384,-1 384,-19 \"/>\n",
       "<text text-anchor=\"start\" x=\"368\" y=\"-7.2\" font-family=\"Helvetica,sans-Serif\" font-size=\"11.00\" fill=\"#444443\">16</text>\n",
       "<polygon fill=\"#fefecd\" stroke=\"transparent\" points=\"384,-1 384,-19 403,-19 403,-1 384,-1\"/>\n",
       "<polyline fill=\"none\" stroke=\"#000000\" points=\"403,-1 403,-19 \"/>\n",
       "<text text-anchor=\"start\" x=\"387\" y=\"-7.2\" font-family=\"Helvetica,sans-Serif\" font-size=\"11.00\" fill=\"#444443\">32</text>\n",
       "<polygon fill=\"#fefecd\" stroke=\"transparent\" points=\"403,-1 403,-19 422,-19 422,-1 403,-1\"/>\n",
       "<polyline fill=\"none\" stroke=\"#000000\" points=\"422,-1 422,-19 \"/>\n",
       "<text text-anchor=\"start\" x=\"406\" y=\"-7.2\" font-family=\"Helvetica,sans-Serif\" font-size=\"11.00\" fill=\"#444443\">84</text>\n",
       "<polygon fill=\"#fefecd\" stroke=\"transparent\" points=\"422,-1 422,-19 445,-19 445,-1 422,-1\"/>\n",
       "<text text-anchor=\"start\" x=\"424\" y=\"-7.2\" font-family=\"Helvetica,sans-Serif\" font-size=\"11.00\" fill=\"#444443\">100</text>\n",
       "</g>\n",
       "<!-- node140687599783280&#45;&gt;node140687614866424 -->\n",
       "<g id=\"edge9\" class=\"edge\">\n",
       "<title>node140687599783280:c&#45;&gt;node140687614866424</title>\n",
       "<path fill=\"none\" stroke=\"#444443\" stroke-width=\".5\" d=\"M274.5997,-16C282.3293,-16 301.4656,-16 321.7388,-16\"/>\n",
       "<ellipse fill=\"#444443\" stroke=\"#444443\" stroke-width=\".5\" cx=\"272.6\" cy=\"-16\" rx=\"1.6\" ry=\"1.6\"/>\n",
       "<polygon fill=\"#444443\" stroke=\"#444443\" stroke-width=\".5\" points=\"321.8056,-17.4001 325.8056,-16 321.8055,-14.6001 321.8056,-17.4001\"/>\n",
       "</g>\n",
       "</g>\n",
       "</svg>\n"
      ],
      "text/plain": [
       "<graphviz.files.Source at 0x7ff4ac1baa90>"
      ]
     },
     "execution_count": 61,
     "metadata": {},
     "output_type": "execute_result"
    }
   ],
   "source": [
    "lolviz.objviz(data)"
   ]
  },
  {
   "cell_type": "code",
   "execution_count": 89,
   "metadata": {},
   "outputs": [
    {
     "name": "stdout",
     "output_type": "stream",
     "text": [
      "['Amanda', 'Steve Jobs', 'Sarah', 'Karen']\n"
     ]
    },
    {
     "data": {
      "text/plain": [
       "{'Amanda': 'green', 'Karen': 'orange', 'Sarah': 'red', 'Steve Jobs': 'blue'}"
      ]
     },
     "execution_count": 89,
     "metadata": {},
     "output_type": "execute_result"
    }
   ],
   "source": [
    "names = [student['name'] for student in data['students']]\n",
    "print names\n",
    "names_colors = dict([(student['name'], student['favorite_color']) for student in data['students']])\n",
    "names_colors"
   ]
  },
  {
   "cell_type": "code",
   "execution_count": 91,
   "metadata": {},
   "outputs": [
    {
     "data": {
      "image/svg+xml": [
       "<?xml version=\"1.0\" encoding=\"UTF-8\" standalone=\"no\"?>\n",
       "<!DOCTYPE svg PUBLIC \"-//W3C//DTD SVG 1.1//EN\"\n",
       " \"http://www.w3.org/Graphics/SVG/1.1/DTD/svg11.dtd\">\n",
       "<!-- Generated by graphviz version 2.40.1 (20161225.0304)\n",
       " -->\n",
       "<!-- Title: G Pages: 1 -->\n",
       "<svg width=\"204pt\" height=\"40pt\"\n",
       " viewBox=\"0.00 0.00 204.00 40.00\" xmlns=\"http://www.w3.org/2000/svg\" xmlns:xlink=\"http://www.w3.org/1999/xlink\">\n",
       "<g id=\"graph0\" class=\"graph\" transform=\"scale(1 1) rotate(0) translate(4 36)\">\n",
       "<title>G</title>\n",
       "<polygon fill=\"#ffffff\" stroke=\"transparent\" points=\"-4,4 -4,-36 200,-36 200,4 -4,4\"/>\n",
       "<!-- node140687615006336 -->\n",
       "<g id=\"node1\" class=\"node\">\n",
       "<title>node140687615006336</title>\n",
       "<polygon fill=\"none\" stroke=\"#000000\" stroke-width=\".5\" points=\"196,-32 0,-32 0,0 196,0 196,-32\"/>\n",
       "<polygon fill=\"#fefecd\" stroke=\"transparent\" points=\"1,-19 1,-31 53,-31 53,-19 1,-19\"/>\n",
       "<polyline fill=\"none\" stroke=\"#000000\" points=\"1,-19 53,-19 53,-31 \"/>\n",
       "<text text-anchor=\"start\" x=\"24\" y=\"-22.8\" font-family=\"Helvetica,sans-Serif\" font-size=\"9.00\" fill=\"#444443\">0</text>\n",
       "<polygon fill=\"#fefecd\" stroke=\"transparent\" points=\"53,-19 53,-31 117,-31 117,-19 53,-19\"/>\n",
       "<polyline fill=\"none\" stroke=\"#000000\" points=\"53,-19 117,-19 117,-31 \"/>\n",
       "<text text-anchor=\"start\" x=\"82\" y=\"-22.8\" font-family=\"Helvetica,sans-Serif\" font-size=\"9.00\" fill=\"#444443\">1</text>\n",
       "<polygon fill=\"#fefecd\" stroke=\"transparent\" points=\"117,-19 117,-31 157,-31 157,-19 117,-19\"/>\n",
       "<polyline fill=\"none\" stroke=\"#000000\" points=\"117,-19 157,-19 157,-31 \"/>\n",
       "<text text-anchor=\"start\" x=\"134\" y=\"-22.8\" font-family=\"Helvetica,sans-Serif\" font-size=\"9.00\" fill=\"#444443\">2</text>\n",
       "<polygon fill=\"#fefecd\" stroke=\"transparent\" points=\"157,-19 157,-31 195,-31 195,-19 157,-19\"/>\n",
       "<polyline fill=\"none\" stroke=\"#000000\" points=\"157,-19 195,-19 \"/>\n",
       "<text text-anchor=\"start\" x=\"173\" y=\"-22.8\" font-family=\"Helvetica,sans-Serif\" font-size=\"9.00\" fill=\"#444443\">3</text>\n",
       "<polygon fill=\"#fefecd\" stroke=\"transparent\" points=\"1,-1 1,-19 53,-19 53,-1 1,-1\"/>\n",
       "<polyline fill=\"none\" stroke=\"#000000\" points=\"53,-1 53,-19 \"/>\n",
       "<text text-anchor=\"start\" x=\"4\" y=\"-7.2\" font-family=\"Helvetica,sans-Serif\" font-size=\"11.00\" fill=\"#444443\">&#39;Amanda&#39;</text>\n",
       "<polygon fill=\"#fefecd\" stroke=\"transparent\" points=\"53,-1 53,-19 117,-19 117,-1 53,-1\"/>\n",
       "<polyline fill=\"none\" stroke=\"#000000\" points=\"117,-1 117,-19 \"/>\n",
       "<text text-anchor=\"start\" x=\"56\" y=\"-7.2\" font-family=\"Helvetica,sans-Serif\" font-size=\"11.00\" fill=\"#444443\">&#39;Steve Jobs&#39;</text>\n",
       "<polygon fill=\"#fefecd\" stroke=\"transparent\" points=\"117,-1 117,-19 157,-19 157,-1 117,-1\"/>\n",
       "<polyline fill=\"none\" stroke=\"#000000\" points=\"157,-1 157,-19 \"/>\n",
       "<text text-anchor=\"start\" x=\"120\" y=\"-7.2\" font-family=\"Helvetica,sans-Serif\" font-size=\"11.00\" fill=\"#444443\">&#39;Sarah&#39;</text>\n",
       "<polygon fill=\"#fefecd\" stroke=\"transparent\" points=\"157,-1 157,-19 195,-19 195,-1 157,-1\"/>\n",
       "<text text-anchor=\"start\" x=\"159\" y=\"-7.2\" font-family=\"Helvetica,sans-Serif\" font-size=\"11.00\" fill=\"#444443\">&#39;Karen&#39;</text>\n",
       "</g>\n",
       "</g>\n",
       "</svg>\n"
      ],
      "text/plain": [
       "<graphviz.files.Source at 0x7ff463549b90>"
      ]
     },
     "execution_count": 91,
     "metadata": {},
     "output_type": "execute_result"
    }
   ],
   "source": [
    "lolviz.listviz(names)"
   ]
  },
  {
   "cell_type": "code",
   "execution_count": 95,
   "metadata": {},
   "outputs": [
    {
     "data": {
      "image/svg+xml": [
       "<?xml version=\"1.0\" encoding=\"UTF-8\" standalone=\"no\"?>\n",
       "<!DOCTYPE svg PUBLIC \"-//W3C//DTD SVG 1.1//EN\"\n",
       " \"http://www.w3.org/Graphics/SVG/1.1/DTD/svg11.dtd\">\n",
       "<!-- Generated by graphviz version 2.40.1 (20161225.0304)\n",
       " -->\n",
       "<!-- Title: G Pages: 1 -->\n",
       "<svg width=\"127pt\" height=\"74pt\"\n",
       " viewBox=\"0.00 0.00 127.00 74.00\" xmlns=\"http://www.w3.org/2000/svg\" xmlns:xlink=\"http://www.w3.org/1999/xlink\">\n",
       "<g id=\"graph0\" class=\"graph\" transform=\"scale(1 1) rotate(0) translate(4 70)\">\n",
       "<title>G</title>\n",
       "<polygon fill=\"#ffffff\" stroke=\"transparent\" points=\"-4,4 -4,-70 123,-70 123,4 -4,4\"/>\n",
       "<!-- node140687613023968 -->\n",
       "<g id=\"node1\" class=\"node\">\n",
       "<title>node140687613023968</title>\n",
       "<polygon fill=\"#fefecd\" stroke=\"#444443\" stroke-width=\".5\" points=\"119,-66 0,-66 0,0 119,0 119,-66\"/>\n",
       "<polygon fill=\"#fefecd\" stroke=\"transparent\" points=\"2.5,-50 2.5,-64 63.5,-64 63.5,-50 2.5,-50\"/>\n",
       "<text text-anchor=\"start\" x=\"26.5\" y=\"-54.2\" font-family=\"Helvetica,sans-Serif\" font-size=\"11.00\" fill=\"#444443\">&#39;Sarah&#39; </text>\n",
       "<text text-anchor=\"start\" x=\"63.5\" y=\"-52.8\" font-family=\"Helvetica,sans-Serif\" font-size=\"9.00\" fill=\"#444443\">→</text>\n",
       "<polygon fill=\"#fefecd\" stroke=\"transparent\" points=\"73.5,-50 73.5,-64 117.5,-64 117.5,-50 73.5,-50\"/>\n",
       "<text text-anchor=\"start\" x=\"74.5\" y=\"-54.2\" font-family=\"Helvetica,sans-Serif\" font-size=\"11.00\" fill=\"#444443\"> &#39;red&#39;</text>\n",
       "<polygon fill=\"#fefecd\" stroke=\"transparent\" points=\"2.5,-48 2.5,-50 117.5,-50 117.5,-48 2.5,-48\"/>\n",
       "<polygon fill=\"#fefecd\" stroke=\"transparent\" points=\"2.5,-34 2.5,-48 63.5,-48 63.5,-34 2.5,-34\"/>\n",
       "<text text-anchor=\"start\" x=\"26.5\" y=\"-38.2\" font-family=\"Helvetica,sans-Serif\" font-size=\"11.00\" fill=\"#444443\">&#39;Karen&#39; </text>\n",
       "<text text-anchor=\"start\" x=\"63.5\" y=\"-36.8\" font-family=\"Helvetica,sans-Serif\" font-size=\"9.00\" fill=\"#444443\">→</text>\n",
       "<polygon fill=\"#fefecd\" stroke=\"transparent\" points=\"73.5,-34 73.5,-48 117.5,-48 117.5,-34 73.5,-34\"/>\n",
       "<text text-anchor=\"start\" x=\"74.5\" y=\"-38.2\" font-family=\"Helvetica,sans-Serif\" font-size=\"11.00\" fill=\"#444443\"> &#39;orange&#39;</text>\n",
       "<polygon fill=\"#fefecd\" stroke=\"transparent\" points=\"2.5,-32 2.5,-34 117.5,-34 117.5,-32 2.5,-32\"/>\n",
       "<polygon fill=\"#fefecd\" stroke=\"transparent\" points=\"2.5,-18 2.5,-32 63.5,-32 63.5,-18 2.5,-18\"/>\n",
       "<text text-anchor=\"start\" x=\"14.5\" y=\"-22.2\" font-family=\"Helvetica,sans-Serif\" font-size=\"11.00\" fill=\"#444443\">&#39;Amanda&#39; </text>\n",
       "<text text-anchor=\"start\" x=\"63.5\" y=\"-20.8\" font-family=\"Helvetica,sans-Serif\" font-size=\"9.00\" fill=\"#444443\">→</text>\n",
       "<polygon fill=\"#fefecd\" stroke=\"transparent\" points=\"73.5,-18 73.5,-32 117.5,-32 117.5,-18 73.5,-18\"/>\n",
       "<text text-anchor=\"start\" x=\"74.5\" y=\"-22.2\" font-family=\"Helvetica,sans-Serif\" font-size=\"11.00\" fill=\"#444443\"> &#39;green&#39;</text>\n",
       "<polygon fill=\"#fefecd\" stroke=\"transparent\" points=\"2.5,-16 2.5,-18 117.5,-18 117.5,-16 2.5,-16\"/>\n",
       "<polygon fill=\"#fefecd\" stroke=\"transparent\" points=\"2.5,-2 2.5,-16 63.5,-16 63.5,-2 2.5,-2\"/>\n",
       "<text text-anchor=\"start\" x=\"2.5\" y=\"-6.2\" font-family=\"Helvetica,sans-Serif\" font-size=\"11.00\" fill=\"#444443\">&#39;Steve Jobs&#39; </text>\n",
       "<text text-anchor=\"start\" x=\"63.5\" y=\"-4.8\" font-family=\"Helvetica,sans-Serif\" font-size=\"9.00\" fill=\"#444443\">→</text>\n",
       "<polygon fill=\"#fefecd\" stroke=\"transparent\" points=\"73.5,-2 73.5,-16 117.5,-16 117.5,-2 73.5,-2\"/>\n",
       "<text text-anchor=\"start\" x=\"74.5\" y=\"-6.2\" font-family=\"Helvetica,sans-Serif\" font-size=\"11.00\" fill=\"#444443\"> &#39;blue&#39;</text>\n",
       "</g>\n",
       "</g>\n",
       "</svg>\n"
      ],
      "text/plain": [
       "<graphviz.files.Source at 0x7ff49c15d350>"
      ]
     },
     "execution_count": 95,
     "metadata": {},
     "output_type": "execute_result"
    }
   ],
   "source": [
    "lolviz.objviz(names_colors)"
   ]
  },
  {
   "cell_type": "markdown",
   "metadata": {
    "ExecuteTime": {
     "end_time": "2018-10-10T19:51:26.237510Z",
     "start_time": "2018-10-10T19:51:26.232498Z"
    }
   },
   "source": [
    "# **Conditional Statements**\n",
    "- `if`, `else`, and `elif` are followed by `:` (colon)"
   ]
  },
  {
   "cell_type": "code",
   "execution_count": 130,
   "metadata": {
    "ExecuteTime": {
     "end_time": "2018-10-10T19:54:19.574055Z",
     "start_time": "2018-10-10T19:54:19.565751Z"
    }
   },
   "outputs": [
    {
     "name": "stdout",
     "output_type": "stream",
     "text": [
      "Condition is True\n"
     ]
    }
   ],
   "source": [
    "condition = True\n",
    "if condition:\n",
    "    print \"Condition is True\"\n",
    "else:\n",
    "    print \"Condition is False\""
   ]
  },
  {
   "cell_type": "code",
   "execution_count": 131,
   "metadata": {
    "ExecuteTime": {
     "end_time": "2018-10-10T19:56:34.462667Z",
     "start_time": "2018-10-10T19:56:34.457291Z"
    }
   },
   "outputs": [
    {
     "name": "stdout",
     "output_type": "stream",
     "text": [
      "x < y\n"
     ]
    }
   ],
   "source": [
    "x = 4\n",
    "y = 6\n",
    "\n",
    "if x == y:\n",
    "    print \"x = y\"\n",
    "elif x < y:\n",
    "    print \"x < y\"\n",
    "else:\n",
    "    print \"x > y\""
   ]
  },
  {
   "cell_type": "markdown",
   "metadata": {
    "ExecuteTime": {
     "end_time": "2018-10-10T19:57:09.785927Z",
     "start_time": "2018-10-10T19:57:09.783698Z"
    }
   },
   "source": [
    "## Working with Strings and Lists"
   ]
  },
  {
   "cell_type": "code",
   "execution_count": 132,
   "metadata": {
    "ExecuteTime": {
     "end_time": "2018-10-10T19:57:54.351570Z",
     "start_time": "2018-10-10T19:57:54.343795Z"
    }
   },
   "outputs": [
    {
     "name": "stdout",
     "output_type": "stream",
     "text": [
      "cow is in the string\n"
     ]
    }
   ],
   "source": [
    "text = \"the cow jumped over the moon\"\n",
    "if 'cow' in text:\n",
    "    print 'cow is in the string'"
   ]
  },
  {
   "cell_type": "code",
   "execution_count": 133,
   "metadata": {
    "ExecuteTime": {
     "end_time": "2018-10-10T19:59:15.687658Z",
     "start_time": "2018-10-10T19:59:15.682331Z"
    }
   },
   "outputs": [
    {
     "name": "stdout",
     "output_type": "stream",
     "text": [
      "['t', 'h', 'e', ' ', 'c', 'o', 'w', ' ', 'j', 'u', 'm', 'p', 'e', 'd', ' ', 'o', 'v', 'e', 'r', ' ', 't', 'h', 'e', ' ', 'm', 'o', 'o', 'n']\n"
     ]
    }
   ],
   "source": [
    "char_array = list(text)\n",
    "print char_array"
   ]
  },
  {
   "cell_type": "code",
   "execution_count": 134,
   "metadata": {
    "ExecuteTime": {
     "end_time": "2018-10-10T20:00:00.398122Z",
     "start_time": "2018-10-10T20:00:00.394510Z"
    }
   },
   "outputs": [
    {
     "name": "stdout",
     "output_type": "stream",
     "text": [
      "cow is not in the char_array\n"
     ]
    }
   ],
   "source": [
    "if 'cow' not in char_array:\n",
    "    print 'cow is not in the char_array'"
   ]
  },
  {
   "cell_type": "code",
   "execution_count": 135,
   "metadata": {
    "ExecuteTime": {
     "end_time": "2018-10-10T20:00:20.237450Z",
     "start_time": "2018-10-10T20:00:20.228850Z"
    }
   },
   "outputs": [
    {
     "data": {
      "text/plain": [
       "['the', 'cow', 'jumped', 'over', 'the', 'moon']"
      ]
     },
     "execution_count": 135,
     "metadata": {},
     "output_type": "execute_result"
    }
   ],
   "source": [
    "word_array = text.split(' ')\n",
    "word_array"
   ]
  },
  {
   "cell_type": "code",
   "execution_count": 136,
   "metadata": {
    "ExecuteTime": {
     "end_time": "2018-10-10T20:01:03.958688Z",
     "start_time": "2018-10-10T20:01:03.953463Z"
    }
   },
   "outputs": [
    {
     "name": "stdout",
     "output_type": "stream",
     "text": [
      "cow is in the word_array at index: 1\n"
     ]
    }
   ],
   "source": [
    "if 'cow' in word_array:\n",
    "    print 'cow is in the word_array at index:', word_array.index('cow')"
   ]
  },
  {
   "cell_type": "code",
   "execution_count": 135,
   "metadata": {},
   "outputs": [
    {
     "name": "stdout",
     "output_type": "stream",
     "text": [
      "*why would[ someone ==>write]! >>this<< (ugly\\--->+ string) @->?-#-%--$-*\n"
     ]
    }
   ],
   "source": [
    "ugly_string = '*why would[ someone ==>write]! >>this<< (ugly\\\\--->+ string) @->?-#-%--$-*'\n",
    "print ugly_string"
   ]
  },
  {
   "cell_type": "markdown",
   "metadata": {},
   "source": [
    "<legend>Let's try to clean up that ugly string with some helper functions</legend>"
   ]
  },
  {
   "cell_type": "code",
   "execution_count": 136,
   "metadata": {},
   "outputs": [
    {
     "name": "stdout",
     "output_type": "stream",
     "text": [
      "why would someone write this ugly string \n"
     ]
    }
   ],
   "source": [
    "# Method 1 - join() with list-comprehension\n",
    "cleaner_string = ''.join([char for char in ugly_string if char not in string.punctuation])\n",
    "print cleaner_string"
   ]
  },
  {
   "cell_type": "code",
   "execution_count": 138,
   "metadata": {},
   "outputs": [
    {
     "name": "stdout",
     "output_type": "stream",
     "text": [
      "why would someone write this ugly string \n"
     ]
    }
   ],
   "source": [
    "# Method 2 - string translate\n",
    "cleaner_string = ugly_string.translate(None, ''.join(string.punctuation))\n",
    "print cleaner_string"
   ]
  },
  {
   "cell_type": "markdown",
   "metadata": {
    "solution": "hidden",
    "solution_first": true
   },
   "source": [
    "* Python makes parsing ugly text simple and with just a few lines of code.\n",
    "* The built in utility functions also help to compute statistics with a small code base."
   ]
  },
  {
   "cell_type": "markdown",
   "metadata": {
    "solution2": "hidden",
    "solution2_first": true
   },
   "source": [
    "<div class=exercise-cell>\n",
    "\n",
    "**Exercise 3**<br>\n",
    "The text below is a simple pragraph taken from <a href='https://patternbasedwriting.com/elementary_writing_success/paragraph-examples/'>patternbasedwriting.com</a><br>\n",
    "Your task is the following:\n",
    " 1. Remove all punction from the text.\n",
    " 2. Eliminate all of the spaces.\n",
    " 3. Either convert all of the letters to uppercase or lowercase\n",
    " 4. And finally, compute the frequency of each character used and print them out in ascending order.\n",
    "    \n",
    "```\n",
    "Last week we installed a kitty door so that our cat could come and go as she pleases. Unfortunately, we ran into a problem. Our cat was afraid to use the kitty door. We tried pushing her through, and that caused her to be even more afraid. The kitty door was dark, and she couldn't see what was on the other side. The first step we took in solving this problem was taping the kitty door open. After a couple of days, she was confidently coming and going through the open door. However, when we removed the tape and closed the door, once again, she would not go through. They say you catch more bees with honey, so we decided to use food as bait. We would sit next to the kitty door with a can of wet food and click the top of the can. When kitty came through the closed door, we would open the can and feed her. It took five days of doing this to make her unafraid of using the kitty door. Now we have just one last problem; our kitty controls our lives!\n",
    "```\n",
    "\n",
    "\n",
    "</div>"
   ]
  },
  {
   "cell_type": "code",
   "execution_count": 176,
   "metadata": {
    "cell_style": "center",
    "deletable": false,
    "editable": false,
    "run_control": {
     "frozen": true
    },
    "solution2": "hidden"
   },
   "outputs": [
    {
     "name": "stdout",
     "output_type": "stream",
     "text": [
      "  E: 87 11.73% ************************************************ E\n",
      "  O: 85 11.46% ************************************************ O\n",
      "  T: 78 10.51% ******************************************** T\n",
      "  A: 53 7.14% ******************************** A\n",
      "  H: 46 6.2% **************************** H\n",
      "  D: 42 5.66% ************************ D\n",
      "  N: 42 5.66% ************************ N\n",
      "  S: 40 5.39% ************************ S\n",
      "  R: 39 5.26% ************************ R\n",
      "  I: 37 4.99% ******************** I\n",
      "  W: 26 3.5% **************** W\n",
      "  U: 24 3.23% **************** U\n",
      "  C: 22 2.96% ************ C\n",
      "  L: 22 2.96% ************ L\n",
      "  F: 16 2.16% ************ F\n",
      "  Y: 16 2.16% ************ Y\n",
      "  G: 15 2.02% ************ G\n",
      "  K: 14 1.89% ******** K\n",
      "  P: 13 1.75% ******** P\n",
      "  M: 10 1.35% ******** M\n",
      "  V: 7 0.94% **** V\n",
      "  B: 6 0.81% **** B\n",
      "  J: 1 0.13% **** J\n",
      "  X: 1 0.13% **** X\n"
     ]
    }
   ],
   "source": [
    "paragraph = \"\"\" Last week we installed a kitty door so that our cat could come and go as she pleases. Unfortunately, we ran into a problem. Our cat was afraid to use the kitty door. We tried pushing her through, and that caused her to be even more afraid. The kitty door was dark, and she couldn't see what was on the other side. The first step we took in solving this problem was taping the kitty door open. After a couple of days, she was confidently coming and going through the open door. However, when we removed the tape and closed the door, once again, she would not go through. They say you catch more bees with honey, so we decided to use food as bait. We would sit next to the kitty door with a can of wet food and click the top of the can. When kitty came through the closed door, we would open the can and feed her. It took five days of doing this to make her unafraid of using the kitty door. Now we have just one last problem; our kitty controls our lives! \"\"\"\n",
    "characters = paragraph.replace(' ', '').upper().translate(None, ''.join(string.punctuation))\n",
    "freq_count = Counter(characters).most_common()\n",
    "for char, count in freq_count:\n",
    "    percent = str(round(float(count)/len(characters)*100, 2))\n",
    "    rounded = int(math.ceil(float(percent)))\n",
    "    print '  ' + char + ': ' + str(count) + ' ' + percent + '% ' + '****'*rounded + ' ' + char"
   ]
  },
  {
   "cell_type": "markdown",
   "metadata": {
    "solution2": "hidden"
   },
   "source": [
    "<legend>Interesting, let's compare our data with the character frequency of english language</legend>\n",
    "<img src=\"english.jpg\" align=\"left\"/>"
   ]
  },
  {
   "cell_type": "code",
   "execution_count": 170,
   "metadata": {},
   "outputs": [
    {
     "data": {
      "text/plain": [
       "11"
      ]
     },
     "execution_count": 170,
     "metadata": {},
     "output_type": "execute_result"
    }
   ],
   "source": []
  },
  {
   "cell_type": "markdown",
   "metadata": {},
   "source": [
    "# **For Loops**\n",
    "- Python understands `for` and `while` loops.\n",
    "- The `for` loop is really where python shines!"
   ]
  },
  {
   "cell_type": "markdown",
   "metadata": {},
   "source": [
    "## Iterating over a range of numbers\n",
    "- In languages such as C, C++, Java, etc.. a for loop iterates over an index\n",
    "- This is how to do that in python"
   ]
  },
  {
   "cell_type": "code",
   "execution_count": 137,
   "metadata": {
    "ExecuteTime": {
     "end_time": "2018-10-10T20:05:08.058266Z",
     "start_time": "2018-10-10T20:05:08.049509Z"
    }
   },
   "outputs": [
    {
     "name": "stdout",
     "output_type": "stream",
     "text": [
      "0 1 2 3 4 5 6 7 8 9\n"
     ]
    }
   ],
   "source": [
    "for i in xrange(0, 10):\n",
    "    print i,"
   ]
  },
  {
   "cell_type": "code",
   "execution_count": 138,
   "metadata": {
    "ExecuteTime": {
     "end_time": "2018-10-10T20:05:51.972661Z",
     "start_time": "2018-10-10T20:05:51.967745Z"
    }
   },
   "outputs": [
    {
     "name": "stdout",
     "output_type": "stream",
     "text": [
      "0 2 4 6 8\n"
     ]
    }
   ],
   "source": [
    "for i in xrange(0, 10, 2): # step by i += 2\n",
    "    print i,"
   ]
  },
  {
   "cell_type": "markdown",
   "metadata": {},
   "source": [
    "## Iterating over a Data Structure"
   ]
  },
  {
   "cell_type": "code",
   "execution_count": 139,
   "metadata": {
    "ExecuteTime": {
     "end_time": "2018-10-10T20:07:47.153677Z",
     "start_time": "2018-10-10T20:07:47.148831Z"
    }
   },
   "outputs": [
    {
     "name": "stdout",
     "output_type": "stream",
     "text": [
      "the cow jumped over the moon\n"
     ]
    }
   ],
   "source": [
    "for word in word_array:\n",
    "    print word,"
   ]
  },
  {
   "cell_type": "code",
   "execution_count": 140,
   "metadata": {
    "ExecuteTime": {
     "end_time": "2018-10-10T20:08:21.963019Z",
     "start_time": "2018-10-10T20:08:21.953142Z"
    }
   },
   "outputs": [
    {
     "name": "stdout",
     "output_type": "stream",
     "text": [
      "t h e   c o w   j u m p e d   o v e r   t h e   m o o n\n"
     ]
    }
   ],
   "source": [
    "for char in char_array:\n",
    "    print char, "
   ]
  },
  {
   "cell_type": "code",
   "execution_count": 141,
   "metadata": {
    "ExecuteTime": {
     "end_time": "2018-10-10T20:20:22.751924Z",
     "start_time": "2018-10-10T20:20:22.745970Z"
    }
   },
   "outputs": [
    {
     "name": "stdout",
     "output_type": "stream",
     "text": [
      "key = favorite_color\n",
      "value = green\n",
      "key = name\n",
      "value = Steve Jobs\n"
     ]
    }
   ],
   "source": [
    "for key, value in data.iteritems():\n",
    "    print 'key =', key\n",
    "    print 'value =', value"
   ]
  },
  {
   "cell_type": "markdown",
   "metadata": {
    "ExecuteTime": {
     "end_time": "2018-10-10T20:16:24.725885Z",
     "start_time": "2018-10-10T20:16:24.720164Z"
    }
   },
   "source": [
    "## Creating Lists and List Comprehension"
   ]
  },
  {
   "cell_type": "code",
   "execution_count": 143,
   "metadata": {
    "ExecuteTime": {
     "end_time": "2018-10-10T23:00:45.928808Z",
     "start_time": "2018-10-10T23:00:45.924704Z"
    }
   },
   "outputs": [
    {
     "name": "stdout",
     "output_type": "stream",
     "text": [
      "[2, 3, 1]\n"
     ]
    }
   ],
   "source": [
    "data = [-5, 2, 3, -10, 0, 1]\n",
    "pos_data = []\n",
    "for number in data:\n",
    "    if number > 0:\n",
    "        pos_data.append(number)\n",
    "print pos_data"
   ]
  },
  {
   "cell_type": "markdown",
   "metadata": {},
   "source": [
    "<legend>List Comprehension</legend>"
   ]
  },
  {
   "cell_type": "code",
   "execution_count": 146,
   "metadata": {
    "ExecuteTime": {
     "end_time": "2018-10-10T23:00:08.362317Z",
     "start_time": "2018-10-10T23:00:08.358286Z"
    }
   },
   "outputs": [
    {
     "name": "stdout",
     "output_type": "stream",
     "text": [
      "[2, 3, 1]\n"
     ]
    }
   ],
   "source": [
    "data = [-5, 2, 3, -10, 0, 1]\n",
    "pos_data = [x for x in data if x > 0]\n",
    "print pos_data"
   ]
  },
  {
   "cell_type": "code",
   "execution_count": 145,
   "metadata": {
    "ExecuteTime": {
     "end_time": "2018-10-10T20:17:08.544094Z",
     "start_time": "2018-10-10T20:17:08.535072Z"
    }
   },
   "outputs": [
    {
     "name": "stdout",
     "output_type": "stream",
     "text": [
      "[2.0, 3.0, 1.0]\n"
     ]
    }
   ],
   "source": [
    "data = [-5, 2, 3, -10, 0, 1]\n",
    "pos_data = [float(x) for x in data if x > 0]   # you can convert types during assignment (int -> float)\n",
    "print pos_data"
   ]
  },
  {
   "cell_type": "markdown",
   "metadata": {},
   "source": [
    "# **Basic Plotting**\n",
    "- I have added to this Notebook: `matplotlib`, `numpy`, `pandas`, `seaborn`, and `graphlab`\n",
    "- Let's start with matplotlib"
   ]
  },
  {
   "cell_type": "code",
   "execution_count": 64,
   "metadata": {
    "ExecuteTime": {
     "end_time": "2018-10-10T20:11:48.065370Z",
     "start_time": "2018-10-10T20:11:48.062045Z"
    }
   },
   "outputs": [
    {
     "data": {
      "text/plain": [
       "array([0. , 0.1, 0.2, 0.3, 0.4, 0.5, 0.6, 0.7, 0.8, 0.9])"
      ]
     },
     "execution_count": 64,
     "metadata": {},
     "output_type": "execute_result"
    }
   ],
   "source": [
    "x = np.arange(0,1,0.1) # like xrange() but can handle precision (floats)\n",
    "x"
   ]
  },
  {
   "cell_type": "code",
   "execution_count": 65,
   "metadata": {
    "ExecuteTime": {
     "end_time": "2018-10-10T20:11:53.563132Z",
     "start_time": "2018-10-10T20:11:53.430101Z"
    }
   },
   "outputs": [
    {
     "data": {
      "application/vnd.jupyter.widget-view+json": {
       "model_id": "a538f9a8b797401aa3670b12e602098d",
       "version_major": 2,
       "version_minor": 0
      },
      "text/plain": [
       "FigureCanvasNbAgg()"
      ]
     },
     "metadata": {},
     "output_type": "display_data"
    },
    {
     "data": {
      "text/plain": [
       "<Figure size 640x480 with 0 Axes>"
      ]
     },
     "execution_count": 65,
     "metadata": {},
     "output_type": "execute_result"
    },
    {
     "data": {
      "text/plain": [
       "[<matplotlib.lines.Line2D at 0x7f93a815a4d0>]"
      ]
     },
     "execution_count": 65,
     "metadata": {},
     "output_type": "execute_result"
    }
   ],
   "source": [
    "y = x**2 + 5\n",
    "\n",
    "plt.figure('y = x**2 + 5')\n",
    "plt.plot(x, y)\n",
    "plt.draw()\n",
    "plt.show()"
   ]
  },
  {
   "cell_type": "code",
   "execution_count": 66,
   "metadata": {
    "ExecuteTime": {
     "end_time": "2018-10-10T20:12:23.512369Z",
     "start_time": "2018-10-10T20:12:23.363619Z"
    }
   },
   "outputs": [
    {
     "data": {
      "application/vnd.jupyter.widget-view+json": {
       "model_id": "ca467fc8d6ee4799ba823fb1322c2c79",
       "version_major": 2,
       "version_minor": 0
      },
      "text/plain": [
       "FigureCanvasNbAgg()"
      ]
     },
     "metadata": {},
     "output_type": "display_data"
    },
    {
     "data": {
      "text/plain": [
       "<Figure size 640x480 with 0 Axes>"
      ]
     },
     "execution_count": 66,
     "metadata": {},
     "output_type": "execute_result"
    },
    {
     "data": {
      "text/plain": [
       "[<matplotlib.lines.Line2D at 0x7f93a80cce90>]"
      ]
     },
     "execution_count": 66,
     "metadata": {},
     "output_type": "execute_result"
    }
   ],
   "source": [
    "x = np.arange(0, 2*np.pi, 0.01)\n",
    "y = np.sin(x)\n",
    "\n",
    "plt.figure('y = np.sin(x)')\n",
    "plt.plot(x, y)\n",
    "plt.draw()\n",
    "plt.show()"
   ]
  },
  {
   "cell_type": "code",
   "execution_count": 67,
   "metadata": {
    "ExecuteTime": {
     "end_time": "2018-10-10T20:12:49.207114Z",
     "start_time": "2018-10-10T20:12:49.053472Z"
    }
   },
   "outputs": [
    {
     "data": {
      "application/vnd.jupyter.widget-view+json": {
       "model_id": "e3e2201110b543adb829804fa53b0573",
       "version_major": 2,
       "version_minor": 0
      },
      "text/plain": [
       "FigureCanvasNbAgg()"
      ]
     },
     "metadata": {},
     "output_type": "display_data"
    },
    {
     "data": {
      "text/plain": [
       "<Figure size 640x480 with 0 Axes>"
      ]
     },
     "execution_count": 67,
     "metadata": {},
     "output_type": "execute_result"
    },
    {
     "data": {
      "text/plain": [
       "(array([  7.,  21.,  73., 173., 250., 221., 159.,  74.,  19.,   3.]),\n",
       " array([-3.26425806, -2.605313  , -1.94636794, -1.28742288, -0.62847782,\n",
       "         0.03046724,  0.6894123 ,  1.34835736,  2.00730242,  2.66624748,\n",
       "         3.32519254]),\n",
       " <a list of 10 Patch objects>)"
      ]
     },
     "execution_count": 67,
     "metadata": {},
     "output_type": "execute_result"
    }
   ],
   "source": [
    "# Generate some random data\n",
    "data = np.random.randn(1000)\n",
    "\n",
    "plt.figure('np.random.randn(1000)')\n",
    "plt.hist(data)\n",
    "plt.draw()\n",
    "plt.show()"
   ]
  },
  {
   "cell_type": "markdown",
   "metadata": {},
   "source": [
    "# **File I/O**\n",
    "- Try to use `with` when reading, writing, and appending to a file as it will always `close` it for you!"
   ]
  },
  {
   "cell_type": "markdown",
   "metadata": {},
   "source": [
    "```python\n",
    "# Read Data\n",
    "with open('FILE_NAME') as f:\n",
    "    data = [line.strip() for line in f]\n",
    "    \n",
    "# Create and Write to a file\n",
    "with open('FILE_NAME', 'w') as f:\n",
    "    for line in data:\n",
    "        f.write(str(line) +'\\n')\n",
    "\n",
    "# Append to a file\n",
    "with open('FILE_NAME', 'a') as f:\n",
    "    for line in data:\n",
    "        f.write(str(line) +'\\n')\n",
    "```"
   ]
  },
  {
   "cell_type": "code",
   "execution_count": null,
   "metadata": {},
   "outputs": [],
   "source": []
  },
  {
   "cell_type": "markdown",
   "metadata": {
    "ExecuteTime": {
     "end_time": "2018-10-10T20:22:15.098849Z",
     "start_time": "2018-10-10T20:22:15.094906Z"
    }
   },
   "source": [
    "# **Web Scraping :)**"
   ]
  },
  {
   "cell_type": "markdown",
   "metadata": {
    "ExecuteTime": {
     "end_time": "2018-10-10T20:29:19.442959Z",
     "start_time": "2018-10-10T20:29:19.432795Z"
    }
   },
   "source": [
    "## Beautiful Soup\n",
    "- Pro: Great for processing static rendered web content.\n",
    "- Con: Can not interact with dynamically generated content.\n",
    "- Pro: Can deal with dynamically generated content once rendered."
   ]
  },
  {
   "cell_type": "code",
   "execution_count": 222,
   "metadata": {
    "ExecuteTime": {
     "end_time": "2018-10-10T21:02:50.215241Z",
     "start_time": "2018-10-10T21:02:50.012586Z"
    }
   },
   "outputs": [
    {
     "name": "stdout",
     "output_type": "stream",
     "text": [
      "https://www.udel.edu/home/a-z//home/\n",
      "https://www.udel.edu/home/a-z/#\n",
      "http://www.udel.edu/about/visit/?utm_source=homepage&utm_medium=icon&utm_campaign=header_visit\n",
      "http://www.udel.edu/apply/?utm_source=homepage&utm_medium=icon&utm_campaign=header_apply\n",
      "http://www.udel.edu/alumni-friends/give/?utm_source=homepage&utm_medium=icon&utm_campaign=header_give\n",
      "https://www.udel.edu/home/a-z/\n",
      "https://udel.onecampus.com/\n",
      "http://www1.udel.edu/maps/\n",
      "http://www1.udel.edu/peoplesearch/\n",
      "https://www1.udel.edu/mail/\n",
      "https://www.bluehens.com\n",
      "http://library.udel.edu\n",
      "https://www.udel.edu/home/a-z//home/a-z/\n",
      "https://www.udel.edu/home/a-z//udaily/\n",
      "https://events.udel.edu\n",
      "http://www.udel.edu/about/visit/?utm_source=homepage&utm_medium=icon&utm_campaign=header_visit\n",
      "http://www.udel.edu/apply/?utm_source=homepage&utm_medium=icon&utm_campaign=header_apply\n",
      "http://www.udel.edu/alumni-friends/give/?utm_source=homepage&utm_medium=icon&utm_campaign=header_give\n",
      "https://www.udel.edu/home/a-z/\n",
      "https://udel.onecampus.com/\n",
      "http://www1.udel.edu/maps/\n",
      "http://www1.udel.edu/peoplesearch/\n",
      "https://www1.udel.edu/mail/\n",
      "https://www.bluehens.com\n",
      "http://library.udel.edu\n",
      "https://www.udel.edu/home/a-z//home/a-z/\n",
      "https://www.udel.edu/home/a-z//udaily/\n",
      "https://events.udel.edu\n",
      "https://www.udel.edu/home/a-z//about/\n",
      "https://www.udel.edu/home/a-z//about/leadership-mission/\n",
      "https://www.udel.edu/home/a-z//about/visit/\n",
      "https://www.udel.edu/home/a-z//about/history/\n",
      "https://www.udel.edu/home/a-z//about/facts-figures/\n",
      "https://www.udel.edu/home/a-z//about/ud-community/\n",
      "https://www.udel.edu/home/a-z//about/values/\n",
      "https://www.udel.edu/home/a-z//apply/\n",
      "https://www.udel.edu/home/a-z//apply/career-outcomes/\n",
      "https://www.udel.edu/home/a-z//apply/undergraduate-admissions/\n",
      "http://grad.udel.edu/\n",
      "http://www.pcs.udel.edu/\n",
      "http://online.udel.edu/\n",
      "https://www.udel.edu/home/a-z//students/\n",
      "https://events.udel.edu/calendar/month?event_types[]=8128\n",
      "https://www.udel.edu/home/a-z//students/student-financial-services/\n",
      "https://www.udel.edu/home/a-z//faculty-staff/\n",
      "https://www.udel.edu/home/a-z//content/udel/en/faculty-staff/human-resources/careers\n",
      "https://www.udel.edu/home/a-z//faculty-staff/experts/\n",
      "https://www.udel.edu/home/a-z//faculty-staff/employee-resources/\n",
      "https://www.udel.edu/home/a-z//alumni-friends/\n",
      "https://www.udel.edu/home/a-z//alumni-friends/give/\n",
      "http://www.udconnection.com/\n",
      "https://www.udel.edu/home/a-z//academics/\n",
      "https://www.udel.edu/home/a-z//academics/colleges/\n",
      "http://library.udel.edu/\n",
      "https://www.udel.edu/home/a-z//academics/programs/\n",
      "https://www.udel.edu/home/a-z//research-innovation/\n",
      "https://www.udel.edu/home/a-z//content/udel/en/udaily/research\n",
      "https://www.udel.edu/home/a-z//research-innovation/horn/\n",
      "https://www.udel.edu/home/a-z//athletics/\n",
      "http://www.bluehens.com/?utm_source=homepage&utm_medium=navigation&utm_campaign=BlueHens_homepage\n",
      "https://www.udel.edu/home/a-z//home/\n",
      "https://www.udel.edu/home/a-z//home/a-z/\n",
      "https://udapps.nss.udel.edu/casforms/az/index.jsp\n",
      "https://www.udel.edu/home/a-z/\n",
      "https://www.udel.edu/home/a-z/\n",
      "https://www.udel.edu/home/a-z/\n",
      "https://www.udel.edu/home/a-z/\n",
      "https://www.udel.edu/home/a-z/\n",
      "https://www.udel.edu/home/a-z/\n",
      "https://www.udel.edu/home/a-z/\n",
      "https://www.udel.edu/home/a-z/\n",
      "https://www.udel.edu/home/a-z/\n",
      "https://www.udel.edu/home/a-z/\n",
      "https://www.udel.edu/home/a-z/\n",
      "https://www.udel.edu/home/a-z/\n",
      "https://www.udel.edu/home/a-z/\n",
      "https://www.udel.edu/home/a-z/\n",
      "https://www.udel.edu/home/a-z/\n",
      "https://www.udel.edu/home/a-z/\n",
      "https://www.udel.edu/home/a-z/\n",
      "https://www.udel.edu/home/a-z/\n",
      "https://www.udel.edu/home/a-z/\n",
      "https://www.udel.edu/home/a-z/\n",
      "https://www.udel.edu/home/a-z/\n",
      "https://www.udel.edu/home/a-z/\n",
      "https://www.udel.edu/home/a-z/\n",
      "https://www.udel.edu/home/a-z/\n",
      "https://www.udel.edu/home/a-z/\n",
      "https://www.udel.edu/home/a-z/\n",
      "http://www.udel.edu/academics\n",
      "https://events.udel.edu/calendar/month?event_types[]=8128\n",
      "http://www.ae.udel.edu/\n",
      "http://sites.udel.edu/ats/\n",
      "http://www.pcs.udel.edu/enrichment/retirement.html\n",
      "http://www.pcs.udel.edu/access/index.html\n",
      "https://www.udel.edu/home/a-z//content/udel/en/home/accessibility\n",
      "http://www.lerner.udel.edu/departments/accounting-mis\n",
      "http://www.udel.edu/about/leadership-mission/\n",
      "http://events.udel.edu/calendar/month?event_types[]=8251\n",
      "http://www.udel.edu/apply/\n",
      "http://www1.udel.edu/advance\n",
      "http://sites.udel.edu/ocm/advertise-with-ud/\n",
      "http://www1.udel.edu/AdvisorNotes\n",
      "https://www.africanastudies.udel.edu\n",
      "https://www.cgas.udel.edu/programs/african-studies/\n",
      "http://ag.udel.edu/extension/\n",
      "http://afrotc.udel.edu/\n",
      "http://www1.udel.edu/artc/\n",
      "http://www1.udel.edu/ADA/\n",
      "http://ag.udel.edu/anfs/\n",
      "http://www1.udel.edu/anthro/\n",
      "http://www1.udel.edu/fash/undergrad/appareldesign.html\n",
      "http://www1.udel.edu/aacs/\n",
      "http://canr.udel.edu/apec/\n",
      "http://www1.udel.edu/apply/\n",
      "https://www.artcons.udel.edu/\n",
      "http://www1.udel.edu/ArtHistory/\n",
      "http://www1.udel.edu/art/\n",
      "https://www.arts.udel.edu/\n",
      "https://www.cgas.udel.edu/programs/asian-studies\n",
      "http://www.aspire.udel.edu/\n",
      "https://www.aap.udel.edu/\n",
      "http://www.bluehens.com/\n",
      "http://www.udel.edu/students/career-services-center/\n",
      "http://sites.udel.edu/vpfinance/departments/treasury-services/banking-services/\n",
      "http://www.udel.edu/faculty-staff/human-resources/benefits\n",
      "http://www1.udel.edu/finaid/\n",
      "http://www1.udel.edu/bioms/\n",
      "http://www.bme.udel.edu/\n",
      "http://sites.udel.edu/bluehensuccess/\n",
      "https://bluehens.com/sports/2013/9/1/209248047.aspx/\n",
      "http://www1.udel.edu/bookstore/\n",
      "http://sites.udel.edu/budget/\n",
      "http://www1.udel.edu/buildings\n",
      "http://www1.udel.edu/bus\n",
      "http://www.lerner.udel.edu/departments/business-administration\n",
      "http://ire.udel.edu/bi\n",
      "http://www1.udel.edu/safety/\n",
      "http://www1.udel.edu/accessibility\n",
      "https://sites.udel.edu/freas-cus/\n",
      "http://events.udel.edu\n",
      "http://www1.udel.edu/buildings\n",
      "http://www1.udel.edu/canvas\n",
      "http://www.udel.edu/students/career-services-center\n",
      "http://www1.udel.edu/recreation/\n",
      "http://catalog.udel.edu/\n",
      "http://lerner.udel.edu/centers/caber\n",
      "http://bioinformatics.udel.edu/\n",
      "http://cber.udel.edu/\n",
      "http://www.che.udel.edu/ccst/\n",
      "https://www.sppa.udel.edu/ccrs/\n",
      "http://sites.udel.edu/counseling/\n",
      "https://www.cdhs.udel.edu/\n",
      "http://www1.udel.edu/ceee\n",
      "https://www.cgas.udel.edu/\n",
      "http://cfcb.udel.edu/\n",
      "http://www1.udel.edu/CHAD\n",
      "http://www1.udel.edu/cite\n",
      "http://www.che.udel.edu/cmet/\n",
      "https://www.cpc.udel.edu/\n",
      "http://sites.udel.edu/healthpro//\n",
      "http://www1.udel.edu/CRS/\n",
      "http://www1.udel.edu/dcte/\n",
      "http://www1.udel.edu/cte/\n",
      "http://www.ceoe.udel.edu/cmp/\n",
      "http://www1.udel.edu/provost/chr-ad/\n",
      "http://www1.udel.edu/transportation/charter_bus.html\n",
      "http://www1.udel.edu/cheerleading/\n",
      "http://www.che.udel.edu/\n",
      "http://www1.udel.edu/chem/\n",
      "http://www.ce.udel.edu/\n",
      "http://www.udel.edu/faculty-staff/human-resources/compensation/\n",
      "http://www1.udel.edu/classifieds\n",
      "http://conferences.udel.edu/newark-campus/\n",
      "http://www1.udel.edu/clubsports/\n",
      "https://www.lingcogsci.udel.edu//\n",
      "http://provost.udel.edu/faculty-affairs/\n",
      "http://ag.udel.edu/\n",
      "http://www.art-sci.udel.edu/\n",
      "http://www.lerner.udel.edu/\n",
      "http://www.ceoe.udel.edu/\n",
      "http://www.cehd.udel.edu/\n",
      "http://www.engr.udel.edu/\n",
      "http://www1.udel.edu/health/\n",
      "http://www1.udel.edu/commencement\n",
      "http://www1.udel.edu/registrar/students/curc.html\n",
      "https://www.communication.udel.edu/\n",
      "http://sites.udel.edu/ocm\n",
      "http://www1.udel.edu/compliance/\n",
      "http://www.cis.udel.edu/\n",
      "http://www1.udel.edu/security/\n",
      "http://www1.udel.edu/sites/\n",
      "http://conferences.udel.edu/\n",
      "http://extension.udel.edu/\n",
      "https://sites.udel.edu/counseling/\n",
      "http://www1.udel.edu/coursedesc/\n",
      "http://www1.udel.edu/courseevaladmin\n",
      "http://www1.udel.edu/udsis-students/courseevaluations.html\n",
      "http://www1.udel.edu/courses/\n",
      "http://www1.udel.edu/hotel\n",
      "http://www1.udel.edu/soc/\n",
      "http://www1.udel.edu/registrar/students/curc.html\n",
      "http://sites.udel.edu/freas-cus/#staff\n",
      "http://www1.udel.edu/dance/\n",
      "http://www1.udel.edu/studentlife/deanofstudents.html\n",
      "http://www.dbi.udel.edu/\n",
      "http://www1.udel.edu/dcte/\n",
      "http://ag.udel.edu/extension\n",
      "http://ire.udel.edu/hec/cost\n",
      "http://www.rdc.udel.edu/\n",
      "http://www.denin.udel.edu/\n",
      "http://www.deos.udel.edu/\n",
      "http://hydro.geog.udel.edu/DGA/index.php\n",
      "http://www1.udel.edu/dgs\n",
      "http://www.inbre.udel.edu/\n",
      "http://www1.udel.edu/LAS/lasp-derlas.html\n",
      "http://www.deseagrant.org/\n",
      "http://www.delspace.org/\n",
      "http://www.deltechpark.org/\n",
      "http://www.ce.udel.edu/dct/\n",
      "http://www.wrc.udel.edu\n",
      "http://www1.udel.edu/dining/\n",
      "http://www1.udel.edu/directions\n",
      "http://www1.udel.edu/ADA/\n",
      "http://www1.udel.edu/DRC\n",
      "http://www1.udel.edu/gradoffice/polproc/index.html#manual\n",
      "http://sites.udel.edu/dec\n",
      "http://www1.udel.edu/aboutus/diversity.html\n",
      "http://www1.udel.edu/dss\n",
      "https://pandora.nss.udel.edu/\n",
      "http://www.udel.edu/content/dam/udelImages/human-resources/Careers/threefold_dualcareer.pdf\n",
      "http://www1.udel.edu/winterthurprogram/\n",
      "http://www.elc.udel.edu/\n",
      "http://www.lerner.udel.edu/economics\n",
      "http://www1.udel.edu/edge/\n",
      "http://www1.udel.edu/erc/\n",
      "http://www1.udel.edu/education/\n",
      "http://www.ece.udel.edu/\n",
      "http://udel.edu/stu-org/udecu/\n",
      "http://www.udel.edu/faculty-staff/human-resources/employee-development/\n",
      "http://www1.udel.edu/wellbeing/\n",
      "http://www.udel.edu/faculty-staff/human-resources/careers/\n",
      "http://www.energy.udel.edu/\n",
      "http://www1.udel.edu/eli/\n",
      "https://www.english.udel.edu/undergraduate/english-major/\n",
      "http://ag.udel.edu/enwc/\n",
      "http://www1.udel.edu/ehs/\n",
      "http://www.environmentalportal.udel.edu/\n",
      "https://www.cgas.udel.edu/programs/european-studies\n",
      "http://www1.udel.edu/exams/\n",
      "http://lerner.udel.edu/programs/mba-programs/\n",
      "http://www1.udel.edu/experts\n",
      "http://www.facilities.udel.edu/\n",
      "http://sites.udel.edu/freas-cus/#pes\n",
      "http://www.facilities.udel.edu/\n",
      "http://sites.udel.edu/freas-ppd/\n",
      "http://www1.udel.edu/fsap/\n",
      "http://commons.udel.edu/\n",
      "http://www1.udel.edu/provost/fachb/\n",
      "http://www1.udel.edu/facsen/\n",
      "http://sites.udel.edu/eli/community/ud-staff-students/\n",
      "http://www1.udel.edu/Registrar/index.html#privacy\n",
      "http://www.fashion.udel.edu/\n",
      "http://www1.udel.edu/federal/\n",
      "http://www.udel.edu/apply/undergraduate-admissions/financing-your-degree/\n",
      "http://www.lerner.udel.edu/finance/\n",
      "http://www1.udel.edu/finaid/\n",
      "http://www1.udel.edu/art\n",
      "http://www1.udel.edu/fye/\n",
      "http://www1.udel.edu/fitness/\n",
      "http://www1.udel.edu/ud1flex/\n",
      "http://sites.udel.edu/usc/involved/\n",
      "http://www1.udel.edu/fllt/French/FrenchStudiesPage.html\n",
      "http://www1.udel.edu/gbv\n",
      "http://www1.udel.edu/genacct/\n",
      "http://www1.udel.edu/Geography/\n",
      "http://www.geology.udel.edu/\n",
      "http://www.rec.udel.edu/\n",
      "http://www1.udel.edu/fllt/faculty/lisat/\n",
      "http://www.ae.udel.edu/get-ahead-summer-program/\n",
      "http://www1.udel.edu/global\n",
      "http://www1.udel.edu/gradoffice/gradsenate/\n",
      "https://www.writingcenter.udel.edu/\n",
      "http://www1.udel.edu/TheGreen/\n",
      "http://sites.udel.edu/freas-cus/#grounds\n",
      "http://www1.udel.edu/hagley\n",
      "http://www.ceoe.udel.edu/Halophyte/\n",
      "http://www1.udel.edu/OHS\n",
      "http://www1.udel.edu/shs/\n",
      "http://www1.udel.edu/health/\n",
      "http://www1.udel.edu/studenthealth/healthyhens\n",
      "http://www1.udel.edu/healthyu/\n",
      "http://ire.udel.edu/hec\n",
      "http://www1.udel.edu/CHAD\n",
      "http://www1.udel.edu/History/\n",
      "http://www.udconnection.com/Homecoming\n",
      "http://www1.udel.edu/honors/\n",
      "http://www1.udel.edu/hotel\n",
      "http://www.lerner.udel.edu/departments/hrim/\n",
      "http://www1.udel.edu/has/\n",
      "http://www.udel.edu/faculty-staff/human-resources/hr-systems/\n",
      "http://www.hdfs.udel.edu/\n",
      "http://www.udel.edu/faculty-staff/human-resources/\n",
      "http://www1.udel.edu/icearena/\n",
      "http://www.udel.edu/udaily/memoriam/\n",
      "http://www1.udel.edu/ifst/\n",
      "http://www1.udel.edu/ILP/\n",
      "http://www.it.udel.edu/\n",
      "http://www.ats.udel.edu/\n",
      "http://www1.udel.edu/it/css.html\n",
      "http://www.mis.udel.edu/\n",
      "http://www1.udel.edu/UMS/\n",
      "http://www1.udel.edu/help/\n",
      "http://www1.udel.edu/myudbusiness\n",
      "http://www1.udel.edu/it/activity-reports.html\n",
      "http://www.ce.udel.edu/cibe/\n",
      "http://www1.udel.edu/global\n",
      "http://www.ipa.udel.edu/\n",
      "http://www1.udel.edu/inst/\n",
      "http://www1.udel.edu/iec/\n",
      "http://ire.udel.edu/ir\n",
      "http://www1.udel.edu/research/researchers/ipguide.html\n",
      "http://www.bluehens.com/\n",
      "https://www.isll.udel.edu/\n",
      "http://www.lib.udel.edu/ud/ill/\n",
      "http://www1.udel.edu/Treasurer/internalaudit.html\n",
      "http://www1.udel.edu/oiss/\n",
      "http://www1.udel.edu/recreation/int/\n",
      "http://sites.udel.edu/investments/\n",
      "https://www.cgas.udel.edu/programs/islamic-studies\n",
      "http://www1.udel.edu/fllt/Italian/\n",
      "http://www1.udel.edu/fllt/Japanese/index.html\n",
      "https://www.cgas.udel.edu/programs/jewish-studies\n",
      "http://www.udel.edu/faculty-staff/human-resources/careers/\n",
      "https://www.journalism.udel.edu/\n",
      "http://www.labpreschool.udel.edu/\n",
      "http://www.dllc.udel.edu/\n",
      "https://www.cgas.udel.edu/programs/latin-american-iberian-studies\n",
      "http://www1.udel.edu/dss/\n",
      "http://www1.udel.edu/Legal.Studies/\n",
      "http://www1.udel.edu/oei/get-involved/allies.html\n",
      "http://sites.udel.edu/freas-maint/#lewes\n",
      "http://www.lib.udel.edu/\n",
      "http://www.pcs.udel.edu/enrichment/retirement.html\n",
      "https://www.lingcogsci.udel.edu/\n",
      "http://sites.udel.edu/freas-maint/#lock\n",
      "http://sites.udel.edu/ocm/brand-identity/logos/\n",
      "https://sites.udel.edu/freas-cus/\n",
      "http://www1.udel.edu/mals/\n",
      "http://www.it.udel.edu/\n",
      "http://www1.udel.edu/buildings\n",
      "https://bluehens.com/sports/2018/6/4/210071932.aspx\n",
      "http://www1.udel.edu/mals/\n",
      "http://www.masterplayers.udel.edu/\n",
      "http://materialculture.udel.edu/\n",
      "http://www.mseg.udel.edu/\n",
      "https://www.mathsci.udel.edu/courses-placement/resources\n",
      "https://www.mathsci.udel.edu/\n",
      "http://www1.udel.edu/mserc/\n",
      "http://lerner.udel.edu/programs/mba-programs/\n",
      "http://mcnair.udel.edu/\n",
      "http://www1.udel.edu/dining/\n",
      "http://www.me.udel.edu/\n",
      "http://www1.udel.edu/UMS/\n",
      "http://www1.udel.edu/amnesty\n",
      "http://www1.udel.edu/mls/\n",
      "https://www.cas.udel.edu/medical-scholars/\n",
      "https://udel.campusdish.com/en/LocationsAndMenus/\n",
      "http://www1.udel.edu/udmessenger\n",
      "https://library.udel.edu/special/\n",
      "http://www.che.udel.edu/cmet/\n",
      "http://www1.udel.edu/motorpool/\n",
      "https://sites.udel.edu/freas-cus/\n",
      "http://www.museums.udel.edu/\n",
      "http://www.music.udel.edu/\n",
      "http://www1.udel.edu/myudbusiness\n",
      "http://udnf.udel.edu/\n",
      "http://www1.udel.edu/delaworld/\n",
      "http://www.cityofnewarkde.us/\n",
      "http://www1.udel.edu/udaily\n",
      "http://www.pcs.udel.edu/noncredit/\n",
      "http://www1.udel.edu/pac-ssac/\n",
      "http://www1.udel.edu/notary/\n",
      "http://www1.udel.edu/advance\n",
      "http://www.cas.udel.edu/nucleus\n",
      "http://www1.udel.edu/nmhc/\n",
      "http://www1.udel.edu/nursing/\n",
      "http://www1.udel.edu/HNES/index.html\n",
      "http://www.oceanic.udel.edu/\n",
      "https://www.ceoe.udel.edu/schools-departments/school-of-marine-science-and-policy/oceanography-program\n",
      "http://www1.udel.edu/oiss/\n",
      "http://ae.udel.edu/\n",
      "http://www.udconnection.com/\n",
      "http://www.ocs.udel.edu/\n",
      "http://sites.udel.edu/ocm\n",
      "http://www1.udel.edu/oeip\n",
      "http://assessment.udel.edu/\n",
      "http://www1.udel.edu/oet/\n",
      "http://www1.udel.edu/oei\n",
      "http://www1.udel.edu/gradoffice/\n",
      "http://ire.udel.edu/\n",
      "http://www.servicelearning.udel.edu/\n",
      "https://sites.udel.edu/studentconduct/\n",
      "http://www1.udel.edu/leathers/stclim.html\n",
      "http://www1.udel.edu/ExecVP/\n",
      "http://www1.udel.edu/president/\n",
      "http://www1.udel.edu/provost/\n",
      "http://ust.udel.edu/\n",
      "http://www1.udel.edu/Registrar/\n",
      "http://www1.udel.edu/generalcounsel/\n",
      "http://www1.udel.edu/vpfa/\n",
      "http://www.it.udel.edu/\n",
      "http://www1.udel.edu/research/\n",
      "http://www1.udel.edu/outdoorpool/\n",
      "http://www1.udel.edu/parents/\n",
      "http://www1.udel.edu/paycitations/\n",
      "http://www1.udel.edu/parking/\n",
      "http://www1.udel.edu/prominence/\n",
      "http://www.paulrjones.museums.udel.edu/\n",
      "http://www1.udel.edu/paybill\n",
      "http://www1.udel.edu/payroll\n",
      "http://www1.udel.edu/peoplesearch/\n",
      "http://www.udel.edu/faculty-staff/human-resources/hr-systems/\n",
      "http://www1.udel.edu/usc/psc.html\n",
      "http://www1.udel.edu/Philosophy/\n",
      "http://www1.udel.edu/PT/\n",
      "http://www.physics.udel.edu/\n",
      "http://web.physics.udel.edu/resources/library\n",
      "http://sites.udel.edu/freas-maint/#plumbing\n",
      "https://po-box.nss.udel.edu/about.php\n",
      "http://www.ums.udel.edu/podcast/\n",
      "http://www1.udel.edu/ExecVP/polprod/\n",
      "http://www1.udel.edu/ExecVP/polprod/1-14.html\n",
      "http://www1.udel.edu/provost/chr-ad/\n",
      "http://www1.udel.edu/poscir/\n",
      "http://www1.udel.edu/edge/\n",
      "http://www1.udel.edu/prelaw/\n",
      "http://www1.udel.edu/premed/\n",
      "https://www.mathsci.udel.edu/\n",
      "http://www1.udel.edu/diversity\n",
      "http://www1.udel.edu/president/\n",
      "http://sites.udel.edu/ocm/media-relations/resources-for-journalists/\n",
      "http://www1.udel.edu/printing/\n",
      "http://www1.udel.edu/inst\n",
      "http://www1.udel.edu/procurement/cards/\n",
      "http://www1.udel.edu/procurement/\n",
      "http://www.pcs.udel.edu/\n",
      "http://www.pdce.udel.edu/\n",
      "http://www1.udel.edu/prominence/\n",
      "http://www1.udel.edu/provost/\n",
      "http://www.psych.udel.edu/\n",
      "http://www.ipa.udel.edu/\n",
      "http://sites.udel.edu/ocm\n",
      "http://www1.udel.edu/PublicSafety/\n",
      "http://www.publications.udel.edu/\n",
      "http://www1.udel.edu/recreation/\n",
      "http://www.udel.edu/faculty-staff/human-resources/careers/\n",
      "https://udel.collegiatelink.net/organizations\n",
      "http://www1.udel.edu/registrar/\n",
      "http://www1.udel.edu/registrar/\n",
      "http://www1.udel.edu/Philosophy/RelStud/\n",
      "http://www1.udel.edu/CRS/\n",
      "http://www1.udel.edu/RH/index.html\n",
      "https://primus.nss.udel.edu/poView\n",
      "http://www1.udel.edu/research/centers\n",
      "http://www1.udel.edu/research/\n",
      "http://www.it.udel.edu/research-computing\n",
      "http://sites.udel.edu/freas-cus/#delivery\n",
      "http://www1.udel.edu/reslife/\n",
      "http://www.rep.udel.edu/Pages/default.aspx\n",
      "http://www1.udel.edu/Budget/rbb.html\n",
      "http://www1.udel.edu/ExecVP/polprod/1-14.html\n",
      "http://www1.udel.edu/afrotc\n",
      "http://www1.udel.edu/armyrotc/\n",
      "http://www1.udel.edu/ehs/\n",
      "http://www1.udel.edu/sakai/\n",
      "http://www1.udel.edu/education/\n",
      "http://www1.udel.edu/nursing/\n",
      "http://www.sppa.udel.edu/\n",
      "http://www.deseagrant.org/\n",
      "http://www1.udel.edu/sse/\n",
      "http://www.udel.edu/faculty-staff/human-resources/benefits/service-recognition/\n",
      "http://www.servicelearning.udel.edu/\n",
      "http://www1.udel.edu/bus\n",
      "http://www.ece.udel.edu/research/by-topics.php?tid=3\n",
      "http://www1.udel.edu/sites/\n",
      "http://www.ae.udel.edu/skilmod-skill-building-courses/\n",
      "http://www.delawaresbdc.org/\n",
      "http://www1.udel.edu/soc/\n",
      "http://sites.udel.edu/usc/involved/\n",
      "http://www1.udel.edu/wellspring/sos/\n",
      "http://www1.udel.edu/fllt/Spanish/\n",
      "http://www1.udel.edu/FREC/spatlab/\n",
      "http://www.lib.udel.edu/ud/spec/\n",
      "http://www1.udel.edu/specialsessions\n",
      "http://www1.udel.edu/spirituallife\n",
      "http://www1.udel.edu/research/\n",
      "http://www.bluehens.com/\n",
      "http://www1.udel.edu/pac-ssac/SAC/\n",
      "http://www1.udel.edu/leathers/stclim.html\n",
      "http://www1.udel.edu/delaware\n",
      "http://www1.udel.edu/strategicplanning/\n",
      "https://sites.udel.edu/civil/research/overview/structural-engineering/\n",
      "http://sites.udel.edu/freas-maint/#structural\n",
      "http://www1.udel.edu/sbct/\n",
      "http://www1.udel.edu/usc/\n",
      "http://www1.udel.edu/judicialaffairs\n",
      "http://www1.udel.edu/finaid/\n",
      "http://www1.udel.edu/stuguide/\n",
      "http://www1.udel.edu/shs/\n",
      "http://www1.udel.edu/studentlife/\n",
      "http://www1.udel.edu/smdc/\n",
      "https://udel.collegiatelink.net/organizations\n",
      "http://www1.udel.edu/ssa\n",
      "http://sssp.ae.udel.edu/\n",
      "http://www.ocs.udel.edu/student-teaching//\n",
      "http://www.udel.edu/students/veterans.html\n",
      "https://www.udel.edu/studentwellness\n",
      "http://www1.udel.edu/global/studyabroad/\n",
      "http://ae.udel.edu/\n",
      "http://ae.udel.edu/?page_id=30\n",
      "http://www1.udel.edu/summercollege/\n",
      "http://www1.udel.edu/sustainability/\n",
      "http://www.teachered.udel.edu/\n",
      "http://www1.udel.edu/cte/\n",
      "http://www.it.udel.edu/\n",
      "http://www1.udel.edu/TelephoneServices/\n",
      "http://www.rep.udel.edu/Pages/default.aspx\n",
      "http://www.collegeschool.udel.edu\n",
      "http://www.udreview.com/\n",
      "http://www1.udel.edu/gradoffice/polproc/index.html#manual\n",
      "http://www.bluehens.com/ViewArticle.dbml?DB_OEM_ID=29100&ATCLID=209249925&DB_OEM_ID=29100\n",
      "http://www1.udel.edu/explore/index.html\n",
      "http://www1.udel.edu/usc/tuc.html\n",
      "http://www.udel.edu/faculty-staff/human-resources/employee-development/\n",
      "http://www1.udel.edu/registrar/trans_cert.html\n",
      "http://www1.udel.edu/registrar/transfer\n",
      "http://www1.udel.edu/transfercredit\n",
      "http://www1.udel.edu/transportation/\n",
      "http://www.ce.udel.edu/research/transportation/\n",
      "http://www1.udel.edu/ExecVP/\n",
      "http://www1.udel.edu/bill_coll/fees.html\n",
      "http://www.udel.edu/faculty-staff/human-resources/benefits/tuition-benefits/tuition-exchange/\n",
      "http://ae.udel.edu/\n",
      "http://it.udel.edu/ats/cabletv/\n",
      "http://www.academe.udel.edu/\n",
      "http://www1.udel.edu/udataglance/\n",
      "http://www1.udel.edu/advance\n",
      "http://sites.udel.edu/udarf/\n",
      "http://www.energy.udel.edu/\n",
      "http://www1.udel.edu/registrar/students/idcard.html\n",
      "http://www1.udel.edu/ud1flex/\n",
      "http://www.udel.edu/udaily\n",
      "http://udel.edu/stu-org/udecu/\n",
      "http://www1.udel.edu/udnf\n",
      "http://www1.udel.edu/udsis-student/\n",
      "http://www.lerner.udel.edu/advising\n",
      "http://catalog.udel.edu/\n",
      "http://www.urel.udel.edu/urp/\n",
      "http://ust.udel.edu/\n",
      "http://sites.udel.edu/freas-ppd/\n",
      "http://www1.udel.edu/Archives/\n",
      "http://www1.udel.edu/bookstore/\n",
      "http://www1.udel.edu/usc/tuc.html\n",
      "http://www1.udel.edu/Development/\n",
      "http://www1.udel.edu/honors/\n",
      "http://sites.udel.edu/ocm/brand-identity/licensing-trademarks/\n",
      "http://www1.udel.edu/UMS/\n",
      "http://www.museums.udel.edu/\n",
      "http://www1.udel.edu/peoplesearch\n",
      "http://www1.udel.edu/udfsc/\n",
      "http://www1.udel.edu/udmessenger\n",
      "http://www2.lib.udel.edu/udpress\n",
      "http://www1.udel.edu/hagley\n",
      "http://www1.udel.edu/printing/\n",
      "http://www1.udel.edu/Registrar/\n",
      "http://www.udconnection.com/\n",
      "http://www1.udel.edu/vp-sec/\n",
      "http://www1.udel.edu/usc/\n",
      "http://www.ust.udel.edu/\n",
      "http://www1.udel.edu/registrar/transfer/\n",
      "http://www1.udel.edu/execvp/\n",
      "https://www.writingcenter.udel.edu/\n",
      "http://sites.udel.edu/upwardbound/\n",
      "http://sites.udel.edu/ubms/\n",
      "http://www1.udel.edu/it/css.html\n",
      "http://www.udel.edu/apply/undergraduate-admissions/parents-and-families/vast/\n",
      "http://www.vending.udel.edu/\n",
      "http://www.udel.edu/students/veterans.html\n",
      "http://www1.udel.edu/generalcounsel/\n",
      "http://www1.udel.edu/vp-sec/\n",
      "http://www1.udel.edu/vpfa/\n",
      "http://www.it.udel.edu/\n",
      "http://www1.udel.edu/research\n",
      "http://www1.udel.edu/viewbook/\n",
      "http://conferences.udel.edu/lewes-campus/\n",
      "http://lerner.udel.edu/centers/experiential-learning-centers/vita-nova-restaurant/\n",
      "http://www1.udel.edu/voicemail/\n",
      "http://www.wr.udel.edu/\n",
      "http://www1.udel.edu/webforms\n",
      "http://www1.udel.edu/mail\n",
      "http://www1.udel.edu/webviews\n",
      "https://www.weinberg.udel.edu/\n",
      "http://www1.udel.edu/wellbeing/\n",
      "http://www1.udel.edu/winterthurprogram/\n",
      "http://www1.udel.edu/it/help/wireless/configure-your-computer-use-udel-secure-wireless-network.html\n",
      "http://www1.udel.edu/it/help/wireless_residence.html\n",
      "http://sites.udel.edu/wgs/\n",
      "http://sites.udel.edu/women/\n",
      "http://www1.udel.edu/worldscholars\n",
      "https://www.writingcenter.udel.edu\n",
      "http://www.wvud.org/\n",
      "https://bluehens.com/sports/2018/6/4/210071932.aspx\n",
      "http://www1.udel.edu/transportation/zipcar.html\n",
      "https://www.udel.edu/home/a-z//udphotos/\n",
      "https://www.udel.edu/home/a-z//apply/undergraduate-admissions/major-finder/\n",
      "https://www.udel.edu/home/a-z//alumni-friends/\n",
      "https://www.udel.edu/home/a-z//home/\n",
      "https://www.udel.edu/home/a-z//about/\n",
      "https://www.udel.edu/home/a-z//athletics/\n",
      "https://www.udel.edu/home/a-z//udaily/\n",
      "http://www1.udel.edu/admissions/virtual-tour/\n",
      "https://www.udel.edu/home/a-z//faculty-staff/human-resources/careers/\n",
      "https://www.udel.edu/home/a-z//apply/undergraduate-admissions/\n",
      "http://grad.udel.edu/\n",
      "https://www.udel.edu/home/a-z//academics/colleges/\n",
      "http://library.udel.edu\n",
      "https://www.udel.edu/home/a-z//research-innovation/\n",
      "https://www.udel.edu/home/a-z//home/legal-notices/accessibility/\n",
      "https://www1.udel.edu/peoplesearch/\n",
      "https://udel.onecampus.com/\n",
      "https://www1.udel.edu/police/\n",
      "https://www.udel.edu/home/a-z//home/a-z/\n",
      "https://www.udel.edu/home/a-z//home/contact-ud/\n",
      "https://goo.gl/maps/kYvTqC5k5ok\n",
      "https://twitter.com/UDelaware\n",
      "https://www.facebook.com/udelaware\n",
      "https://www.instagram.com/udelaware\n",
      "https://www.youtube.com/univdelaware\n",
      "https://www.pinterest.com/udelaware/\n",
      "https://www.linkedin.com/edu/school?id=18070\n",
      "https://twitter.com/UDelaware\n",
      "https://www.facebook.com/udelaware\n",
      "https://www.instagram.com/udelaware\n",
      "https://www.youtube.com/univdelaware\n",
      "https://www.pinterest.com/udelaware/\n",
      "https://www.linkedin.com/edu/school?id=18070\n",
      "https://www.udel.edu/home/a-z//home/comments/\n",
      "https://www.udel.edu/home/a-z//home/legal-notices/\n",
      "https://www.udel.edu/home/a-z//home/legal-notices/accessibility/\n"
     ]
    },
    {
     "name": "stderr",
     "output_type": "stream",
     "text": [
      "/usr/lib/python2.7/dist-packages/bs4/__init__.py:181: UserWarning: No parser was explicitly specified, so I'm using the best available HTML parser for this system (\"lxml\"). This usually isn't a problem, but if you run this code on another system, or in a different virtual environment, it may use a different parser and behave differently.\n",
      "\n",
      "The code that caused this warning is on line 174 of the file /usr/lib/python2.7/runpy.py. To get rid of this warning, change code that looks like this:\n",
      "\n",
      " BeautifulSoup(YOUR_MARKUP})\n",
      "\n",
      "to this:\n",
      "\n",
      " BeautifulSoup(YOUR_MARKUP, \"lxml\")\n",
      "\n",
      "  markup_type=markup_type))\n"
     ]
    }
   ],
   "source": [
    "url = 'https://www.udel.edu/home/a-z/'\n",
    "\n",
    "r  = requests.get(url)\n",
    "\n",
    "data = r.text\n",
    "\n",
    "soup = BeautifulSoup(data)\n",
    "\n",
    "for link in soup.find_all('a'):\n",
    "    if 'http' in link.get('href'):\n",
    "        print link.get('href')\n",
    "    else:\n",
    "        print url+link.get('href')"
   ]
  },
  {
   "cell_type": "markdown",
   "metadata": {},
   "source": [
    "## Selenium"
   ]
  },
  {
   "cell_type": "code",
   "execution_count": null,
   "metadata": {
    "ExecuteTime": {
     "end_time": "2018-10-10T23:21:03.103484Z",
     "start_time": "2018-10-10T23:21:00.468985Z"
    }
   },
   "outputs": [],
   "source": [
    "url = \"https://data.ers.usda.gov/reports.aspx?ID=17826\"\n",
    "browser = webdriver.Firefox()"
   ]
  },
  {
   "cell_type": "code",
   "execution_count": 215,
   "metadata": {
    "ExecuteTime": {
     "end_time": "2018-10-10T23:21:20.942133Z",
     "start_time": "2018-10-10T23:21:18.849832Z"
    }
   },
   "outputs": [],
   "source": [
    "browser.get(url)"
   ]
  },
  {
   "cell_type": "code",
   "execution_count": 223,
   "metadata": {
    "ExecuteTime": {
     "end_time": "2018-10-10T23:24:46.671245Z",
     "start_time": "2018-10-10T23:24:43.323450Z"
    }
   },
   "outputs": [],
   "source": [
    "number_link = browser.find_element_by_link_text('Number')\n",
    "number_link.click()\n",
    "time.sleep(3)"
   ]
  },
  {
   "cell_type": "code",
   "execution_count": 225,
   "metadata": {
    "ExecuteTime": {
     "end_time": "2018-10-10T23:26:50.496237Z",
     "start_time": "2018-10-10T23:26:49.258762Z"
    }
   },
   "outputs": [],
   "source": [
    "save_icon = browser.find_element_by_xpath('//*[@id=\"ctl00_MainContentPlaceHolder_reportingServicesWrapper1__reportViewer_ctl05_ctl04_ctl00_ButtonLink\"]')\n",
    "save_icon.click()\n",
    "time.sleep(1)"
   ]
  },
  {
   "cell_type": "code",
   "execution_count": 226,
   "metadata": {},
   "outputs": [],
   "source": [
    "excel_option = browser.find_element_by_xpath('/html/body/form/div[7]/div/div/div/div[2]/div/table/tbody/tr[2]/td/div/span/div/table/tbody/tr[3]/td/div/div/div[4]/table/tbody/tr/td/div[2]/div[3]')\n",
    "hover = ActionChains(browser).move_to_element(excel_option)\n",
    "hover.perform()\n",
    "time.sleep(1)"
   ]
  },
  {
   "cell_type": "code",
   "execution_count": 227,
   "metadata": {
    "ExecuteTime": {
     "end_time": "2018-10-10T23:27:32.837302Z",
     "start_time": "2018-10-10T23:27:31.531205Z"
    }
   },
   "outputs": [],
   "source": [
    "save_button = browser.find_element_by_xpath('/html/body/form/div[7]/div/div/div/div[2]/div/table/tbody/tr[2]/td/div/span/div/table/tbody/tr[3]/td/div/div/div[4]/table/tbody/tr/td/div[2]/div[3]/a')\n",
    "save_button.click()\n",
    "time.sleep(1)"
   ]
  },
  {
   "cell_type": "code",
   "execution_count": 68,
   "metadata": {
    "ExecuteTime": {
     "end_time": "2018-10-10T21:21:29.258564Z",
     "start_time": "2018-10-10T21:21:29.227083Z"
    }
   },
   "outputs": [],
   "source": [
    "df = pd.read_excel('/home/python/Downloads/PovertyReport.xlsx', \n",
    "                        sheet_name = 'PovertyReport',\n",
    "                        skiprows = [0,1,2,3,4,5],\n",
    "                        index_col = None,\n",
    "                        header = None,\n",
    "                        names = ['State', 'All_People_in_Poverty', 'Children_Ages_0_17_in_Poverty'],\n",
    "                        usecols = \"A,E,I\",\n",
    "                        skipfooter = 2)\n"
   ]
  },
  {
   "cell_type": "code",
   "execution_count": 69,
   "metadata": {
    "ExecuteTime": {
     "end_time": "2018-10-10T21:21:34.704920Z",
     "start_time": "2018-10-10T21:21:34.692376Z"
    }
   },
   "outputs": [
    {
     "data": {
      "text/html": [
       "<div>\n",
       "<style scoped>\n",
       "    .dataframe tbody tr th:only-of-type {\n",
       "        vertical-align: middle;\n",
       "    }\n",
       "\n",
       "    .dataframe tbody tr th {\n",
       "        vertical-align: top;\n",
       "    }\n",
       "\n",
       "    .dataframe thead th {\n",
       "        text-align: right;\n",
       "    }\n",
       "</style>\n",
       "<table border=\"1\" class=\"dataframe\">\n",
       "  <thead>\n",
       "    <tr style=\"text-align: right;\">\n",
       "      <th></th>\n",
       "      <th>State</th>\n",
       "      <th>All_People_in_Poverty</th>\n",
       "      <th>Children_Ages_0_17_in_Poverty</th>\n",
       "    </tr>\n",
       "  </thead>\n",
       "  <tbody>\n",
       "    <tr>\n",
       "      <th>0</th>\n",
       "      <td>Alabama</td>\n",
       "      <td>814197</td>\n",
       "      <td>267674</td>\n",
       "    </tr>\n",
       "    <tr>\n",
       "      <th>1</th>\n",
       "      <td>Alaska</td>\n",
       "      <td>71916</td>\n",
       "      <td>24897</td>\n",
       "    </tr>\n",
       "    <tr>\n",
       "      <th>2</th>\n",
       "      <td>Arizona</td>\n",
       "      <td>1107153</td>\n",
       "      <td>377445</td>\n",
       "    </tr>\n",
       "    <tr>\n",
       "      <th>3</th>\n",
       "      <td>Arkansas</td>\n",
       "      <td>497388</td>\n",
       "      <td>165724</td>\n",
       "    </tr>\n",
       "    <tr>\n",
       "      <th>4</th>\n",
       "      <td>California</td>\n",
       "      <td>5527621</td>\n",
       "      <td>1782764</td>\n",
       "    </tr>\n",
       "  </tbody>\n",
       "</table>\n",
       "</div>"
      ],
      "text/plain": [
       "        State  All_People_in_Poverty  Children_Ages_0_17_in_Poverty\n",
       "0     Alabama                 814197                         267674\n",
       "1      Alaska                  71916                          24897\n",
       "2     Arizona                1107153                         377445\n",
       "3    Arkansas                 497388                         165724\n",
       "4  California                5527621                        1782764"
      ]
     },
     "execution_count": 69,
     "metadata": {},
     "output_type": "execute_result"
    }
   ],
   "source": [
    "df.head()"
   ]
  },
  {
   "cell_type": "code",
   "execution_count": 70,
   "metadata": {
    "ExecuteTime": {
     "end_time": "2018-10-10T21:22:30.534772Z",
     "start_time": "2018-10-10T21:22:30.526665Z"
    }
   },
   "outputs": [],
   "source": [
    "df = df.set_index('State')\n",
    "df = df.drop(['National'])"
   ]
  },
  {
   "cell_type": "code",
   "execution_count": 71,
   "metadata": {
    "ExecuteTime": {
     "end_time": "2018-10-10T21:22:40.397217Z",
     "start_time": "2018-10-10T21:22:39.118703Z"
    }
   },
   "outputs": [
    {
     "data": {
      "text/html": [
       "<style  type=\"text/css\" >\n",
       "    #T_16dc1a24_d640_11e8_bd2d_000c29f62545row0_col0 {\n",
       "            background-color:  #ecf9f1;\n",
       "        }    #T_16dc1a24_d640_11e8_bd2d_000c29f62545row0_col1 {\n",
       "            background-color:  #ecf9f1;\n",
       "        }    #T_16dc1a24_d640_11e8_bd2d_000c29f62545row1_col0 {\n",
       "            background-color:  #d7ede1;\n",
       "        }    #T_16dc1a24_d640_11e8_bd2d_000c29f62545row1_col1 {\n",
       "            background-color:  #d8ede2;\n",
       "        }    #T_16dc1a24_d640_11e8_bd2d_000c29f62545row2_col0 {\n",
       "            background-color:  #e4f4eb;\n",
       "        }    #T_16dc1a24_d640_11e8_bd2d_000c29f62545row2_col1 {\n",
       "            background-color:  #e4f4eb;\n",
       "        }    #T_16dc1a24_d640_11e8_bd2d_000c29f62545row3_col0 {\n",
       "            background-color:  #d3eadd;\n",
       "        }    #T_16dc1a24_d640_11e8_bd2d_000c29f62545row3_col1 {\n",
       "            background-color:  #d6ece0;\n",
       "        }    #T_16dc1a24_d640_11e8_bd2d_000c29f62545row4_col0 {\n",
       "            background-color:  #cfe8da;\n",
       "        }    #T_16dc1a24_d640_11e8_bd2d_000c29f62545row4_col1 {\n",
       "            background-color:  #d2eadc;\n",
       "        }    #T_16dc1a24_d640_11e8_bd2d_000c29f62545row5_col0 {\n",
       "            background-color:  #ecf9f1;\n",
       "        }    #T_16dc1a24_d640_11e8_bd2d_000c29f62545row5_col1 {\n",
       "            background-color:  #ecf9f1;\n",
       "        }    #T_16dc1a24_d640_11e8_bd2d_000c29f62545row6_col0 {\n",
       "            background-color:  #e4f4eb;\n",
       "        }    #T_16dc1a24_d640_11e8_bd2d_000c29f62545row6_col1 {\n",
       "            background-color:  #e3f3ea;\n",
       "        }    #T_16dc1a24_d640_11e8_bd2d_000c29f62545row7_col0 {\n",
       "            background-color:  #5aa47b;\n",
       "        }    #T_16dc1a24_d640_11e8_bd2d_000c29f62545row7_col1 {\n",
       "            background-color:  #409566;\n",
       "        }    #T_16dc1a24_d640_11e8_bd2d_000c29f62545row8_col0 {\n",
       "            background-color:  #cae5d6;\n",
       "        }    #T_16dc1a24_d640_11e8_bd2d_000c29f62545row8_col1 {\n",
       "            background-color:  #cae5d6;\n",
       "        }    #T_16dc1a24_d640_11e8_bd2d_000c29f62545row9_col0 {\n",
       "            background-color:  #eaf8f0;\n",
       "        }    #T_16dc1a24_d640_11e8_bd2d_000c29f62545row9_col1 {\n",
       "            background-color:  #eaf8f0;\n",
       "        }    #T_16dc1a24_d640_11e8_bd2d_000c29f62545row10_col0 {\n",
       "            background-color:  #d5ebdf;\n",
       "        }    #T_16dc1a24_d640_11e8_bd2d_000c29f62545row10_col1 {\n",
       "            background-color:  #d3eadd;\n",
       "        }    #T_16dc1a24_d640_11e8_bd2d_000c29f62545row11_col0 {\n",
       "            background-color:  #eaf7f0;\n",
       "        }    #T_16dc1a24_d640_11e8_bd2d_000c29f62545row11_col1 {\n",
       "            background-color:  #eaf7f0;\n",
       "        }    #T_16dc1a24_d640_11e8_bd2d_000c29f62545row12_col0 {\n",
       "            background-color:  #b7dac6;\n",
       "        }    #T_16dc1a24_d640_11e8_bd2d_000c29f62545row12_col1 {\n",
       "            background-color:  #badcc9;\n",
       "        }    #T_16dc1a24_d640_11e8_bd2d_000c29f62545row13_col0 {\n",
       "            background-color:  #dbefe4;\n",
       "        }    #T_16dc1a24_d640_11e8_bd2d_000c29f62545row13_col1 {\n",
       "            background-color:  #def1e7;\n",
       "        }    #T_16dc1a24_d640_11e8_bd2d_000c29f62545row14_col0 {\n",
       "            background-color:  #d9eee2;\n",
       "        }    #T_16dc1a24_d640_11e8_bd2d_000c29f62545row14_col1 {\n",
       "            background-color:  #d7ede1;\n",
       "        }    #T_16dc1a24_d640_11e8_bd2d_000c29f62545row15_col0 {\n",
       "            background-color:  #b5d9c5;\n",
       "        }    #T_16dc1a24_d640_11e8_bd2d_000c29f62545row15_col1 {\n",
       "            background-color:  #b5d9c5;\n",
       "        }    #T_16dc1a24_d640_11e8_bd2d_000c29f62545row16_col0 {\n",
       "            background-color:  #ecf9f1;\n",
       "        }    #T_16dc1a24_d640_11e8_bd2d_000c29f62545row16_col1 {\n",
       "            background-color:  #ecf9f1;\n",
       "        }    #T_16dc1a24_d640_11e8_bd2d_000c29f62545row17_col0 {\n",
       "            background-color:  #b9dbc8;\n",
       "        }    #T_16dc1a24_d640_11e8_bd2d_000c29f62545row17_col1 {\n",
       "            background-color:  #b9dbc8;\n",
       "        }    #T_16dc1a24_d640_11e8_bd2d_000c29f62545row18_col0 {\n",
       "            background-color:  #8bc1a3;\n",
       "        }    #T_16dc1a24_d640_11e8_bd2d_000c29f62545row18_col1 {\n",
       "            background-color:  #92c5a8;\n",
       "        }    #T_16dc1a24_d640_11e8_bd2d_000c29f62545row19_col0 {\n",
       "            background-color:  #e1f2e8;\n",
       "        }    #T_16dc1a24_d640_11e8_bd2d_000c29f62545row19_col1 {\n",
       "            background-color:  #dff1e7;\n",
       "        }    #T_16dc1a24_d640_11e8_bd2d_000c29f62545row20_col0 {\n",
       "            background-color:  #cfe8da;\n",
       "        }    #T_16dc1a24_d640_11e8_bd2d_000c29f62545row20_col1 {\n",
       "            background-color:  #d0e8da;\n",
       "        }    #T_16dc1a24_d640_11e8_bd2d_000c29f62545row21_col0 {\n",
       "            background-color:  #ebf8f1;\n",
       "        }    #T_16dc1a24_d640_11e8_bd2d_000c29f62545row21_col1 {\n",
       "            background-color:  #ecf9f1;\n",
       "        }    #T_16dc1a24_d640_11e8_bd2d_000c29f62545row22_col0 {\n",
       "            background-color:  #e0f2e8;\n",
       "        }    #T_16dc1a24_d640_11e8_bd2d_000c29f62545row22_col1 {\n",
       "            background-color:  #e0f2e8;\n",
       "        }    #T_16dc1a24_d640_11e8_bd2d_000c29f62545row23_col0 {\n",
       "            background-color:  #e7f6ee;\n",
       "        }    #T_16dc1a24_d640_11e8_bd2d_000c29f62545row23_col1 {\n",
       "            background-color:  #e7f6ed;\n",
       "        }    #T_16dc1a24_d640_11e8_bd2d_000c29f62545row24_col0 {\n",
       "            background-color:  #eaf7f0;\n",
       "        }    #T_16dc1a24_d640_11e8_bd2d_000c29f62545row24_col1 {\n",
       "            background-color:  #eaf8f0;\n",
       "        }    #T_16dc1a24_d640_11e8_bd2d_000c29f62545row25_col0 {\n",
       "            background-color:  #d2eadc;\n",
       "        }    #T_16dc1a24_d640_11e8_bd2d_000c29f62545row25_col1 {\n",
       "            background-color:  #d2eadc;\n",
       "        }    #T_16dc1a24_d640_11e8_bd2d_000c29f62545row26_col0 {\n",
       "            background-color:  #d9eee2;\n",
       "        }    #T_16dc1a24_d640_11e8_bd2d_000c29f62545row26_col1 {\n",
       "            background-color:  #d7ede1;\n",
       "        }    #T_16dc1a24_d640_11e8_bd2d_000c29f62545row27_col0 {\n",
       "            background-color:  #dcf0e5;\n",
       "        }    #T_16dc1a24_d640_11e8_bd2d_000c29f62545row27_col1 {\n",
       "            background-color:  #ddf0e5;\n",
       "        }    #T_16dc1a24_d640_11e8_bd2d_000c29f62545row28_col0 {\n",
       "            background-color:  #bcddcb;\n",
       "        }    #T_16dc1a24_d640_11e8_bd2d_000c29f62545row28_col1 {\n",
       "            background-color:  #bedecc;\n",
       "        }    #T_16dc1a24_d640_11e8_bd2d_000c29f62545row29_col0 {\n",
       "            background-color:  #d6ece0;\n",
       "        }    #T_16dc1a24_d640_11e8_bd2d_000c29f62545row29_col1 {\n",
       "            background-color:  #daeee3;\n",
       "        }    #T_16dc1a24_d640_11e8_bd2d_000c29f62545row30_col0 {\n",
       "            background-color:  #dbefe4;\n",
       "        }    #T_16dc1a24_d640_11e8_bd2d_000c29f62545row30_col1 {\n",
       "            background-color:  #dbefe4;\n",
       "        }    #T_16dc1a24_d640_11e8_bd2d_000c29f62545row31_col0 {\n",
       "            background-color:  #e9f7ef;\n",
       "        }    #T_16dc1a24_d640_11e8_bd2d_000c29f62545row31_col1 {\n",
       "            background-color:  #eaf7f0;\n",
       "        }    #T_16dc1a24_d640_11e8_bd2d_000c29f62545row32_col0 {\n",
       "            background-color:  #cfe8da;\n",
       "        }    #T_16dc1a24_d640_11e8_bd2d_000c29f62545row32_col1 {\n",
       "            background-color:  #cde7d8;\n",
       "        }    #T_16dc1a24_d640_11e8_bd2d_000c29f62545row33_col0 {\n",
       "            background-color:  #d3eadd;\n",
       "        }    #T_16dc1a24_d640_11e8_bd2d_000c29f62545row33_col1 {\n",
       "            background-color:  #d4ebde;\n",
       "        }    #T_16dc1a24_d640_11e8_bd2d_000c29f62545row34_col0 {\n",
       "            background-color:  #e2f3ea;\n",
       "        }    #T_16dc1a24_d640_11e8_bd2d_000c29f62545row34_col1 {\n",
       "            background-color:  #e3f3ea;\n",
       "        }    #T_16dc1a24_d640_11e8_bd2d_000c29f62545row35_col0 {\n",
       "            background-color:  #e2f3ea;\n",
       "        }    #T_16dc1a24_d640_11e8_bd2d_000c29f62545row35_col1 {\n",
       "            background-color:  #e3f3ea;\n",
       "        }    #T_16dc1a24_d640_11e8_bd2d_000c29f62545row36_col0 {\n",
       "            background-color:  #cfe8da;\n",
       "        }    #T_16dc1a24_d640_11e8_bd2d_000c29f62545row36_col1 {\n",
       "            background-color:  #cee7d9;\n",
       "        }    #T_16dc1a24_d640_11e8_bd2d_000c29f62545row37_col0 {\n",
       "            background-color:  #b5d9c5;\n",
       "        }    #T_16dc1a24_d640_11e8_bd2d_000c29f62545row37_col1 {\n",
       "            background-color:  #b7dac6;\n",
       "        }    #T_16dc1a24_d640_11e8_bd2d_000c29f62545row38_col0 {\n",
       "            background-color:  #e7f6ed;\n",
       "        }    #T_16dc1a24_d640_11e8_bd2d_000c29f62545row38_col1 {\n",
       "            background-color:  #e6f5ed;\n",
       "        }    #T_16dc1a24_d640_11e8_bd2d_000c29f62545row39_col0 {\n",
       "            background-color:  #eaf7f0;\n",
       "        }    #T_16dc1a24_d640_11e8_bd2d_000c29f62545row39_col1 {\n",
       "            background-color:  #eaf8f0;\n",
       "        }    #T_16dc1a24_d640_11e8_bd2d_000c29f62545row40_col0 {\n",
       "            background-color:  #b6dac6;\n",
       "        }    #T_16dc1a24_d640_11e8_bd2d_000c29f62545row40_col1 {\n",
       "            background-color:  #b0d6c1;\n",
       "        }    #T_16dc1a24_d640_11e8_bd2d_000c29f62545row41_col0 {\n",
       "            background-color:  #87be9f;\n",
       "        }    #T_16dc1a24_d640_11e8_bd2d_000c29f62545row41_col1 {\n",
       "            background-color:  #90c4a7;\n",
       "        }    #T_16dc1a24_d640_11e8_bd2d_000c29f62545row42_col0 {\n",
       "            background-color:  #eaf8f0;\n",
       "        }    #T_16dc1a24_d640_11e8_bd2d_000c29f62545row42_col1 {\n",
       "            background-color:  #eaf8f0;\n",
       "        }    #T_16dc1a24_d640_11e8_bd2d_000c29f62545row43_col0 {\n",
       "            background-color:  #eaf8f0;\n",
       "        }    #T_16dc1a24_d640_11e8_bd2d_000c29f62545row43_col1 {\n",
       "            background-color:  #eaf8f0;\n",
       "        }    #T_16dc1a24_d640_11e8_bd2d_000c29f62545row44_col0 {\n",
       "            background-color:  #e2f3ea;\n",
       "        }    #T_16dc1a24_d640_11e8_bd2d_000c29f62545row44_col1 {\n",
       "            background-color:  #e4f4eb;\n",
       "        }    #T_16dc1a24_d640_11e8_bd2d_000c29f62545row45_col0 {\n",
       "            background-color:  #d9eee2;\n",
       "        }    #T_16dc1a24_d640_11e8_bd2d_000c29f62545row45_col1 {\n",
       "            background-color:  #dcf0e5;\n",
       "        }    #T_16dc1a24_d640_11e8_bd2d_000c29f62545row46_col0 {\n",
       "            background-color:  #2e8b57;\n",
       "        }    #T_16dc1a24_d640_11e8_bd2d_000c29f62545row46_col1 {\n",
       "            background-color:  #2e8b57;\n",
       "        }    #T_16dc1a24_d640_11e8_bd2d_000c29f62545row47_col0 {\n",
       "            background-color:  #ddf0e5;\n",
       "        }    #T_16dc1a24_d640_11e8_bd2d_000c29f62545row47_col1 {\n",
       "            background-color:  #dcf0e5;\n",
       "        }    #T_16dc1a24_d640_11e8_bd2d_000c29f62545row48_col0 {\n",
       "            background-color:  #c8e4d4;\n",
       "        }    #T_16dc1a24_d640_11e8_bd2d_000c29f62545row48_col1 {\n",
       "            background-color:  #c5e2d2;\n",
       "        }    #T_16dc1a24_d640_11e8_bd2d_000c29f62545row49_col0 {\n",
       "            background-color:  #ecf9f1;\n",
       "        }    #T_16dc1a24_d640_11e8_bd2d_000c29f62545row49_col1 {\n",
       "            background-color:  #ebf8f1;\n",
       "        }    #T_16dc1a24_d640_11e8_bd2d_000c29f62545row50_col0 {\n",
       "            background-color:  #d2eadc;\n",
       "        }    #T_16dc1a24_d640_11e8_bd2d_000c29f62545row50_col1 {\n",
       "            background-color:  #d1e9dc;\n",
       "        }</style>  \n",
       "<table id=\"T_16dc1a24_d640_11e8_bd2d_000c29f62545\" > \n",
       "<thead>    <tr> \n",
       "        <th class=\"blank level0\" ></th> \n",
       "        <th class=\"col_heading level0 col0\" >All_People_in_Poverty</th> \n",
       "        <th class=\"col_heading level0 col1\" >Children_Ages_0_17_in_Poverty</th> \n",
       "    </tr>    <tr> \n",
       "        <th class=\"index_name level0\" >State</th> \n",
       "        <th class=\"blank\" ></th> \n",
       "        <th class=\"blank\" ></th> \n",
       "    </tr></thead> \n",
       "<tbody>    <tr> \n",
       "        <th id=\"T_16dc1a24_d640_11e8_bd2d_000c29f62545level0_row0\" class=\"row_heading level0 row0\" >Wyoming</th> \n",
       "        <td id=\"T_16dc1a24_d640_11e8_bd2d_000c29f62545row0_col0\" class=\"data row0 col0\" >62416</td> \n",
       "        <td id=\"T_16dc1a24_d640_11e8_bd2d_000c29f62545row0_col1\" class=\"data row0 col1\" >15846</td> \n",
       "    </tr>    <tr> \n",
       "        <th id=\"T_16dc1a24_d640_11e8_bd2d_000c29f62545level0_row1\" class=\"row_heading level0 row1\" >Wisconsin</th> \n",
       "        <td id=\"T_16dc1a24_d640_11e8_bd2d_000c29f62545row1_col0\" class=\"data row1 col0\" >661465</td> \n",
       "        <td id=\"T_16dc1a24_d640_11e8_bd2d_000c29f62545row1_col1\" class=\"data row1 col1\" >198425</td> \n",
       "    </tr>    <tr> \n",
       "        <th id=\"T_16dc1a24_d640_11e8_bd2d_000c29f62545level0_row2\" class=\"row_heading level0 row2\" >West Virginia</th> \n",
       "        <td id=\"T_16dc1a24_d640_11e8_bd2d_000c29f62545row2_col0\" class=\"data row2 col0\" >318368</td> \n",
       "        <td id=\"T_16dc1a24_d640_11e8_bd2d_000c29f62545row2_col1\" class=\"data row2 col1\" >87806</td> \n",
       "    </tr>    <tr> \n",
       "        <th id=\"T_16dc1a24_d640_11e8_bd2d_000c29f62545level0_row3\" class=\"row_heading level0 row3\" >Washington</th> \n",
       "        <td id=\"T_16dc1a24_d640_11e8_bd2d_000c29f62545row3_col0\" class=\"data row3 col0\" >808582</td> \n",
       "        <td id=\"T_16dc1a24_d640_11e8_bd2d_000c29f62545row3_col1\" class=\"data row3 col1\" >222292</td> \n",
       "    </tr>    <tr> \n",
       "        <th id=\"T_16dc1a24_d640_11e8_bd2d_000c29f62545level0_row4\" class=\"row_heading level0 row4\" >Virginia</th> \n",
       "        <td id=\"T_16dc1a24_d640_11e8_bd2d_000c29f62545row4_col0\" class=\"data row4 col0\" >897244</td> \n",
       "        <td id=\"T_16dc1a24_d640_11e8_bd2d_000c29f62545row4_col1\" class=\"data row4 col1\" >262642</td> \n",
       "    </tr>    <tr> \n",
       "        <th id=\"T_16dc1a24_d640_11e8_bd2d_000c29f62545level0_row5\" class=\"row_heading level0 row5\" >Vermont</th> \n",
       "        <td id=\"T_16dc1a24_d640_11e8_bd2d_000c29f62545row5_col0\" class=\"data row5 col0\" >67825</td> \n",
       "        <td id=\"T_16dc1a24_d640_11e8_bd2d_000c29f62545row5_col1\" class=\"data row5 col1\" >15614</td> \n",
       "    </tr>    <tr> \n",
       "        <th id=\"T_16dc1a24_d640_11e8_bd2d_000c29f62545level0_row6\" class=\"row_heading level0 row6\" >Utah</th> \n",
       "        <td id=\"T_16dc1a24_d640_11e8_bd2d_000c29f62545row6_col0\" class=\"data row6 col0\" >307270</td> \n",
       "        <td id=\"T_16dc1a24_d640_11e8_bd2d_000c29f62545row6_col1\" class=\"data row6 col1\" >100216</td> \n",
       "    </tr>    <tr> \n",
       "        <th id=\"T_16dc1a24_d640_11e8_bd2d_000c29f62545level0_row7\" class=\"row_heading level0 row7\" >Texas</th> \n",
       "        <td id=\"T_16dc1a24_d640_11e8_bd2d_000c29f62545row7_col0\" class=\"data row7 col0\" >4261291</td> \n",
       "        <td id=\"T_16dc1a24_d640_11e8_bd2d_000c29f62545row7_col1\" class=\"data row7 col1\" >1616085</td> \n",
       "    </tr>    <tr> \n",
       "        <th id=\"T_16dc1a24_d640_11e8_bd2d_000c29f62545level0_row8\" class=\"row_heading level0 row8\" >Tennessee</th> \n",
       "        <td id=\"T_16dc1a24_d640_11e8_bd2d_000c29f62545row8_col0\" class=\"data row8 col0\" >1023825</td> \n",
       "        <td id=\"T_16dc1a24_d640_11e8_bd2d_000c29f62545row8_col1\" class=\"data row8 col1\" >333899</td> \n",
       "    </tr>    <tr> \n",
       "        <th id=\"T_16dc1a24_d640_11e8_bd2d_000c29f62545level0_row9\" class=\"row_heading level0 row9\" >South Dakota</th> \n",
       "        <td id=\"T_16dc1a24_d640_11e8_bd2d_000c29f62545row9_col0\" class=\"data row9 col0\" >107953</td> \n",
       "        <td id=\"T_16dc1a24_d640_11e8_bd2d_000c29f62545row9_col1\" class=\"data row9 col1\" >34790</td> \n",
       "    </tr>    <tr> \n",
       "        <th id=\"T_16dc1a24_d640_11e8_bd2d_000c29f62545level0_row10\" class=\"row_heading level0 row10\" >South Carolina</th> \n",
       "        <td id=\"T_16dc1a24_d640_11e8_bd2d_000c29f62545row10_col0\" class=\"data row10 col0\" >739574</td> \n",
       "        <td id=\"T_16dc1a24_d640_11e8_bd2d_000c29f62545row10_col1\" class=\"data row10 col1\" >249108</td> \n",
       "    </tr>    <tr> \n",
       "        <th id=\"T_16dc1a24_d640_11e8_bd2d_000c29f62545level0_row11\" class=\"row_heading level0 row11\" >Rhode Island</th> \n",
       "        <td id=\"T_16dc1a24_d640_11e8_bd2d_000c29f62545row11_col0\" class=\"data row11 col0\" >134683</td> \n",
       "        <td id=\"T_16dc1a24_d640_11e8_bd2d_000c29f62545row11_col1\" class=\"data row11 col1\" >38682</td> \n",
       "    </tr>    <tr> \n",
       "        <th id=\"T_16dc1a24_d640_11e8_bd2d_000c29f62545level0_row12\" class=\"row_heading level0 row12\" >Pennsylvania</th> \n",
       "        <td id=\"T_16dc1a24_d640_11e8_bd2d_000c29f62545row12_col0\" class=\"data row12 col0\" >1589584</td> \n",
       "        <td id=\"T_16dc1a24_d640_11e8_bd2d_000c29f62545row12_col1\" class=\"data row12 col1\" >482298</td> \n",
       "    </tr>    <tr> \n",
       "        <th id=\"T_16dc1a24_d640_11e8_bd2d_000c29f62545level0_row13\" class=\"row_heading level0 row13\" >Oregon</th> \n",
       "        <td id=\"T_16dc1a24_d640_11e8_bd2d_000c29f62545row13_col0\" class=\"data row13 col0\" >538169</td> \n",
       "        <td id=\"T_16dc1a24_d640_11e8_bd2d_000c29f62545row13_col1\" class=\"data row13 col1\" >146609</td> \n",
       "    </tr>    <tr> \n",
       "        <th id=\"T_16dc1a24_d640_11e8_bd2d_000c29f62545level0_row14\" class=\"row_heading level0 row14\" >Oklahoma</th> \n",
       "        <td id=\"T_16dc1a24_d640_11e8_bd2d_000c29f62545row14_col0\" class=\"data row14 col0\" >615050</td> \n",
       "        <td id=\"T_16dc1a24_d640_11e8_bd2d_000c29f62545row14_col1\" class=\"data row14 col1\" >212700</td> \n",
       "    </tr>    <tr> \n",
       "        <th id=\"T_16dc1a24_d640_11e8_bd2d_000c29f62545level0_row15\" class=\"row_heading level0 row15\" >Ohio</th> \n",
       "        <td id=\"T_16dc1a24_d640_11e8_bd2d_000c29f62545row15_col0\" class=\"data row15 col0\" >1639636</td> \n",
       "        <td id=\"T_16dc1a24_d640_11e8_bd2d_000c29f62545row15_col1\" class=\"data row15 col1\" >521730</td> \n",
       "    </tr>    <tr> \n",
       "        <th id=\"T_16dc1a24_d640_11e8_bd2d_000c29f62545level0_row16\" class=\"row_heading level0 row16\" >North Dakota</th> \n",
       "        <td id=\"T_16dc1a24_d640_11e8_bd2d_000c29f62545row16_col0\" class=\"data row16 col0\" >76951</td> \n",
       "        <td id=\"T_16dc1a24_d640_11e8_bd2d_000c29f62545row16_col1\" class=\"data row16 col1\" >20518</td> \n",
       "    </tr>    <tr> \n",
       "        <th id=\"T_16dc1a24_d640_11e8_bd2d_000c29f62545level0_row17\" class=\"row_heading level0 row17\" >North Carolina</th> \n",
       "        <td id=\"T_16dc1a24_d640_11e8_bd2d_000c29f62545row17_col0\" class=\"data row17 col0\" >1523034</td> \n",
       "        <td id=\"T_16dc1a24_d640_11e8_bd2d_000c29f62545row17_col1\" class=\"data row17 col1\" >490775</td> \n",
       "    </tr>    <tr> \n",
       "        <th id=\"T_16dc1a24_d640_11e8_bd2d_000c29f62545level0_row18\" class=\"row_heading level0 row18\" >New York</th> \n",
       "        <td id=\"T_16dc1a24_d640_11e8_bd2d_000c29f62545row18_col0\" class=\"data row18 col0\" >2843954</td> \n",
       "        <td id=\"T_16dc1a24_d640_11e8_bd2d_000c29f62545row18_col1\" class=\"data row18 col1\" >853769</td> \n",
       "    </tr>    <tr> \n",
       "        <th id=\"T_16dc1a24_d640_11e8_bd2d_000c29f62545level0_row19\" class=\"row_heading level0 row19\" >New Mexico</th> \n",
       "        <td id=\"T_16dc1a24_d640_11e8_bd2d_000c29f62545row19_col0\" class=\"data row19 col0\" >390461</td> \n",
       "        <td id=\"T_16dc1a24_d640_11e8_bd2d_000c29f62545row19_col1\" class=\"data row19 col1\" >134546</td> \n",
       "    </tr>    <tr> \n",
       "        <th id=\"T_16dc1a24_d640_11e8_bd2d_000c29f62545level0_row20\" class=\"row_heading level0 row20\" >New Jersey</th> \n",
       "        <td id=\"T_16dc1a24_d640_11e8_bd2d_000c29f62545row20_col0\" class=\"data row20 col0\" >915390</td> \n",
       "        <td id=\"T_16dc1a24_d640_11e8_bd2d_000c29f62545row20_col1\" class=\"data row20 col1\" >283761</td> \n",
       "    </tr>    <tr> \n",
       "        <th id=\"T_16dc1a24_d640_11e8_bd2d_000c29f62545level0_row21\" class=\"row_heading level0 row21\" >New Hampshire</th> \n",
       "        <td id=\"T_16dc1a24_d640_11e8_bd2d_000c29f62545row21_col0\" class=\"data row21 col0\" >97753</td> \n",
       "        <td id=\"T_16dc1a24_d640_11e8_bd2d_000c29f62545row21_col1\" class=\"data row21 col1\" >21896</td> \n",
       "    </tr>    <tr> \n",
       "        <th id=\"T_16dc1a24_d640_11e8_bd2d_000c29f62545level0_row22\" class=\"row_heading level0 row22\" >Nevada</th> \n",
       "        <td id=\"T_16dc1a24_d640_11e8_bd2d_000c29f62545row22_col0\" class=\"data row22 col0\" >407308</td> \n",
       "        <td id=\"T_16dc1a24_d640_11e8_bd2d_000c29f62545row22_col1\" class=\"data row22 col1\" >132012</td> \n",
       "    </tr>    <tr> \n",
       "        <th id=\"T_16dc1a24_d640_11e8_bd2d_000c29f62545level0_row23\" class=\"row_heading level0 row23\" >Nebraska</th> \n",
       "        <td id=\"T_16dc1a24_d640_11e8_bd2d_000c29f62545row23_col0\" class=\"data row23 col0\" >208864</td> \n",
       "        <td id=\"T_16dc1a24_d640_11e8_bd2d_000c29f62545row23_col1\" class=\"data row23 col1\" >64333</td> \n",
       "    </tr>    <tr> \n",
       "        <th id=\"T_16dc1a24_d640_11e8_bd2d_000c29f62545level0_row24\" class=\"row_heading level0 row24\" >Montana</th> \n",
       "        <td id=\"T_16dc1a24_d640_11e8_bd2d_000c29f62545row24_col0\" class=\"data row24 col0\" >136439</td> \n",
       "        <td id=\"T_16dc1a24_d640_11e8_bd2d_000c29f62545row24_col1\" class=\"data row24 col1\" >36016</td> \n",
       "    </tr>    <tr> \n",
       "        <th id=\"T_16dc1a24_d640_11e8_bd2d_000c29f62545level0_row25\" class=\"row_heading level0 row25\" >Missouri</th> \n",
       "        <td id=\"T_16dc1a24_d640_11e8_bd2d_000c29f62545row25_col0\" class=\"data row25 col0\" >826358</td> \n",
       "        <td id=\"T_16dc1a24_d640_11e8_bd2d_000c29f62545row25_col1\" class=\"data row25 col1\" >260867</td> \n",
       "    </tr>    <tr> \n",
       "        <th id=\"T_16dc1a24_d640_11e8_bd2d_000c29f62545level0_row26\" class=\"row_heading level0 row26\" >Mississippi</th> \n",
       "        <td id=\"T_16dc1a24_d640_11e8_bd2d_000c29f62545row26_col0\" class=\"data row26 col0\" >606873</td> \n",
       "        <td id=\"T_16dc1a24_d640_11e8_bd2d_000c29f62545row26_col1\" class=\"data row26 col1\" >214012</td> \n",
       "    </tr>    <tr> \n",
       "        <th id=\"T_16dc1a24_d640_11e8_bd2d_000c29f62545level0_row27\" class=\"row_heading level0 row27\" >Minnesota</th> \n",
       "        <td id=\"T_16dc1a24_d640_11e8_bd2d_000c29f62545row27_col0\" class=\"data row27 col0\" >531789</td> \n",
       "        <td id=\"T_16dc1a24_d640_11e8_bd2d_000c29f62545row27_col1\" class=\"data row27 col1\" >158751</td> \n",
       "    </tr>    <tr> \n",
       "        <th id=\"T_16dc1a24_d640_11e8_bd2d_000c29f62545level0_row28\" class=\"row_heading level0 row28\" >Michigan</th> \n",
       "        <td id=\"T_16dc1a24_d640_11e8_bd2d_000c29f62545row28_col0\" class=\"data row28 col0\" >1449683</td> \n",
       "        <td id=\"T_16dc1a24_d640_11e8_bd2d_000c29f62545row28_col1\" class=\"data row28 col1\" >444100</td> \n",
       "    </tr>    <tr> \n",
       "        <th id=\"T_16dc1a24_d640_11e8_bd2d_000c29f62545level0_row29\" class=\"row_heading level0 row29\" >Massachusetts</th> \n",
       "        <td id=\"T_16dc1a24_d640_11e8_bd2d_000c29f62545row29_col0\" class=\"data row29 col0\" >688366</td> \n",
       "        <td id=\"T_16dc1a24_d640_11e8_bd2d_000c29f62545row29_col1\" class=\"data row29 col1\" >184610</td> \n",
       "    </tr>    <tr> \n",
       "        <th id=\"T_16dc1a24_d640_11e8_bd2d_000c29f62545level0_row30\" class=\"row_heading level0 row30\" >Maryland</th> \n",
       "        <td id=\"T_16dc1a24_d640_11e8_bd2d_000c29f62545row30_col0\" class=\"data row30 col0\" >572786</td> \n",
       "        <td id=\"T_16dc1a24_d640_11e8_bd2d_000c29f62545row30_col1\" class=\"data row30 col1\" >172868</td> \n",
       "    </tr>    <tr> \n",
       "        <th id=\"T_16dc1a24_d640_11e8_bd2d_000c29f62545level0_row31\" class=\"row_heading level0 row31\" >Maine</th> \n",
       "        <td id=\"T_16dc1a24_d640_11e8_bd2d_000c29f62545row31_col0\" class=\"data row31 col0\" >159523</td> \n",
       "        <td id=\"T_16dc1a24_d640_11e8_bd2d_000c29f62545row31_col1\" class=\"data row31 col1\" >41428</td> \n",
       "    </tr>    <tr> \n",
       "        <th id=\"T_16dc1a24_d640_11e8_bd2d_000c29f62545level0_row32\" class=\"row_heading level0 row32\" >Louisiana</th> \n",
       "        <td id=\"T_16dc1a24_d640_11e8_bd2d_000c29f62545row32_col0\" class=\"data row32 col0\" >911970</td> \n",
       "        <td id=\"T_16dc1a24_d640_11e8_bd2d_000c29f62545row32_col1\" class=\"data row32 col1\" >310392</td> \n",
       "    </tr>    <tr> \n",
       "        <th id=\"T_16dc1a24_d640_11e8_bd2d_000c29f62545level0_row33\" class=\"row_heading level0 row33\" >Kentucky</th> \n",
       "        <td id=\"T_16dc1a24_d640_11e8_bd2d_000c29f62545row33_col0\" class=\"data row33 col0\" >782779</td> \n",
       "        <td id=\"T_16dc1a24_d640_11e8_bd2d_000c29f62545row33_col1\" class=\"data row33 col1\" >241231</td> \n",
       "    </tr>    <tr> \n",
       "        <th id=\"T_16dc1a24_d640_11e8_bd2d_000c29f62545level0_row34\" class=\"row_heading level0 row34\" >Kansas</th> \n",
       "        <td id=\"T_16dc1a24_d640_11e8_bd2d_000c29f62545row34_col0\" class=\"data row34 col0\" >343773</td> \n",
       "        <td id=\"T_16dc1a24_d640_11e8_bd2d_000c29f62545row34_col1\" class=\"data row34 col1\" >100996</td> \n",
       "    </tr>    <tr> \n",
       "        <th id=\"T_16dc1a24_d640_11e8_bd2d_000c29f62545level0_row35\" class=\"row_heading level0 row35\" >Iowa</th> \n",
       "        <td id=\"T_16dc1a24_d640_11e8_bd2d_000c29f62545row35_col0\" class=\"data row35 col0\" >354429</td> \n",
       "        <td id=\"T_16dc1a24_d640_11e8_bd2d_000c29f62545row35_col1\" class=\"data row35 col1\" >104340</td> \n",
       "    </tr>    <tr> \n",
       "        <th id=\"T_16dc1a24_d640_11e8_bd2d_000c29f62545level0_row36\" class=\"row_heading level0 row36\" >Indiana</th> \n",
       "        <td id=\"T_16dc1a24_d640_11e8_bd2d_000c29f62545row36_col0\" class=\"data row36 col0\" >899168</td> \n",
       "        <td id=\"T_16dc1a24_d640_11e8_bd2d_000c29f62545row36_col1\" class=\"data row36 col1\" >294900</td> \n",
       "    </tr>    <tr> \n",
       "        <th id=\"T_16dc1a24_d640_11e8_bd2d_000c29f62545level0_row37\" class=\"row_heading level0 row37\" >Illinois</th> \n",
       "        <td id=\"T_16dc1a24_d640_11e8_bd2d_000c29f62545row37_col0\" class=\"data row37 col0\" >1620974</td> \n",
       "        <td id=\"T_16dc1a24_d640_11e8_bd2d_000c29f62545row37_col1\" class=\"data row37 col1\" >512256</td> \n",
       "    </tr>    <tr> \n",
       "        <th id=\"T_16dc1a24_d640_11e8_bd2d_000c29f62545level0_row38\" class=\"row_heading level0 row38\" >Idaho</th> \n",
       "        <td id=\"T_16dc1a24_d640_11e8_bd2d_000c29f62545row38_col0\" class=\"data row38 col0\" >228037</td> \n",
       "        <td id=\"T_16dc1a24_d640_11e8_bd2d_000c29f62545row38_col1\" class=\"data row38 col1\" >71836</td> \n",
       "    </tr>    <tr> \n",
       "        <th id=\"T_16dc1a24_d640_11e8_bd2d_000c29f62545level0_row39\" class=\"row_heading level0 row39\" >Hawaii</th> \n",
       "        <td id=\"T_16dc1a24_d640_11e8_bd2d_000c29f62545row39_col0\" class=\"data row39 col0\" >132597</td> \n",
       "        <td id=\"T_16dc1a24_d640_11e8_bd2d_000c29f62545row39_col1\" class=\"data row39 col1\" >33801</td> \n",
       "    </tr>    <tr> \n",
       "        <th id=\"T_16dc1a24_d640_11e8_bd2d_000c29f62545level0_row40\" class=\"row_heading level0 row40\" >Georgia</th> \n",
       "        <td id=\"T_16dc1a24_d640_11e8_bd2d_000c29f62545row40_col0\" class=\"data row40 col0\" >1612368</td> \n",
       "        <td id=\"T_16dc1a24_d640_11e8_bd2d_000c29f62545row40_col1\" class=\"data row40 col1\" >572102</td> \n",
       "    </tr>    <tr> \n",
       "        <th id=\"T_16dc1a24_d640_11e8_bd2d_000c29f62545level0_row41\" class=\"row_heading level0 row41\" >Florida</th> \n",
       "        <td id=\"T_16dc1a24_d640_11e8_bd2d_000c29f62545row41_col0\" class=\"data row41 col0\" >2986237</td> \n",
       "        <td id=\"T_16dc1a24_d640_11e8_bd2d_000c29f62545row41_col1\" class=\"data row41 col1\" >869892</td> \n",
       "    </tr>    <tr> \n",
       "        <th id=\"T_16dc1a24_d640_11e8_bd2d_000c29f62545level0_row42\" class=\"row_heading level0 row42\" >District of Columbia</th> \n",
       "        <td id=\"T_16dc1a24_d640_11e8_bd2d_000c29f62545row42_col0\" class=\"data row42 col0\" >119778</td> \n",
       "        <td id=\"T_16dc1a24_d640_11e8_bd2d_000c29f62545row42_col1\" class=\"data row42 col1\" >32715</td> \n",
       "    </tr>    <tr> \n",
       "        <th id=\"T_16dc1a24_d640_11e8_bd2d_000c29f62545level0_row43\" class=\"row_heading level0 row43\" >Delaware</th> \n",
       "        <td id=\"T_16dc1a24_d640_11e8_bd2d_000c29f62545row43_col0\" class=\"data row43 col0\" >109592</td> \n",
       "        <td id=\"T_16dc1a24_d640_11e8_bd2d_000c29f62545row43_col1\" class=\"data row43 col1\" >35702</td> \n",
       "    </tr>    <tr> \n",
       "        <th id=\"T_16dc1a24_d640_11e8_bd2d_000c29f62545level0_row44\" class=\"row_heading level0 row44\" >Connecticut</th> \n",
       "        <td id=\"T_16dc1a24_d640_11e8_bd2d_000c29f62545row44_col0\" class=\"data row44 col0\" >342171</td> \n",
       "        <td id=\"T_16dc1a24_d640_11e8_bd2d_000c29f62545row44_col1\" class=\"data row44 col1\" >97462</td> \n",
       "    </tr>    <tr> \n",
       "        <th id=\"T_16dc1a24_d640_11e8_bd2d_000c29f62545level0_row45\" class=\"row_heading level0 row45\" >Colorado</th> \n",
       "        <td id=\"T_16dc1a24_d640_11e8_bd2d_000c29f62545row45_col0\" class=\"data row45 col0\" >598378</td> \n",
       "        <td id=\"T_16dc1a24_d640_11e8_bd2d_000c29f62545row45_col1\" class=\"data row45 col1\" >166581</td> \n",
       "    </tr>    <tr> \n",
       "        <th id=\"T_16dc1a24_d640_11e8_bd2d_000c29f62545level0_row46\" class=\"row_heading level0 row46\" >California</th> \n",
       "        <td id=\"T_16dc1a24_d640_11e8_bd2d_000c29f62545row46_col0\" class=\"data row46 col0\" >5527621</td> \n",
       "        <td id=\"T_16dc1a24_d640_11e8_bd2d_000c29f62545row46_col1\" class=\"data row46 col1\" >1782764</td> \n",
       "    </tr>    <tr> \n",
       "        <th id=\"T_16dc1a24_d640_11e8_bd2d_000c29f62545level0_row47\" class=\"row_heading level0 row47\" >Arkansas</th> \n",
       "        <td id=\"T_16dc1a24_d640_11e8_bd2d_000c29f62545row47_col0\" class=\"data row47 col0\" >497388</td> \n",
       "        <td id=\"T_16dc1a24_d640_11e8_bd2d_000c29f62545row47_col1\" class=\"data row47 col1\" >165724</td> \n",
       "    </tr>    <tr> \n",
       "        <th id=\"T_16dc1a24_d640_11e8_bd2d_000c29f62545level0_row48\" class=\"row_heading level0 row48\" >Arizona</th> \n",
       "        <td id=\"T_16dc1a24_d640_11e8_bd2d_000c29f62545row48_col0\" class=\"data row48 col0\" >1107153</td> \n",
       "        <td id=\"T_16dc1a24_d640_11e8_bd2d_000c29f62545row48_col1\" class=\"data row48 col1\" >377445</td> \n",
       "    </tr>    <tr> \n",
       "        <th id=\"T_16dc1a24_d640_11e8_bd2d_000c29f62545level0_row49\" class=\"row_heading level0 row49\" >Alaska</th> \n",
       "        <td id=\"T_16dc1a24_d640_11e8_bd2d_000c29f62545row49_col0\" class=\"data row49 col0\" >71916</td> \n",
       "        <td id=\"T_16dc1a24_d640_11e8_bd2d_000c29f62545row49_col1\" class=\"data row49 col1\" >24897</td> \n",
       "    </tr>    <tr> \n",
       "        <th id=\"T_16dc1a24_d640_11e8_bd2d_000c29f62545level0_row50\" class=\"row_heading level0 row50\" >Alabama</th> \n",
       "        <td id=\"T_16dc1a24_d640_11e8_bd2d_000c29f62545row50_col0\" class=\"data row50 col0\" >814197</td> \n",
       "        <td id=\"T_16dc1a24_d640_11e8_bd2d_000c29f62545row50_col1\" class=\"data row50 col1\" >267674</td> \n",
       "    </tr></tbody> \n",
       "</table> "
      ],
      "text/plain": [
       "<pandas.io.formats.style.Styler at 0x7f9397fdfe10>"
      ]
     },
     "execution_count": 71,
     "metadata": {},
     "output_type": "execute_result"
    }
   ],
   "source": [
    "df.sort_index(ascending=False, inplace=True)\n",
    "cm = sns.light_palette(\"seagreen\", as_cmap=True)\n",
    "styled_table = df.style.background_gradient(cmap=cm)\n",
    "styled_table"
   ]
  },
  {
   "cell_type": "code",
   "execution_count": 73,
   "metadata": {
    "ExecuteTime": {
     "end_time": "2018-10-10T21:23:15.559040Z",
     "start_time": "2018-10-10T21:23:15.402820Z"
    }
   },
   "outputs": [
    {
     "data": {
      "application/vnd.jupyter.widget-view+json": {
       "model_id": "5a2b999793f24c7b92888bd29bc0bb58",
       "version_major": 2,
       "version_minor": 0
      },
      "text/plain": [
       "FigureCanvasNbAgg()"
      ]
     },
     "metadata": {},
     "output_type": "display_data"
    },
    {
     "data": {
      "text/plain": [
       "<matplotlib.axes._subplots.AxesSubplot at 0x7f93c43dec50>"
      ]
     },
     "execution_count": 73,
     "metadata": {},
     "output_type": "execute_result"
    }
   ],
   "source": [
    "df.plot(title='Poverty Statistics')\n",
    "plt.draw()\n",
    "plt.show()"
   ]
  },
  {
   "cell_type": "code",
   "execution_count": null,
   "metadata": {},
   "outputs": [],
   "source": []
  },
  {
   "cell_type": "code",
   "execution_count": null,
   "metadata": {},
   "outputs": [],
   "source": []
  },
  {
   "cell_type": "code",
   "execution_count": null,
   "metadata": {},
   "outputs": [],
   "source": []
  },
  {
   "cell_type": "markdown",
   "metadata": {
    "deletable": false,
    "editable": false,
    "run_control": {
     "frozen": true
    }
   },
   "source": [
    "## urlLib2 www.fixxbook.com\n",
    ">Fixxbook is a searchable directory and\n",
    "contractor compliance management program that leading\n",
    "retail and restaurant brands use to find and manage\n",
    "over 50,000 quality commercial contractors.\n"
   ]
  },
  {
   "cell_type": "markdown",
   "metadata": {
    "deletable": false,
    "editable": false,
    "run_control": {
     "frozen": true
    }
   },
   "source": [
    "<legend>Let's use the public API to find US contractors by providing keywords to search </legend>"
   ]
  },
  {
   "cell_type": "code",
   "execution_count": 15,
   "metadata": {},
   "outputs": [],
   "source": [
    "### Set-up Parameters ###\n",
    "keyword = \"snow+removal\"\n",
    "keys = ['BusinessName', 'City', 'Country', 'Description', 'Email', 'Fax', 'Id', 'LogoUrl', 'NearestAreaDistance',\n",
    "        'Phone', 'PostalCode', 'ProfileScore', 'State', 'StreetAddress1', 'StreetAddress2', 'WebSiteUrl']\n",
    "url = \"https://app.fixxbook.com/api/mobile/v1/public/search?trade=\"+keyword+\"&location=US&pagesize=10000\""
   ]
  },
  {
   "cell_type": "code",
   "execution_count": 16,
   "metadata": {},
   "outputs": [],
   "source": [
    "raw = urllib2.urlopen(url).read()\n",
    "data = json.loads(raw)"
   ]
  },
  {
   "cell_type": "code",
   "execution_count": 17,
   "metadata": {},
   "outputs": [
    {
     "name": "stdout",
     "output_type": "stream",
     "text": [
      "Found data for 420 businesses...\n"
     ]
    }
   ],
   "source": [
    "print 'Found data for ' + str(len(data)) + ' businesses...'"
   ]
  },
  {
   "cell_type": "code",
   "execution_count": 18,
   "metadata": {},
   "outputs": [
    {
     "data": {
      "image/svg+xml": [
       "<?xml version=\"1.0\" encoding=\"UTF-8\" standalone=\"no\"?>\n",
       "<!DOCTYPE svg PUBLIC \"-//W3C//DTD SVG 1.1//EN\"\n",
       " \"http://www.w3.org/Graphics/SVG/1.1/DTD/svg11.dtd\">\n",
       "<!-- Generated by graphviz version 2.40.1 (20161225.0304)\n",
       " -->\n",
       "<!-- Title: G Pages: 1 -->\n",
       "<svg width=\"327pt\" height=\"531pt\"\n",
       " viewBox=\"0.00 0.00 327.00 531.00\" xmlns=\"http://www.w3.org/2000/svg\" xmlns:xlink=\"http://www.w3.org/1999/xlink\">\n",
       "<g id=\"graph0\" class=\"graph\" transform=\"scale(1 1) rotate(0) translate(4 527)\">\n",
       "<title>G</title>\n",
       "<polygon fill=\"#ffffff\" stroke=\"transparent\" points=\"-4,4 -4,-527 323,-527 323,4 -4,4\"/>\n",
       "<!-- node140272193075896 -->\n",
       "<g id=\"node1\" class=\"node\">\n",
       "<title>node140272193075896</title>\n",
       "<polygon fill=\"#cfe2d4\" stroke=\"#444443\" stroke-width=\".5\" points=\"14,-278 0,-278 0,-244 14,-244 14,-278\"/>\n",
       "<polygon fill=\"#cfe2d4\" stroke=\"transparent\" points=\"1,-261 1,-277 13,-277 13,-261 1,-261\"/>\n",
       "<polyline fill=\"none\" stroke=\"#444443\" points=\"1,-261 13,-261 \"/>\n",
       "<text text-anchor=\"start\" x=\"4\" y=\"-266.8\" font-family=\"Helvetica,sans-Serif\" font-size=\"9.00\" fill=\"#444443\">0</text>\n",
       "<polygon fill=\"#cfe2d4\" stroke=\"transparent\" points=\"1,-245 1,-261 13,-261 13,-245 1,-245\"/>\n",
       "<text text-anchor=\"start\" x=\"4\" y=\"-250.8\" font-family=\"Helvetica,sans-Serif\" font-size=\"9.00\" fill=\"#444443\">1</text>\n",
       "</g>\n",
       "<!-- node140272192431280 -->\n",
       "<g id=\"node2\" class=\"node\">\n",
       "<title>node140272192431280</title>\n",
       "<polygon fill=\"#fefecd\" stroke=\"#444443\" stroke-width=\".5\" points=\"308,-523 47,-523 47,-265 308,-265 308,-523\"/>\n",
       "<polygon fill=\"#fefecd\" stroke=\"transparent\" points=\"49.5,-507 49.5,-521 167.5,-521 167.5,-507 49.5,-507\"/>\n",
       "<text text-anchor=\"start\" x=\"78.5\" y=\"-511.2\" font-family=\"Helvetica,sans-Serif\" font-size=\"11.00\" fill=\"#444443\">u&#39;StreetAddress2&#39; </text>\n",
       "<text text-anchor=\"start\" x=\"167.5\" y=\"-509.8\" font-family=\"Helvetica,sans-Serif\" font-size=\"9.00\" fill=\"#444443\">→</text>\n",
       "<polygon fill=\"#fefecd\" stroke=\"transparent\" points=\"177.5,-507 177.5,-521 306.5,-521 306.5,-507 177.5,-507\"/>\n",
       "<text text-anchor=\"start\" x=\"178.5\" y=\"-511.2\" font-family=\"Helvetica,sans-Serif\" font-size=\"11.00\" fill=\"#444443\"> u&#39;3rd fl&#39;</text>\n",
       "<polygon fill=\"#fefecd\" stroke=\"transparent\" points=\"49.5,-505 49.5,-507 306.5,-507 306.5,-505 49.5,-505\"/>\n",
       "<polygon fill=\"#fefecd\" stroke=\"transparent\" points=\"49.5,-491 49.5,-505 167.5,-505 167.5,-491 49.5,-491\"/>\n",
       "<text text-anchor=\"start\" x=\"78.5\" y=\"-495.2\" font-family=\"Helvetica,sans-Serif\" font-size=\"11.00\" fill=\"#444443\">u&#39;StreetAddress1&#39; </text>\n",
       "<text text-anchor=\"start\" x=\"167.5\" y=\"-493.8\" font-family=\"Helvetica,sans-Serif\" font-size=\"9.00\" fill=\"#444443\">→</text>\n",
       "<polygon fill=\"#fefecd\" stroke=\"transparent\" points=\"177.5,-491 177.5,-505 306.5,-505 306.5,-491 177.5,-491\"/>\n",
       "<text text-anchor=\"start\" x=\"178.5\" y=\"-495.2\" font-family=\"Helvetica,sans-Serif\" font-size=\"11.00\" fill=\"#444443\"> u&#39;105 Main Street&#39;</text>\n",
       "<polygon fill=\"#fefecd\" stroke=\"transparent\" points=\"49.5,-489 49.5,-491 306.5,-491 306.5,-489 49.5,-489\"/>\n",
       "<polygon fill=\"#fefecd\" stroke=\"transparent\" points=\"49.5,-475 49.5,-489 167.5,-489 167.5,-475 49.5,-475\"/>\n",
       "<text text-anchor=\"start\" x=\"99.5\" y=\"-479.2\" font-family=\"Helvetica,sans-Serif\" font-size=\"11.00\" fill=\"#444443\">u&#39;Description&#39; </text>\n",
       "<text text-anchor=\"start\" x=\"167.5\" y=\"-477.8\" font-family=\"Helvetica,sans-Serif\" font-size=\"9.00\" fill=\"#444443\">→</text>\n",
       "<polygon fill=\"#fefecd\" stroke=\"transparent\" points=\"177.5,-475 177.5,-489 306.5,-489 306.5,-475 177.5,-475\"/>\n",
       "<text text-anchor=\"start\" x=\"178.5\" y=\"-479.2\" font-family=\"Helvetica,sans-Serif\" font-size=\"11.00\" fill=\"#444443\"> &#39;Veterans is a facili...&#39;</text>\n",
       "<polygon fill=\"#fefecd\" stroke=\"transparent\" points=\"49.5,-473 49.5,-475 306.5,-475 306.5,-473 49.5,-473\"/>\n",
       "<polygon fill=\"#fefecd\" stroke=\"transparent\" points=\"49.5,-459 49.5,-473 167.5,-473 167.5,-459 49.5,-459\"/>\n",
       "<text text-anchor=\"start\" x=\"134.5\" y=\"-463.2\" font-family=\"Helvetica,sans-Serif\" font-size=\"11.00\" fill=\"#444443\">u&#39;City&#39; </text>\n",
       "<text text-anchor=\"start\" x=\"167.5\" y=\"-461.8\" font-family=\"Helvetica,sans-Serif\" font-size=\"9.00\" fill=\"#444443\">→</text>\n",
       "<polygon fill=\"#fefecd\" stroke=\"transparent\" points=\"177.5,-459 177.5,-473 306.5,-473 306.5,-459 177.5,-459\"/>\n",
       "<text text-anchor=\"start\" x=\"178.5\" y=\"-463.2\" font-family=\"Helvetica,sans-Serif\" font-size=\"11.00\" fill=\"#444443\"> u&#39;Hackensack&#39;</text>\n",
       "<polygon fill=\"#fefecd\" stroke=\"transparent\" points=\"49.5,-457 49.5,-459 306.5,-459 306.5,-457 49.5,-457\"/>\n",
       "<polygon fill=\"#fefecd\" stroke=\"transparent\" points=\"49.5,-443 49.5,-457 167.5,-457 167.5,-443 49.5,-443\"/>\n",
       "<text text-anchor=\"start\" x=\"115.5\" y=\"-447.2\" font-family=\"Helvetica,sans-Serif\" font-size=\"11.00\" fill=\"#444443\">u&#39;Country&#39; </text>\n",
       "<text text-anchor=\"start\" x=\"167.5\" y=\"-445.8\" font-family=\"Helvetica,sans-Serif\" font-size=\"9.00\" fill=\"#444443\">→</text>\n",
       "<polygon fill=\"#fefecd\" stroke=\"transparent\" points=\"177.5,-443 177.5,-457 306.5,-457 306.5,-443 177.5,-443\"/>\n",
       "<text text-anchor=\"start\" x=\"178.5\" y=\"-447.2\" font-family=\"Helvetica,sans-Serif\" font-size=\"11.00\" fill=\"#444443\"> u&#39;US&#39;</text>\n",
       "<polygon fill=\"#fefecd\" stroke=\"transparent\" points=\"49.5,-441 49.5,-443 306.5,-443 306.5,-441 49.5,-441\"/>\n",
       "<polygon fill=\"#fefecd\" stroke=\"transparent\" points=\"49.5,-427 49.5,-441 167.5,-441 167.5,-427 49.5,-427\"/>\n",
       "<text text-anchor=\"start\" x=\"80.5\" y=\"-431.2\" font-family=\"Helvetica,sans-Serif\" font-size=\"11.00\" fill=\"#444443\">u&#39;BusinessName&#39; </text>\n",
       "<text text-anchor=\"start\" x=\"167.5\" y=\"-429.8\" font-family=\"Helvetica,sans-Serif\" font-size=\"9.00\" fill=\"#444443\">→</text>\n",
       "<polygon fill=\"#fefecd\" stroke=\"transparent\" points=\"177.5,-427 177.5,-441 306.5,-441 306.5,-427 177.5,-427\"/>\n",
       "<text text-anchor=\"start\" x=\"178.5\" y=\"-431.2\" font-family=\"Helvetica,sans-Serif\" font-size=\"11.00\" fill=\"#444443\"> &#39;Veterans Worldwide M...&#39;</text>\n",
       "<polygon fill=\"#fefecd\" stroke=\"transparent\" points=\"49.5,-425 49.5,-427 306.5,-427 306.5,-425 49.5,-425\"/>\n",
       "<polygon fill=\"#fefecd\" stroke=\"transparent\" points=\"49.5,-411 49.5,-425 167.5,-425 167.5,-411 49.5,-411\"/>\n",
       "<text text-anchor=\"start\" x=\"135.5\" y=\"-415.2\" font-family=\"Helvetica,sans-Serif\" font-size=\"11.00\" fill=\"#444443\">u&#39;Fax&#39; </text>\n",
       "<text text-anchor=\"start\" x=\"167.5\" y=\"-413.8\" font-family=\"Helvetica,sans-Serif\" font-size=\"9.00\" fill=\"#444443\">→</text>\n",
       "<polygon fill=\"#fefecd\" stroke=\"transparent\" points=\"177.5,-411 177.5,-425 306.5,-425 306.5,-411 177.5,-411\"/>\n",
       "<text text-anchor=\"start\" x=\"178.5\" y=\"-415.2\" font-family=\"Helvetica,sans-Serif\" font-size=\"11.00\" fill=\"#444443\"> u&#39;201&#45;336&#45;9091&#39;</text>\n",
       "<polygon fill=\"#fefecd\" stroke=\"transparent\" points=\"49.5,-409 49.5,-411 306.5,-411 306.5,-409 49.5,-409\"/>\n",
       "<polygon fill=\"#fefecd\" stroke=\"transparent\" points=\"49.5,-395 49.5,-409 167.5,-409 167.5,-395 49.5,-395\"/>\n",
       "<text text-anchor=\"start\" x=\"126.5\" y=\"-399.2\" font-family=\"Helvetica,sans-Serif\" font-size=\"11.00\" fill=\"#444443\">u&#39;Email&#39; </text>\n",
       "<text text-anchor=\"start\" x=\"167.5\" y=\"-397.8\" font-family=\"Helvetica,sans-Serif\" font-size=\"9.00\" fill=\"#444443\">→</text>\n",
       "<polygon fill=\"#fefecd\" stroke=\"transparent\" points=\"177.5,-395 177.5,-409 306.5,-409 306.5,-395 177.5,-395\"/>\n",
       "<text text-anchor=\"start\" x=\"178.5\" y=\"-399.2\" font-family=\"Helvetica,sans-Serif\" font-size=\"11.00\" fill=\"#444443\"> &#39;servicechannel@vpssi...&#39;</text>\n",
       "<polygon fill=\"#fefecd\" stroke=\"transparent\" points=\"49.5,-393 49.5,-395 306.5,-395 306.5,-393 49.5,-393\"/>\n",
       "<polygon fill=\"#fefecd\" stroke=\"transparent\" points=\"49.5,-379 49.5,-393 167.5,-393 167.5,-379 49.5,-379\"/>\n",
       "<text text-anchor=\"start\" x=\"97.5\" y=\"-383.2\" font-family=\"Helvetica,sans-Serif\" font-size=\"11.00\" fill=\"#444443\">u&#39;WebSiteUrl&#39; </text>\n",
       "<text text-anchor=\"start\" x=\"167.5\" y=\"-381.8\" font-family=\"Helvetica,sans-Serif\" font-size=\"9.00\" fill=\"#444443\">→</text>\n",
       "<polygon fill=\"#fefecd\" stroke=\"transparent\" points=\"177.5,-379 177.5,-393 306.5,-393 306.5,-379 177.5,-379\"/>\n",
       "<text text-anchor=\"start\" x=\"178.5\" y=\"-383.2\" font-family=\"Helvetica,sans-Serif\" font-size=\"11.00\" fill=\"#444443\"> u&#39;www.vpssinc.com&#39;</text>\n",
       "<polygon fill=\"#fefecd\" stroke=\"transparent\" points=\"49.5,-377 49.5,-379 306.5,-379 306.5,-377 49.5,-377\"/>\n",
       "<polygon fill=\"#fefecd\" stroke=\"transparent\" points=\"49.5,-363 49.5,-377 167.5,-377 167.5,-363 49.5,-363\"/>\n",
       "<text text-anchor=\"start\" x=\"121.5\" y=\"-367.2\" font-family=\"Helvetica,sans-Serif\" font-size=\"11.00\" fill=\"#444443\">u&#39;Phone&#39; </text>\n",
       "<text text-anchor=\"start\" x=\"167.5\" y=\"-365.8\" font-family=\"Helvetica,sans-Serif\" font-size=\"9.00\" fill=\"#444443\">→</text>\n",
       "<polygon fill=\"#fefecd\" stroke=\"transparent\" points=\"177.5,-363 177.5,-377 306.5,-377 306.5,-363 177.5,-363\"/>\n",
       "<text text-anchor=\"start\" x=\"178.5\" y=\"-367.2\" font-family=\"Helvetica,sans-Serif\" font-size=\"11.00\" fill=\"#444443\"> u&#39;800&#45;235&#45;4393&#39;</text>\n",
       "<polygon fill=\"#fefecd\" stroke=\"transparent\" points=\"49.5,-361 49.5,-363 306.5,-363 306.5,-361 49.5,-361\"/>\n",
       "<polygon fill=\"#fefecd\" stroke=\"transparent\" points=\"49.5,-347 49.5,-361 167.5,-361 167.5,-347 49.5,-347\"/>\n",
       "<text text-anchor=\"start\" x=\"127.5\" y=\"-351.2\" font-family=\"Helvetica,sans-Serif\" font-size=\"11.00\" fill=\"#444443\">u&#39;State&#39; </text>\n",
       "<text text-anchor=\"start\" x=\"167.5\" y=\"-349.8\" font-family=\"Helvetica,sans-Serif\" font-size=\"9.00\" fill=\"#444443\">→</text>\n",
       "<polygon fill=\"#fefecd\" stroke=\"transparent\" points=\"177.5,-347 177.5,-361 306.5,-361 306.5,-347 177.5,-347\"/>\n",
       "<text text-anchor=\"start\" x=\"178.5\" y=\"-351.2\" font-family=\"Helvetica,sans-Serif\" font-size=\"11.00\" fill=\"#444443\"> u&#39;New Jersey&#39;</text>\n",
       "<polygon fill=\"#fefecd\" stroke=\"transparent\" points=\"49.5,-345 49.5,-347 306.5,-347 306.5,-345 49.5,-345\"/>\n",
       "<polygon fill=\"#fefecd\" stroke=\"transparent\" points=\"49.5,-331 49.5,-345 167.5,-345 167.5,-331 49.5,-331\"/>\n",
       "<text text-anchor=\"start\" x=\"49.5\" y=\"-335.2\" font-family=\"Helvetica,sans-Serif\" font-size=\"11.00\" fill=\"#444443\">u&#39;NearestAreaDistance&#39; </text>\n",
       "<text text-anchor=\"start\" x=\"167.5\" y=\"-333.8\" font-family=\"Helvetica,sans-Serif\" font-size=\"9.00\" fill=\"#444443\">→</text>\n",
       "<polygon fill=\"#fefecd\" stroke=\"transparent\" points=\"177.5,-331 177.5,-345 306.5,-345 306.5,-331 177.5,-331\"/>\n",
       "<text text-anchor=\"start\" x=\"178.5\" y=\"-335.2\" font-family=\"Helvetica,sans-Serif\" font-size=\"11.00\" fill=\"#444443\"> 0.0</text>\n",
       "<polygon fill=\"#fefecd\" stroke=\"transparent\" points=\"49.5,-329 49.5,-331 306.5,-331 306.5,-329 49.5,-329\"/>\n",
       "<polygon fill=\"#fefecd\" stroke=\"transparent\" points=\"49.5,-315 49.5,-329 167.5,-329 167.5,-315 49.5,-315\"/>\n",
       "<text text-anchor=\"start\" x=\"115.5\" y=\"-319.2\" font-family=\"Helvetica,sans-Serif\" font-size=\"11.00\" fill=\"#444443\">u&#39;LogoUrl&#39; </text>\n",
       "<text text-anchor=\"start\" x=\"167.5\" y=\"-317.8\" font-family=\"Helvetica,sans-Serif\" font-size=\"9.00\" fill=\"#444443\">→</text>\n",
       "<polygon fill=\"#fefecd\" stroke=\"transparent\" points=\"177.5,-315 177.5,-329 306.5,-329 306.5,-315 177.5,-315\"/>\n",
       "<text text-anchor=\"start\" x=\"178.5\" y=\"-319.2\" font-family=\"Helvetica,sans-Serif\" font-size=\"11.00\" fill=\"#444443\"> &#39;https://app.fixxbook...&#39;</text>\n",
       "<polygon fill=\"#fefecd\" stroke=\"transparent\" points=\"49.5,-313 49.5,-315 306.5,-315 306.5,-313 49.5,-313\"/>\n",
       "<polygon fill=\"#fefecd\" stroke=\"transparent\" points=\"49.5,-299 49.5,-313 167.5,-313 167.5,-299 49.5,-299\"/>\n",
       "<text text-anchor=\"start\" x=\"97.5\" y=\"-303.2\" font-family=\"Helvetica,sans-Serif\" font-size=\"11.00\" fill=\"#444443\">u&#39;PostalCode&#39; </text>\n",
       "<text text-anchor=\"start\" x=\"167.5\" y=\"-301.8\" font-family=\"Helvetica,sans-Serif\" font-size=\"9.00\" fill=\"#444443\">→</text>\n",
       "<polygon fill=\"#fefecd\" stroke=\"transparent\" points=\"177.5,-299 177.5,-313 306.5,-313 306.5,-299 177.5,-299\"/>\n",
       "<text text-anchor=\"start\" x=\"178.5\" y=\"-303.2\" font-family=\"Helvetica,sans-Serif\" font-size=\"11.00\" fill=\"#444443\"> u&#39;07601&#39;</text>\n",
       "<polygon fill=\"#fefecd\" stroke=\"transparent\" points=\"49.5,-297 49.5,-299 306.5,-299 306.5,-297 49.5,-297\"/>\n",
       "<polygon fill=\"#fefecd\" stroke=\"transparent\" points=\"49.5,-283 49.5,-297 167.5,-297 167.5,-283 49.5,-283\"/>\n",
       "<text text-anchor=\"start\" x=\"94.5\" y=\"-287.2\" font-family=\"Helvetica,sans-Serif\" font-size=\"11.00\" fill=\"#444443\">u&#39;ProfileScore&#39; </text>\n",
       "<text text-anchor=\"start\" x=\"167.5\" y=\"-285.8\" font-family=\"Helvetica,sans-Serif\" font-size=\"9.00\" fill=\"#444443\">→</text>\n",
       "<polygon fill=\"#fefecd\" stroke=\"transparent\" points=\"177.5,-283 177.5,-297 306.5,-297 306.5,-283 177.5,-283\"/>\n",
       "<text text-anchor=\"start\" x=\"178.5\" y=\"-287.2\" font-family=\"Helvetica,sans-Serif\" font-size=\"11.00\" fill=\"#444443\"> u&#39;92&#39;</text>\n",
       "<polygon fill=\"#fefecd\" stroke=\"transparent\" points=\"49.5,-281 49.5,-283 306.5,-283 306.5,-281 49.5,-281\"/>\n",
       "<polygon fill=\"#fefecd\" stroke=\"transparent\" points=\"49.5,-267 49.5,-281 167.5,-281 167.5,-267 49.5,-267\"/>\n",
       "<text text-anchor=\"start\" x=\"144.5\" y=\"-271.2\" font-family=\"Helvetica,sans-Serif\" font-size=\"11.00\" fill=\"#444443\">u&#39;Id&#39; </text>\n",
       "<text text-anchor=\"start\" x=\"167.5\" y=\"-269.8\" font-family=\"Helvetica,sans-Serif\" font-size=\"9.00\" fill=\"#444443\">→</text>\n",
       "<polygon fill=\"#fefecd\" stroke=\"transparent\" points=\"177.5,-267 177.5,-281 306.5,-281 306.5,-267 177.5,-267\"/>\n",
       "<text text-anchor=\"start\" x=\"178.5\" y=\"-271.2\" font-family=\"Helvetica,sans-Serif\" font-size=\"11.00\" fill=\"#444443\"> 767</text>\n",
       "</g>\n",
       "<!-- node140272193075896&#45;&gt;node140272192431280 -->\n",
       "<g id=\"edge1\" class=\"edge\">\n",
       "<title>node140272193075896:0&#45;&gt;node140272192431280:w</title>\n",
       "<path fill=\"none\" stroke=\"#444443\" stroke-width=\".5\" d=\"M13,-269C69.0557,-269 -6.9654,-387.7329 42.3833,-393.7623\"/>\n",
       "<polygon fill=\"#444443\" stroke=\"#444443\" stroke-width=\".5\" points=\"42.4259,-395.167 46.5,-394 42.5874,-392.3717 42.4259,-395.167\"/>\n",
       "</g>\n",
       "<!-- node140272192431000 -->\n",
       "<g id=\"node3\" class=\"node\">\n",
       "<title>node140272192431000</title>\n",
       "<polygon fill=\"#fefecd\" stroke=\"#444443\" stroke-width=\".5\" points=\"319,-258 36,-258 36,0 319,0 319,-258\"/>\n",
       "<polygon fill=\"#fefecd\" stroke=\"transparent\" points=\"38.5,-242 38.5,-256 156.5,-256 156.5,-242 38.5,-242\"/>\n",
       "<text text-anchor=\"start\" x=\"67.5\" y=\"-246.2\" font-family=\"Helvetica,sans-Serif\" font-size=\"11.00\" fill=\"#444443\">u&#39;StreetAddress1&#39; </text>\n",
       "<text text-anchor=\"start\" x=\"156.5\" y=\"-244.8\" font-family=\"Helvetica,sans-Serif\" font-size=\"9.00\" fill=\"#444443\">→</text>\n",
       "<polygon fill=\"#fefecd\" stroke=\"transparent\" points=\"166.5,-242 166.5,-256 317.5,-256 317.5,-242 166.5,-242\"/>\n",
       "<text text-anchor=\"start\" x=\"167.5\" y=\"-246.2\" font-family=\"Helvetica,sans-Serif\" font-size=\"11.00\" fill=\"#444443\"> u&#39;711 CHANEY COVE&#39;</text>\n",
       "<polygon fill=\"#fefecd\" stroke=\"transparent\" points=\"38.5,-240 38.5,-242 317.5,-242 317.5,-240 38.5,-240\"/>\n",
       "<polygon fill=\"#fefecd\" stroke=\"transparent\" points=\"38.5,-226 38.5,-240 156.5,-240 156.5,-226 38.5,-226\"/>\n",
       "<text text-anchor=\"start\" x=\"88.5\" y=\"-230.2\" font-family=\"Helvetica,sans-Serif\" font-size=\"11.00\" fill=\"#444443\">u&#39;Description&#39; </text>\n",
       "<text text-anchor=\"start\" x=\"156.5\" y=\"-228.8\" font-family=\"Helvetica,sans-Serif\" font-size=\"9.00\" fill=\"#444443\">→</text>\n",
       "<polygon fill=\"#fefecd\" stroke=\"transparent\" points=\"166.5,-226 166.5,-240 317.5,-240 317.5,-226 166.5,-226\"/>\n",
       "<text text-anchor=\"start\" x=\"167.5\" y=\"-230.2\" font-family=\"Helvetica,sans-Serif\" font-size=\"11.00\" fill=\"#444443\"> &#39;Roofing Repairs and ...&#39;</text>\n",
       "<polygon fill=\"#fefecd\" stroke=\"transparent\" points=\"38.5,-224 38.5,-226 317.5,-226 317.5,-224 38.5,-224\"/>\n",
       "<polygon fill=\"#fefecd\" stroke=\"transparent\" points=\"38.5,-210 38.5,-224 156.5,-224 156.5,-210 38.5,-210\"/>\n",
       "<text text-anchor=\"start\" x=\"123.5\" y=\"-214.2\" font-family=\"Helvetica,sans-Serif\" font-size=\"11.00\" fill=\"#444443\">u&#39;City&#39; </text>\n",
       "<text text-anchor=\"start\" x=\"156.5\" y=\"-212.8\" font-family=\"Helvetica,sans-Serif\" font-size=\"9.00\" fill=\"#444443\">→</text>\n",
       "<polygon fill=\"#fefecd\" stroke=\"transparent\" points=\"166.5,-210 166.5,-224 317.5,-224 317.5,-210 166.5,-210\"/>\n",
       "<text text-anchor=\"start\" x=\"167.5\" y=\"-214.2\" font-family=\"Helvetica,sans-Serif\" font-size=\"11.00\" fill=\"#444443\"> u&#39;COLLIERVILLE&#39;</text>\n",
       "<polygon fill=\"#fefecd\" stroke=\"transparent\" points=\"38.5,-208 38.5,-210 317.5,-210 317.5,-208 38.5,-208\"/>\n",
       "<polygon fill=\"#fefecd\" stroke=\"transparent\" points=\"38.5,-194 38.5,-208 156.5,-208 156.5,-194 38.5,-194\"/>\n",
       "<text text-anchor=\"start\" x=\"104.5\" y=\"-198.2\" font-family=\"Helvetica,sans-Serif\" font-size=\"11.00\" fill=\"#444443\">u&#39;Country&#39; </text>\n",
       "<text text-anchor=\"start\" x=\"156.5\" y=\"-196.8\" font-family=\"Helvetica,sans-Serif\" font-size=\"9.00\" fill=\"#444443\">→</text>\n",
       "<polygon fill=\"#fefecd\" stroke=\"transparent\" points=\"166.5,-194 166.5,-208 317.5,-208 317.5,-194 166.5,-194\"/>\n",
       "<text text-anchor=\"start\" x=\"167.5\" y=\"-198.2\" font-family=\"Helvetica,sans-Serif\" font-size=\"11.00\" fill=\"#444443\"> u&#39;US&#39;</text>\n",
       "<polygon fill=\"#fefecd\" stroke=\"transparent\" points=\"38.5,-192 38.5,-194 317.5,-194 317.5,-192 38.5,-192\"/>\n",
       "<polygon fill=\"#fefecd\" stroke=\"transparent\" points=\"38.5,-178 38.5,-192 156.5,-192 156.5,-178 38.5,-178\"/>\n",
       "<text text-anchor=\"start\" x=\"69.5\" y=\"-182.2\" font-family=\"Helvetica,sans-Serif\" font-size=\"11.00\" fill=\"#444443\">u&#39;BusinessName&#39; </text>\n",
       "<text text-anchor=\"start\" x=\"156.5\" y=\"-180.8\" font-family=\"Helvetica,sans-Serif\" font-size=\"9.00\" fill=\"#444443\">→</text>\n",
       "<polygon fill=\"#fefecd\" stroke=\"transparent\" points=\"166.5,-178 166.5,-192 317.5,-192 317.5,-178 166.5,-178\"/>\n",
       "<text text-anchor=\"start\" x=\"167.5\" y=\"-182.2\" font-family=\"Helvetica,sans-Serif\" font-size=\"11.00\" fill=\"#444443\"> &#39;JOLLY ROOFING &amp; CONT...&#39;</text>\n",
       "<polygon fill=\"#fefecd\" stroke=\"transparent\" points=\"38.5,-176 38.5,-178 317.5,-178 317.5,-176 38.5,-176\"/>\n",
       "<polygon fill=\"#fefecd\" stroke=\"transparent\" points=\"38.5,-162 38.5,-176 156.5,-176 156.5,-162 38.5,-162\"/>\n",
       "<text text-anchor=\"start\" x=\"115.5\" y=\"-166.2\" font-family=\"Helvetica,sans-Serif\" font-size=\"11.00\" fill=\"#444443\">u&#39;Email&#39; </text>\n",
       "<text text-anchor=\"start\" x=\"156.5\" y=\"-164.8\" font-family=\"Helvetica,sans-Serif\" font-size=\"9.00\" fill=\"#444443\">→</text>\n",
       "<polygon fill=\"#fefecd\" stroke=\"transparent\" points=\"166.5,-162 166.5,-176 317.5,-176 317.5,-162 166.5,-162\"/>\n",
       "<text text-anchor=\"start\" x=\"167.5\" y=\"-166.2\" font-family=\"Helvetica,sans-Serif\" font-size=\"11.00\" fill=\"#444443\"> &#39;dispatch@jollyroofin...&#39;</text>\n",
       "<polygon fill=\"#fefecd\" stroke=\"transparent\" points=\"38.5,-160 38.5,-162 317.5,-162 317.5,-160 38.5,-160\"/>\n",
       "<polygon fill=\"#fefecd\" stroke=\"transparent\" points=\"38.5,-146 38.5,-160 156.5,-160 156.5,-146 38.5,-146\"/>\n",
       "<text text-anchor=\"start\" x=\"86.5\" y=\"-150.2\" font-family=\"Helvetica,sans-Serif\" font-size=\"11.00\" fill=\"#444443\">u&#39;WebSiteUrl&#39; </text>\n",
       "<text text-anchor=\"start\" x=\"156.5\" y=\"-148.8\" font-family=\"Helvetica,sans-Serif\" font-size=\"9.00\" fill=\"#444443\">→</text>\n",
       "<polygon fill=\"#fefecd\" stroke=\"transparent\" points=\"166.5,-146 166.5,-160 317.5,-160 317.5,-146 166.5,-146\"/>\n",
       "<text text-anchor=\"start\" x=\"167.5\" y=\"-150.2\" font-family=\"Helvetica,sans-Serif\" font-size=\"11.00\" fill=\"#444443\"> u&#39;www.jollyroofing.com&#39;</text>\n",
       "<polygon fill=\"#fefecd\" stroke=\"transparent\" points=\"38.5,-144 38.5,-146 317.5,-146 317.5,-144 38.5,-144\"/>\n",
       "<polygon fill=\"#fefecd\" stroke=\"transparent\" points=\"38.5,-130 38.5,-144 156.5,-144 156.5,-130 38.5,-130\"/>\n",
       "<text text-anchor=\"start\" x=\"110.5\" y=\"-134.2\" font-family=\"Helvetica,sans-Serif\" font-size=\"11.00\" fill=\"#444443\">u&#39;Phone&#39; </text>\n",
       "<text text-anchor=\"start\" x=\"156.5\" y=\"-132.8\" font-family=\"Helvetica,sans-Serif\" font-size=\"9.00\" fill=\"#444443\">→</text>\n",
       "<polygon fill=\"#fefecd\" stroke=\"transparent\" points=\"166.5,-130 166.5,-144 317.5,-144 317.5,-130 166.5,-130\"/>\n",
       "<text text-anchor=\"start\" x=\"167.5\" y=\"-134.2\" font-family=\"Helvetica,sans-Serif\" font-size=\"11.00\" fill=\"#444443\"> &#39;6155306720+615927411...&#39;</text>\n",
       "<polygon fill=\"#fefecd\" stroke=\"transparent\" points=\"38.5,-128 38.5,-130 317.5,-130 317.5,-128 38.5,-128\"/>\n",
       "<polygon fill=\"#fefecd\" stroke=\"transparent\" points=\"38.5,-114 38.5,-128 156.5,-128 156.5,-114 38.5,-114\"/>\n",
       "<text text-anchor=\"start\" x=\"116.5\" y=\"-118.2\" font-family=\"Helvetica,sans-Serif\" font-size=\"11.00\" fill=\"#444443\">u&#39;State&#39; </text>\n",
       "<text text-anchor=\"start\" x=\"156.5\" y=\"-116.8\" font-family=\"Helvetica,sans-Serif\" font-size=\"9.00\" fill=\"#444443\">→</text>\n",
       "<polygon fill=\"#fefecd\" stroke=\"transparent\" points=\"166.5,-114 166.5,-128 317.5,-128 317.5,-114 166.5,-114\"/>\n",
       "<text text-anchor=\"start\" x=\"167.5\" y=\"-118.2\" font-family=\"Helvetica,sans-Serif\" font-size=\"11.00\" fill=\"#444443\"> u&#39;Tennessee&#39;</text>\n",
       "<polygon fill=\"#fefecd\" stroke=\"transparent\" points=\"38.5,-112 38.5,-114 317.5,-114 317.5,-112 38.5,-112\"/>\n",
       "<polygon fill=\"#fefecd\" stroke=\"transparent\" points=\"38.5,-98 38.5,-112 156.5,-112 156.5,-98 38.5,-98\"/>\n",
       "<text text-anchor=\"start\" x=\"38.5\" y=\"-102.2\" font-family=\"Helvetica,sans-Serif\" font-size=\"11.00\" fill=\"#444443\">u&#39;NearestAreaDistance&#39; </text>\n",
       "<text text-anchor=\"start\" x=\"156.5\" y=\"-100.8\" font-family=\"Helvetica,sans-Serif\" font-size=\"9.00\" fill=\"#444443\">→</text>\n",
       "<polygon fill=\"#fefecd\" stroke=\"transparent\" points=\"166.5,-98 166.5,-112 317.5,-112 317.5,-98 166.5,-98\"/>\n",
       "<text text-anchor=\"start\" x=\"167.5\" y=\"-102.2\" font-family=\"Helvetica,sans-Serif\" font-size=\"11.00\" fill=\"#444443\"> 0.0</text>\n",
       "<polygon fill=\"#fefecd\" stroke=\"transparent\" points=\"38.5,-96 38.5,-98 317.5,-98 317.5,-96 38.5,-96\"/>\n",
       "<polygon fill=\"#fefecd\" stroke=\"transparent\" points=\"38.5,-82 38.5,-96 156.5,-96 156.5,-82 38.5,-82\"/>\n",
       "<text text-anchor=\"start\" x=\"104.5\" y=\"-86.2\" font-family=\"Helvetica,sans-Serif\" font-size=\"11.00\" fill=\"#444443\">u&#39;LogoUrl&#39; </text>\n",
       "<text text-anchor=\"start\" x=\"156.5\" y=\"-84.8\" font-family=\"Helvetica,sans-Serif\" font-size=\"9.00\" fill=\"#444443\">→</text>\n",
       "<polygon fill=\"#fefecd\" stroke=\"transparent\" points=\"166.5,-82 166.5,-96 317.5,-96 317.5,-82 166.5,-82\"/>\n",
       "<text text-anchor=\"start\" x=\"167.5\" y=\"-86.2\" font-family=\"Helvetica,sans-Serif\" font-size=\"11.00\" fill=\"#444443\"> &#39;http://s3.fixxbook.c...&#39;</text>\n",
       "<polygon fill=\"#fefecd\" stroke=\"transparent\" points=\"38.5,-80 38.5,-82 317.5,-82 317.5,-80 38.5,-80\"/>\n",
       "<polygon fill=\"#fefecd\" stroke=\"transparent\" points=\"38.5,-66 38.5,-80 156.5,-80 156.5,-66 38.5,-66\"/>\n",
       "<text text-anchor=\"start\" x=\"86.5\" y=\"-70.2\" font-family=\"Helvetica,sans-Serif\" font-size=\"11.00\" fill=\"#444443\">u&#39;PostalCode&#39; </text>\n",
       "<text text-anchor=\"start\" x=\"156.5\" y=\"-68.8\" font-family=\"Helvetica,sans-Serif\" font-size=\"9.00\" fill=\"#444443\">→</text>\n",
       "<polygon fill=\"#fefecd\" stroke=\"transparent\" points=\"166.5,-66 166.5,-80 317.5,-80 317.5,-66 166.5,-66\"/>\n",
       "<text text-anchor=\"start\" x=\"167.5\" y=\"-70.2\" font-family=\"Helvetica,sans-Serif\" font-size=\"11.00\" fill=\"#444443\"> u&#39;38017&#39;</text>\n",
       "<polygon fill=\"#fefecd\" stroke=\"transparent\" points=\"38.5,-64 38.5,-66 317.5,-66 317.5,-64 38.5,-64\"/>\n",
       "<polygon fill=\"#fefecd\" stroke=\"transparent\" points=\"38.5,-50 38.5,-64 156.5,-64 156.5,-50 38.5,-50\"/>\n",
       "<text text-anchor=\"start\" x=\"83.5\" y=\"-54.2\" font-family=\"Helvetica,sans-Serif\" font-size=\"11.00\" fill=\"#444443\">u&#39;ProfileScore&#39; </text>\n",
       "<text text-anchor=\"start\" x=\"156.5\" y=\"-52.8\" font-family=\"Helvetica,sans-Serif\" font-size=\"9.00\" fill=\"#444443\">→</text>\n",
       "<polygon fill=\"#fefecd\" stroke=\"transparent\" points=\"166.5,-50 166.5,-64 317.5,-64 317.5,-50 166.5,-50\"/>\n",
       "<text text-anchor=\"start\" x=\"167.5\" y=\"-54.2\" font-family=\"Helvetica,sans-Serif\" font-size=\"11.00\" fill=\"#444443\"> u&#39;92&#39;</text>\n",
       "<polygon fill=\"#fefecd\" stroke=\"transparent\" points=\"38.5,-48 38.5,-50 317.5,-50 317.5,-48 38.5,-48\"/>\n",
       "<polygon fill=\"#fefecd\" stroke=\"transparent\" points=\"38.5,-34 38.5,-48 156.5,-48 156.5,-34 38.5,-34\"/>\n",
       "<text text-anchor=\"start\" x=\"133.5\" y=\"-38.2\" font-family=\"Helvetica,sans-Serif\" font-size=\"11.00\" fill=\"#444443\">u&#39;Id&#39; </text>\n",
       "<text text-anchor=\"start\" x=\"156.5\" y=\"-36.8\" font-family=\"Helvetica,sans-Serif\" font-size=\"9.00\" fill=\"#444443\">→</text>\n",
       "<polygon fill=\"#fefecd\" stroke=\"transparent\" points=\"166.5,-34 166.5,-48 317.5,-48 317.5,-34 166.5,-34\"/>\n",
       "<text text-anchor=\"start\" x=\"167.5\" y=\"-38.2\" font-family=\"Helvetica,sans-Serif\" font-size=\"11.00\" fill=\"#444443\"> 25330</text>\n",
       "<polygon fill=\"#fefecd\" stroke=\"transparent\" points=\"38.5,-32 38.5,-34 317.5,-34 317.5,-32 38.5,-32\"/>\n",
       "<polygon fill=\"#fefecd\" stroke=\"transparent\" points=\"38.5,-18 38.5,-32 156.5,-32 156.5,-18 38.5,-18\"/>\n",
       "<text text-anchor=\"start\" x=\"67.5\" y=\"-22.2\" font-family=\"Helvetica,sans-Serif\" font-size=\"11.00\" fill=\"#444443\">u&#39;StreetAddress2&#39; </text>\n",
       "<text text-anchor=\"start\" x=\"156.5\" y=\"-20.8\" font-family=\"Helvetica,sans-Serif\" font-size=\"9.00\" fill=\"#444443\">→</text>\n",
       "<polygon fill=\"#fefecd\" stroke=\"transparent\" points=\"166.5,-18 166.5,-32 317.5,-32 317.5,-18 166.5,-18\"/>\n",
       "<text text-anchor=\"start\" x=\"167.5\" y=\"-22.2\" font-family=\"Helvetica,sans-Serif\" font-size=\"11.00\" fill=\"#444443\"> &#160;&#160;&#160;</text>\n",
       "<polygon fill=\"#fefecd\" stroke=\"transparent\" points=\"38.5,-16 38.5,-18 317.5,-18 317.5,-16 38.5,-16\"/>\n",
       "<polygon fill=\"#fefecd\" stroke=\"transparent\" points=\"38.5,-2 38.5,-16 156.5,-16 156.5,-2 38.5,-2\"/>\n",
       "<text text-anchor=\"start\" x=\"124.5\" y=\"-6.2\" font-family=\"Helvetica,sans-Serif\" font-size=\"11.00\" fill=\"#444443\">u&#39;Fax&#39; </text>\n",
       "<text text-anchor=\"start\" x=\"156.5\" y=\"-4.8\" font-family=\"Helvetica,sans-Serif\" font-size=\"9.00\" fill=\"#444443\">→</text>\n",
       "<polygon fill=\"#fefecd\" stroke=\"transparent\" points=\"166.5,-2 166.5,-16 317.5,-16 317.5,-2 166.5,-2\"/>\n",
       "<text text-anchor=\"start\" x=\"167.5\" y=\"-6.2\" font-family=\"Helvetica,sans-Serif\" font-size=\"11.00\" fill=\"#444443\"> &#160;&#160;&#160;</text>\n",
       "</g>\n",
       "<!-- node140272193075896&#45;&gt;node140272192431000 -->\n",
       "<g id=\"edge2\" class=\"edge\">\n",
       "<title>node140272193075896:1&#45;&gt;node140272192431000:w</title>\n",
       "<path fill=\"none\" stroke=\"#444443\" stroke-width=\".5\" d=\"M13,-253C67.628,-253 -15.62,-135.2169 32.0065,-129.2358\"/>\n",
       "<polygon fill=\"#444443\" stroke=\"#444443\" stroke-width=\".5\" points=\"32.0895,-130.6334 36,-129 31.9244,-127.8383 32.0895,-130.6334\"/>\n",
       "</g>\n",
       "</g>\n",
       "</svg>\n"
      ],
      "text/plain": [
       "<graphviz.files.Source at 0x7f93aa34ef50>"
      ]
     },
     "execution_count": 18,
     "metadata": {},
     "output_type": "execute_result"
    }
   ],
   "source": [
    "### Let's examine what this data looks like by printing the first two results ###\n",
    "lolviz.objviz(data[0:2])"
   ]
  },
  {
   "cell_type": "code",
   "execution_count": 19,
   "metadata": {},
   "outputs": [
    {
     "data": {
      "text/plain": [
       "[{u'BusinessName': u'Veterans Worldwide Maintenance',\n",
       "  u'City': u'Hackensack',\n",
       "  u'Country': u'US',\n",
       "  u'Description': u\"Veterans is a facility maintenance leader in providing plumbing, HVAC, electrical, handyman, landscaping and snowplowing services on a worldwide level. Many of the world's largest retailers depend on VWM to handle all of their facilities needs. We also have special programs that can reduce pricing via our M.A.P. Program (Maintenance Agreement Plan) by establishing a program of continuous monitoring and improvement sometimes referred to as a Preventive Maintenance.\\r\\nOur Contact information can be found via the web @ http://www.vpssinc.com/ , Service phone number is 1-800-235-4393 and email is service@vpssinc.com\\r\\n\",\n",
       "  u'Email': u'servicechannel@vpssinc.com',\n",
       "  u'Fax': u'201-336-9091',\n",
       "  u'Id': 767,\n",
       "  u'LogoUrl': u'https://app.fixxbook.com/Content/images/nologo_pic_a.jpg',\n",
       "  u'NearestAreaDistance': 0.0,\n",
       "  u'Phone': u'800-235-4393',\n",
       "  u'PostalCode': u'07601',\n",
       "  u'ProfileScore': u'92',\n",
       "  u'State': u'New Jersey',\n",
       "  u'StreetAddress1': u'105 Main Street',\n",
       "  u'StreetAddress2': u'3rd fl',\n",
       "  u'WebSiteUrl': u'www.vpssinc.com'},\n",
       " {u'BusinessName': u'JOLLY ROOFING & CONTRACTING CO INC',\n",
       "  u'City': u'COLLIERVILLE',\n",
       "  u'Country': u'US',\n",
       "  u'Description': u'Roofing Repairs and Maintenance in 35 states',\n",
       "  u'Email': u'dispatch@jollyroofing.com',\n",
       "  u'Fax': None,\n",
       "  u'Id': 25330,\n",
       "  u'LogoUrl': u'http://s3.fixxbook.com/member_logos/25330%247262b5c6-9925-4a83-958e-1f8b47158b73.jpg',\n",
       "  u'NearestAreaDistance': 0.0,\n",
       "  u'Phone': u'6155306720+6159274112',\n",
       "  u'PostalCode': u'38017',\n",
       "  u'ProfileScore': u'92',\n",
       "  u'State': u'Tennessee',\n",
       "  u'StreetAddress1': u'711 CHANEY COVE',\n",
       "  u'StreetAddress2': None,\n",
       "  u'WebSiteUrl': u'www.jollyroofing.com'}]"
      ]
     },
     "execution_count": 19,
     "metadata": {},
     "output_type": "execute_result"
    }
   ],
   "source": [
    "### Now let's look at the text representation of the first two elements ###\n",
    "data[0:2]"
   ]
  },
  {
   "cell_type": "markdown",
   "metadata": {},
   "source": [
    "Notice the \\n and \\r, we're going to have to remove them. \n",
    "* Let's parse through this data and save it to a .tsv file\n",
    "* The data is not ordered so we need to order it as well\n",
    "* the \\u represents unicode strings, need to convert that too"
   ]
  },
  {
   "cell_type": "code",
   "execution_count": 20,
   "metadata": {},
   "outputs": [
    {
     "name": "stderr",
     "output_type": "stream",
     "text": [
      "/home/python/.local/lib/python2.7/site-packages/unidecode/__init__.py:46: RuntimeWarning: Argument <type 'str'> is not an unicode object. Passing an encoded string will likely have unexpected results.\n",
      "  _warn_if_not_unicode(string)\n"
     ]
    }
   ],
   "source": [
    "### Function to convert unicode string to ascii string ###\n",
    "def convertUnicode(s):\n",
    "    if s == None:\n",
    "        return ''\n",
    "    if type(s) == int or type(s) == float:\n",
    "        s = str(s)\n",
    "    return str(''.join(unidecode(c) for c in s))\n",
    "\n",
    "### Write the column names to the file: FixxBook_snow_removal ###\n",
    "with open('FixxBook_'+keyword.replace('+', '_')+'.tsv', 'w') as f:\n",
    "    count = 0\n",
    "    for key in keys:\n",
    "        count += 1\n",
    "        if count < len(keys):\n",
    "            f.write(key+'\\t')\n",
    "        else:\n",
    "            f.write(key)\n",
    "    f.write('\\n')\n",
    "\n",
    "### Now append all the data :) ###\n",
    "with open('FixxBook_'+keyword.replace('+', '_')+'.tsv', 'a') as f:\n",
    "    for company in data:\n",
    "        count = 0\n",
    "        for key in keys:\n",
    "            value = convertUnicode(company[key]).strip() # convert unicode to string\n",
    "            value = value.replace('\\n', '').replace('\\r', '').replace('\\t', '')\n",
    "            count += 1\n",
    "            if count < len(keys):\n",
    "                f.write(value + '\\t') # TAB-DELIMITED\n",
    "            else:\n",
    "                f.write(value)                \n",
    "        f.write('\\n')"
   ]
  },
  {
   "cell_type": "markdown",
   "metadata": {},
   "source": [
    "IPython can run bash commands, let's look at the first few lines of our file"
   ]
  },
  {
   "cell_type": "code",
   "execution_count": 21,
   "metadata": {},
   "outputs": [
    {
     "name": "stdout",
     "output_type": "stream",
     "text": [
      "['BusinessName', 'City', 'Country', 'Description', 'Email', 'Fax', 'Id', 'LogoUrl', 'NearestAreaDistance', 'Phone', 'PostalCode', 'ProfileScore', 'State', 'StreetAddress1', 'StreetAddress2', 'WebSiteUrl']\n"
     ]
    }
   ],
   "source": [
    "cmd = 'head ./FixxBook_snow_removal.tsv'\n",
    "raw = !$cmd\n",
    "print raw[0].split('\\t')"
   ]
  },
  {
   "cell_type": "code",
   "execution_count": 22,
   "metadata": {},
   "outputs": [
    {
     "name": "stdout",
     "output_type": "stream",
     "text": [
      "                                      BusinessName\t            City\tPhone\n",
      "                    Veterans Worldwide Maintenance\t      Hackensack\t800-235-4393\n",
      "                JOLLY ROOFING & CONTRACTING CO INC\t    COLLIERVILLE\t6155306720+6159274112\n",
      "                Commercial Site Improvements, Inc.\t    Copperopolis\t209-401-0652\n",
      "            All American Facility Maintenance Inc.\t       Hollywood\t6468972233\n",
      "               Mike's Landscaping and Design, Inc.\t         Baldwin\t516-868-5046\n",
      "                 SLM Facility Solutions Nationwide\t      Green Lane\t888-847-4449\n",
      "                      Boss Facility Services, Inc.\t      Ronkonkoma\t631 361-7430\n",
      "              Ascape Landscape & Construction Corp\t        Blauvelt\t845-353-6500\n",
      " Nationwide Maintenance & General Contracting, Inc\t   Bedford Hills\t914-241-1010\n"
     ]
    }
   ],
   "source": [
    "### Since there are a lot of colums, let's pick a few and check that ###\n",
    "for i in range(10):\n",
    "    line = raw[i].split('\\t')\n",
    "    print '{:>50}'.format(line[0]) + '\\t' + '{:>16}'.format(line[1]) + '\\t' + line[9]"
   ]
  },
  {
   "cell_type": "code",
   "execution_count": 74,
   "metadata": {},
   "outputs": [
    {
     "data": {
      "text/html": [
       "<div>\n",
       "<style scoped>\n",
       "    .dataframe tbody tr th:only-of-type {\n",
       "        vertical-align: middle;\n",
       "    }\n",
       "\n",
       "    .dataframe tbody tr th {\n",
       "        vertical-align: top;\n",
       "    }\n",
       "\n",
       "    .dataframe thead th {\n",
       "        text-align: right;\n",
       "    }\n",
       "</style>\n",
       "<table border=\"1\" class=\"dataframe\">\n",
       "  <thead>\n",
       "    <tr style=\"text-align: right;\">\n",
       "      <th></th>\n",
       "      <th>BusinessName</th>\n",
       "      <th>City</th>\n",
       "      <th>Country</th>\n",
       "      <th>Description</th>\n",
       "      <th>Email</th>\n",
       "      <th>Fax</th>\n",
       "      <th>Id</th>\n",
       "      <th>LogoUrl</th>\n",
       "      <th>NearestAreaDistance</th>\n",
       "      <th>Phone</th>\n",
       "      <th>PostalCode</th>\n",
       "      <th>ProfileScore</th>\n",
       "      <th>State</th>\n",
       "      <th>StreetAddress1</th>\n",
       "      <th>StreetAddress2</th>\n",
       "      <th>WebSiteUrl</th>\n",
       "    </tr>\n",
       "  </thead>\n",
       "  <tbody>\n",
       "    <tr>\n",
       "      <th>0</th>\n",
       "      <td>Veterans Worldwide Maintenance</td>\n",
       "      <td>Hackensack</td>\n",
       "      <td>US</td>\n",
       "      <td>Veterans is a facility maintenance leader in p...</td>\n",
       "      <td>servicechannel@vpssinc.com</td>\n",
       "      <td>201-336-9091</td>\n",
       "      <td>767</td>\n",
       "      <td>https://app.fixxbook.com/Content/images/nologo...</td>\n",
       "      <td>0.0</td>\n",
       "      <td>800-235-4393</td>\n",
       "      <td>07601</td>\n",
       "      <td>92</td>\n",
       "      <td>New Jersey</td>\n",
       "      <td>105 Main Street</td>\n",
       "      <td>3rd fl</td>\n",
       "      <td>www.vpssinc.com</td>\n",
       "    </tr>\n",
       "    <tr>\n",
       "      <th>1</th>\n",
       "      <td>JOLLY ROOFING &amp; CONTRACTING CO INC</td>\n",
       "      <td>COLLIERVILLE</td>\n",
       "      <td>US</td>\n",
       "      <td>Roofing Repairs and Maintenance in 35 states</td>\n",
       "      <td>dispatch@jollyroofing.com</td>\n",
       "      <td>NaN</td>\n",
       "      <td>25330</td>\n",
       "      <td>http://s3.fixxbook.com/member_logos/25330%2472...</td>\n",
       "      <td>0.0</td>\n",
       "      <td>6155306720+6159274112</td>\n",
       "      <td>38017</td>\n",
       "      <td>92</td>\n",
       "      <td>Tennessee</td>\n",
       "      <td>711 CHANEY COVE</td>\n",
       "      <td>NaN</td>\n",
       "      <td>www.jollyroofing.com</td>\n",
       "    </tr>\n",
       "    <tr>\n",
       "      <th>2</th>\n",
       "      <td>Commercial Site Improvements, Inc.</td>\n",
       "      <td>Copperopolis</td>\n",
       "      <td>US</td>\n",
       "      <td>COMMERCIAL SITE IMPROVEMENTS INC. (CSI) HAS BE...</td>\n",
       "      <td>mainoffice@comimprovementsinc.com</td>\n",
       "      <td>209-785-1921</td>\n",
       "      <td>7552</td>\n",
       "      <td>http://s3.fixxbook.com/member_logos/7552%24c96...</td>\n",
       "      <td>0.0</td>\n",
       "      <td>209-401-0652</td>\n",
       "      <td>95228</td>\n",
       "      <td>91</td>\n",
       "      <td>California</td>\n",
       "      <td>192 Poker Flat Rd.</td>\n",
       "      <td>NaN</td>\n",
       "      <td>NaN</td>\n",
       "    </tr>\n",
       "    <tr>\n",
       "      <th>3</th>\n",
       "      <td>All American Facility Maintenance Inc.</td>\n",
       "      <td>Hollywood</td>\n",
       "      <td>US</td>\n",
       "      <td>AAFM provides solutions to all your facility m...</td>\n",
       "      <td>billing@allamericanfacilities.com</td>\n",
       "      <td>6468972533</td>\n",
       "      <td>30997</td>\n",
       "      <td>http://s3.fixxbook.com/member_logos/30997%2413...</td>\n",
       "      <td>0.0</td>\n",
       "      <td>6468972233</td>\n",
       "      <td>33023</td>\n",
       "      <td>90</td>\n",
       "      <td>Florida</td>\n",
       "      <td>5751 Dawson Street</td>\n",
       "      <td>NaN</td>\n",
       "      <td>www.aafmusa.com</td>\n",
       "    </tr>\n",
       "    <tr>\n",
       "      <th>4</th>\n",
       "      <td>Mike's Landscaping and Design, Inc.</td>\n",
       "      <td>Baldwin</td>\n",
       "      <td>US</td>\n",
       "      <td>Provide landscape services and snow plowing se...</td>\n",
       "      <td>mike@mikeslandscaping.com</td>\n",
       "      <td>516-679-9824</td>\n",
       "      <td>35515</td>\n",
       "      <td>http://s3.fixxbook.com/member_logos/35515%2413...</td>\n",
       "      <td>0.0</td>\n",
       "      <td>516-868-5046</td>\n",
       "      <td>11510</td>\n",
       "      <td>90</td>\n",
       "      <td>New York</td>\n",
       "      <td>P. O. Box 846</td>\n",
       "      <td>NaN</td>\n",
       "      <td>mikeslandscaping.com</td>\n",
       "    </tr>\n",
       "  </tbody>\n",
       "</table>\n",
       "</div>"
      ],
      "text/plain": [
       "                             BusinessName          City Country  \\\n",
       "0          Veterans Worldwide Maintenance    Hackensack      US   \n",
       "1      JOLLY ROOFING & CONTRACTING CO INC  COLLIERVILLE      US   \n",
       "2      Commercial Site Improvements, Inc.  Copperopolis      US   \n",
       "3  All American Facility Maintenance Inc.     Hollywood      US   \n",
       "4     Mike's Landscaping and Design, Inc.       Baldwin      US   \n",
       "\n",
       "                                         Description  \\\n",
       "0  Veterans is a facility maintenance leader in p...   \n",
       "1       Roofing Repairs and Maintenance in 35 states   \n",
       "2  COMMERCIAL SITE IMPROVEMENTS INC. (CSI) HAS BE...   \n",
       "3  AAFM provides solutions to all your facility m...   \n",
       "4  Provide landscape services and snow plowing se...   \n",
       "\n",
       "                               Email           Fax     Id  \\\n",
       "0         servicechannel@vpssinc.com  201-336-9091    767   \n",
       "1          dispatch@jollyroofing.com           NaN  25330   \n",
       "2  mainoffice@comimprovementsinc.com  209-785-1921   7552   \n",
       "3  billing@allamericanfacilities.com    6468972533  30997   \n",
       "4          mike@mikeslandscaping.com  516-679-9824  35515   \n",
       "\n",
       "                                             LogoUrl  NearestAreaDistance  \\\n",
       "0  https://app.fixxbook.com/Content/images/nologo...                  0.0   \n",
       "1  http://s3.fixxbook.com/member_logos/25330%2472...                  0.0   \n",
       "2  http://s3.fixxbook.com/member_logos/7552%24c96...                  0.0   \n",
       "3  http://s3.fixxbook.com/member_logos/30997%2413...                  0.0   \n",
       "4  http://s3.fixxbook.com/member_logos/35515%2413...                  0.0   \n",
       "\n",
       "                   Phone PostalCode  ProfileScore       State  \\\n",
       "0           800-235-4393      07601            92  New Jersey   \n",
       "1  6155306720+6159274112      38017            92   Tennessee   \n",
       "2           209-401-0652      95228            91  California   \n",
       "3             6468972233      33023            90     Florida   \n",
       "4           516-868-5046      11510            90    New York   \n",
       "\n",
       "       StreetAddress1 StreetAddress2            WebSiteUrl  \n",
       "0     105 Main Street         3rd fl       www.vpssinc.com  \n",
       "1     711 CHANEY COVE            NaN  www.jollyroofing.com  \n",
       "2  192 Poker Flat Rd.            NaN                   NaN  \n",
       "3  5751 Dawson Street            NaN       www.aafmusa.com  \n",
       "4       P. O. Box 846            NaN  mikeslandscaping.com  "
      ]
     },
     "execution_count": 74,
     "metadata": {},
     "output_type": "execute_result"
    }
   ],
   "source": [
    "### Time to read the file into a padas object ###\n",
    "df = pd.read_csv('./FixxBook_snow_removal.tsv', sep='\\t')\n",
    "df.head()"
   ]
  },
  {
   "cell_type": "code",
   "execution_count": 75,
   "metadata": {},
   "outputs": [
    {
     "data": {
      "text/html": [
       "<div>\n",
       "<style scoped>\n",
       "    .dataframe tbody tr th:only-of-type {\n",
       "        vertical-align: middle;\n",
       "    }\n",
       "\n",
       "    .dataframe tbody tr th {\n",
       "        vertical-align: top;\n",
       "    }\n",
       "\n",
       "    .dataframe thead th {\n",
       "        text-align: right;\n",
       "    }\n",
       "</style>\n",
       "<table border=\"1\" class=\"dataframe\">\n",
       "  <thead>\n",
       "    <tr style=\"text-align: right;\">\n",
       "      <th></th>\n",
       "      <th>Id</th>\n",
       "      <th>NearestAreaDistance</th>\n",
       "      <th>ProfileScore</th>\n",
       "    </tr>\n",
       "  </thead>\n",
       "  <tbody>\n",
       "    <tr>\n",
       "      <th>count</th>\n",
       "      <td>420.000000</td>\n",
       "      <td>420.0</td>\n",
       "      <td>420.000000</td>\n",
       "    </tr>\n",
       "    <tr>\n",
       "      <th>mean</th>\n",
       "      <td>61855.664286</td>\n",
       "      <td>0.0</td>\n",
       "      <td>67.573810</td>\n",
       "    </tr>\n",
       "    <tr>\n",
       "      <th>std</th>\n",
       "      <td>37323.247333</td>\n",
       "      <td>0.0</td>\n",
       "      <td>14.169508</td>\n",
       "    </tr>\n",
       "    <tr>\n",
       "      <th>min</th>\n",
       "      <td>184.000000</td>\n",
       "      <td>0.0</td>\n",
       "      <td>34.000000</td>\n",
       "    </tr>\n",
       "    <tr>\n",
       "      <th>25%</th>\n",
       "      <td>31021.750000</td>\n",
       "      <td>0.0</td>\n",
       "      <td>55.000000</td>\n",
       "    </tr>\n",
       "    <tr>\n",
       "      <th>50%</th>\n",
       "      <td>76057.000000</td>\n",
       "      <td>0.0</td>\n",
       "      <td>72.000000</td>\n",
       "    </tr>\n",
       "    <tr>\n",
       "      <th>75%</th>\n",
       "      <td>93505.500000</td>\n",
       "      <td>0.0</td>\n",
       "      <td>78.000000</td>\n",
       "    </tr>\n",
       "    <tr>\n",
       "      <th>max</th>\n",
       "      <td>119319.000000</td>\n",
       "      <td>0.0</td>\n",
       "      <td>92.000000</td>\n",
       "    </tr>\n",
       "  </tbody>\n",
       "</table>\n",
       "</div>"
      ],
      "text/plain": [
       "                  Id  NearestAreaDistance  ProfileScore\n",
       "count     420.000000                420.0    420.000000\n",
       "mean    61855.664286                  0.0     67.573810\n",
       "std     37323.247333                  0.0     14.169508\n",
       "min       184.000000                  0.0     34.000000\n",
       "25%     31021.750000                  0.0     55.000000\n",
       "50%     76057.000000                  0.0     72.000000\n",
       "75%     93505.500000                  0.0     78.000000\n",
       "max    119319.000000                  0.0     92.000000"
      ]
     },
     "execution_count": 75,
     "metadata": {},
     "output_type": "execute_result"
    }
   ],
   "source": [
    "df.describe()"
   ]
  },
  {
   "cell_type": "code",
   "execution_count": 76,
   "metadata": {},
   "outputs": [
    {
     "data": {
      "text/plain": [
       "New York         10\n",
       "Newburgh          5\n",
       "Brooklyn          5\n",
       "Staten Island     4\n",
       "Wichita           4\n",
       "San Diego         3\n",
       "Lynnwood          3\n",
       "Malvern           3\n",
       "brooklyn          3\n",
       "Norristown        3\n",
       "Pawtucket         3\n",
       "Ronkonkoma        3\n",
       "Cicero            3\n",
       "Toms River        2\n",
       "Medford           2\n",
       "Farmingdale       2\n",
       "East Islip        2\n",
       "Barberton         2\n",
       "West Seneca       2\n",
       "Long Beach        2\n",
       "Name: City, dtype: int64"
      ]
     },
     "execution_count": 76,
     "metadata": {},
     "output_type": "execute_result"
    }
   ],
   "source": [
    "cities = df['City']\n",
    "cities.value_counts()[0:20]"
   ]
  },
  {
   "cell_type": "code",
   "execution_count": 77,
   "metadata": {
    "scrolled": false
   },
   "outputs": [
    {
     "name": "stdout",
     "output_type": "stream",
     "text": [
      "['New York', 'Newburgh', 'Brooklyn', 'Staten Island', 'Wichita', 'San Diego', 'Lynnwood', 'Malvern', 'brooklyn', 'Norristown', 'Pawtucket', 'Ronkonkoma', 'Cicero', 'Toms River', 'Medford', 'Farmingdale', 'East Islip', 'Barberton', 'West Seneca', 'Long Beach']\n",
      "[10, 5, 5, 4, 4, 3, 3, 3, 3, 3, 3, 3, 3, 2, 2, 2, 2, 2, 2, 2]\n"
     ]
    },
    {
     "data": {
      "application/vnd.jupyter.widget-view+json": {
       "model_id": "4ed5b68518e34716969502aac6168ec6",
       "version_major": 2,
       "version_minor": 0
      },
      "text/plain": [
       "FigureCanvasNbAgg()"
      ]
     },
     "metadata": {},
     "output_type": "display_data"
    },
    {
     "data": {
      "text/plain": [
       "<Figure size 640x480 with 0 Axes>"
      ]
     },
     "execution_count": 77,
     "metadata": {},
     "output_type": "execute_result"
    },
    {
     "data": {
      "text/plain": [
       "<matplotlib.axes._subplots.AxesSubplot at 0x7f93a806d910>"
      ]
     },
     "execution_count": 77,
     "metadata": {},
     "output_type": "execute_result"
    }
   ],
   "source": [
    "x = []\n",
    "y = []\n",
    "\n",
    "for city, count in cities.value_counts()[0:20].items():\n",
    "    y.append(city)\n",
    "    x.append(count)\n",
    "print y\n",
    "print x\n",
    "plt.figure('top 20 cities')\n",
    "sns.barplot(x = x, y = y)\n",
    "plt.tight_layout()\n",
    "plt.draw()\n",
    "plt.show()"
   ]
  },
  {
   "cell_type": "code",
   "execution_count": null,
   "metadata": {},
   "outputs": [],
   "source": []
  },
  {
   "cell_type": "code",
   "execution_count": null,
   "metadata": {},
   "outputs": [],
   "source": []
  },
  {
   "cell_type": "markdown",
   "metadata": {},
   "source": [
    "# **Scientific Tools**"
   ]
  },
  {
   "cell_type": "markdown",
   "metadata": {},
   "source": [
    "## Octave\n",
    "* Octave is actually an open source tool written in c++ with native MatLab capabilities.\n",
    "* Although octave is not a python tool, IPython allows us to send commands to octave and store the results back into python."
   ]
  },
  {
   "cell_type": "markdown",
   "metadata": {},
   "source": [
    "### Frequency Response of IIR Filter\n",
    "Suppose we wanted to compute the s-plane frequency response of an IIR filter\n",
    "\\begin{equation}\n",
    "  \\frac{B(s)}{A(s)} \\text{  as  }  H = \\frac{\\sum{_{i=0}^{P}}b_iz^{-i}}{\\sum{_{j=0}^{Q}}a_jz^{-j}}\n",
    "\\end{equation}\n",
    "\n",
    "We can use `Octave freqs()` function to compute this for us and pass the results into python.\n",
    "\n"
   ]
  },
  {
   "cell_type": "code",
   "execution_count": 24,
   "metadata": {},
   "outputs": [
    {
     "data": {
      "text/plain": [
       "H ="
      ]
     },
     "metadata": {},
     "output_type": "display_data"
    },
    {
     "data": {
      "text/plain": []
     },
     "metadata": {},
     "output_type": "display_data"
    },
    {
     "data": {
      "text/plain": [
       " Columns 1 through 4:"
      ]
     },
     "metadata": {},
     "output_type": "display_data"
    },
    {
     "data": {
      "text/plain": []
     },
     "metadata": {},
     "output_type": "display_data"
    },
    {
     "data": {
      "text/plain": [
       "   2.0000 + 0.0000i   1.9990 - 0.0315i   1.9960 - 0.0627i   1.9912 - 0.0937i"
      ]
     },
     "metadata": {},
     "output_type": "display_data"
    },
    {
     "data": {
      "text/plain": []
     },
     "metadata": {},
     "output_type": "display_data"
    },
    {
     "data": {
      "text/plain": [
       " Columns 5 through 8:"
      ]
     },
     "metadata": {},
     "output_type": "display_data"
    },
    {
     "data": {
      "text/plain": []
     },
     "metadata": {},
     "output_type": "display_data"
    },
    {
     "data": {
      "text/plain": [
       "   1.9844 - 0.1240i   1.9758 - 0.1537i   1.9655 - 0.1825i   1.9536 - 0.2103i"
      ]
     },
     "metadata": {},
     "output_type": "display_data"
    },
    {
     "data": {
      "text/plain": []
     },
     "metadata": {},
     "output_type": "display_data"
    },
    {
     "data": {
      "text/plain": [
       " Columns 9 through 12:"
      ]
     },
     "metadata": {},
     "output_type": "display_data"
    },
    {
     "data": {
      "text/plain": []
     },
     "metadata": {},
     "output_type": "display_data"
    },
    {
     "data": {
      "text/plain": [
       "   1.9403 - 0.2369i   1.9256 - 0.2624i   1.9098 - 0.2865i   1.8928 - 0.3093i"
      ]
     },
     "metadata": {},
     "output_type": "display_data"
    },
    {
     "data": {
      "text/plain": []
     },
     "metadata": {},
     "output_type": "display_data"
    },
    {
     "data": {
      "text/plain": [
       " Columns 13 through 16:"
      ]
     },
     "metadata": {},
     "output_type": "display_data"
    },
    {
     "data": {
      "text/plain": []
     },
     "metadata": {},
     "output_type": "display_data"
    },
    {
     "data": {
      "text/plain": [
       "   1.8750 - 0.3307i   1.8564 - 0.3507i   1.8372 - 0.3692i   1.8175 - 0.3862i"
      ]
     },
     "metadata": {},
     "output_type": "display_data"
    },
    {
     "data": {
      "text/plain": []
     },
     "metadata": {},
     "output_type": "display_data"
    },
    {
     "data": {
      "text/plain": [
       " Columns 17 through 20:"
      ]
     },
     "metadata": {},
     "output_type": "display_data"
    },
    {
     "data": {
      "text/plain": []
     },
     "metadata": {},
     "output_type": "display_data"
    },
    {
     "data": {
      "text/plain": [
       "   1.7975 - 0.4019i   1.7772 - 0.4161i   1.7568 - 0.4290i   1.7363 - 0.4406i"
      ]
     },
     "metadata": {},
     "output_type": "display_data"
    },
    {
     "data": {
      "text/plain": []
     },
     "metadata": {},
     "output_type": "display_data"
    },
    {
     "data": {
      "text/plain": [
       " Columns 21 through 24:"
      ]
     },
     "metadata": {},
     "output_type": "display_data"
    },
    {
     "data": {
      "text/plain": []
     },
     "metadata": {},
     "output_type": "display_data"
    },
    {
     "data": {
      "text/plain": [
       "   1.7159 - 0.4510i   1.6957 - 0.4601i   1.6756 - 0.4681i   1.6558 - 0.4751i"
      ]
     },
     "metadata": {},
     "output_type": "display_data"
    },
    {
     "data": {
      "text/plain": []
     },
     "metadata": {},
     "output_type": "display_data"
    },
    {
     "data": {
      "text/plain": [
       " Columns 25 through 28:"
      ]
     },
     "metadata": {},
     "output_type": "display_data"
    },
    {
     "data": {
      "text/plain": []
     },
     "metadata": {},
     "output_type": "display_data"
    },
    {
     "data": {
      "text/plain": [
       "   1.6364 - 0.4810i   1.6173 - 0.4860i   1.5986 - 0.4902i   1.5803 - 0.4935i"
      ]
     },
     "metadata": {},
     "output_type": "display_data"
    },
    {
     "data": {
      "text/plain": []
     },
     "metadata": {},
     "output_type": "display_data"
    },
    {
     "data": {
      "text/plain": [
       " Columns 29 through 32:"
      ]
     },
     "metadata": {},
     "output_type": "display_data"
    },
    {
     "data": {
      "text/plain": []
     },
     "metadata": {},
     "output_type": "display_data"
    },
    {
     "data": {
      "text/plain": [
       "   1.5625 - 0.4961i   1.5452 - 0.4980i   1.5283 - 0.4992i   1.5120 - 0.4999i"
      ]
     },
     "metadata": {},
     "output_type": "display_data"
    },
    {
     "data": {
      "text/plain": []
     },
     "metadata": {},
     "output_type": "display_data"
    },
    {
     "data": {
      "text/plain": [
       " Columns 33 through 36:"
      ]
     },
     "metadata": {},
     "output_type": "display_data"
    },
    {
     "data": {
      "text/plain": []
     },
     "metadata": {},
     "output_type": "display_data"
    },
    {
     "data": {
      "text/plain": [
       "   1.4961 - 0.5000i   1.4807 - 0.4996i   1.4658 - 0.4988i   1.4514 - 0.4976i"
      ]
     },
     "metadata": {},
     "output_type": "display_data"
    },
    {
     "data": {
      "text/plain": []
     },
     "metadata": {},
     "output_type": "display_data"
    },
    {
     "data": {
      "text/plain": [
       " Columns 37 through 40:"
      ]
     },
     "metadata": {},
     "output_type": "display_data"
    },
    {
     "data": {
      "text/plain": []
     },
     "metadata": {},
     "output_type": "display_data"
    },
    {
     "data": {
      "text/plain": [
       "   1.4375 - 0.4961i   1.4241 - 0.4942i   1.4111 - 0.4920i   1.3986 - 0.4896i"
      ]
     },
     "metadata": {},
     "output_type": "display_data"
    },
    {
     "data": {
      "text/plain": []
     },
     "metadata": {},
     "output_type": "display_data"
    },
    {
     "data": {
      "text/plain": [
       " Columns 41 through 44:"
      ]
     },
     "metadata": {},
     "output_type": "display_data"
    },
    {
     "data": {
      "text/plain": []
     },
     "metadata": {},
     "output_type": "display_data"
    },
    {
     "data": {
      "text/plain": [
       "   1.3865 - 0.4870i   1.3749 - 0.4841i   1.3637 - 0.4810i   1.3528 - 0.4779i"
      ]
     },
     "metadata": {},
     "output_type": "display_data"
    },
    {
     "data": {
      "text/plain": []
     },
     "metadata": {},
     "output_type": "display_data"
    },
    {
     "data": {
      "text/plain": [
       " Columns 45 through 48:"
      ]
     },
     "metadata": {},
     "output_type": "display_data"
    },
    {
     "data": {
      "text/plain": []
     },
     "metadata": {},
     "output_type": "display_data"
    },
    {
     "data": {
      "text/plain": [
       "   1.3424 - 0.4745i   1.3324 - 0.4711i   1.3227 - 0.4675i   1.3133 - 0.4639i"
      ]
     },
     "metadata": {},
     "output_type": "display_data"
    },
    {
     "data": {
      "text/plain": []
     },
     "metadata": {},
     "output_type": "display_data"
    },
    {
     "data": {
      "text/plain": [
       " Columns 49 through 52:"
      ]
     },
     "metadata": {},
     "output_type": "display_data"
    },
    {
     "data": {
      "text/plain": []
     },
     "metadata": {},
     "output_type": "display_data"
    },
    {
     "data": {
      "text/plain": [
       "   1.3044 - 0.4601i   1.2957 - 0.4564i   1.2874 - 0.4525i   1.2793 - 0.4487i"
      ]
     },
     "metadata": {},
     "output_type": "display_data"
    },
    {
     "data": {
      "text/plain": []
     },
     "metadata": {},
     "output_type": "display_data"
    },
    {
     "data": {
      "text/plain": [
       " Columns 53 through 56:"
      ]
     },
     "metadata": {},
     "output_type": "display_data"
    },
    {
     "data": {
      "text/plain": []
     },
     "metadata": {},
     "output_type": "display_data"
    },
    {
     "data": {
      "text/plain": [
       "   1.2716 - 0.4448i   1.2641 - 0.4408i   1.2569 - 0.4369i   1.2499 - 0.4330i"
      ]
     },
     "metadata": {},
     "output_type": "display_data"
    },
    {
     "data": {
      "text/plain": []
     },
     "metadata": {},
     "output_type": "display_data"
    },
    {
     "data": {
      "text/plain": [
       " Columns 57 through 60:"
      ]
     },
     "metadata": {},
     "output_type": "display_data"
    },
    {
     "data": {
      "text/plain": []
     },
     "metadata": {},
     "output_type": "display_data"
    },
    {
     "data": {
      "text/plain": [
       "   1.2433 - 0.4290i   1.2368 - 0.4251i   1.2306 - 0.4212i   1.2246 - 0.4173i"
      ]
     },
     "metadata": {},
     "output_type": "display_data"
    },
    {
     "data": {
      "text/plain": []
     },
     "metadata": {},
     "output_type": "display_data"
    },
    {
     "data": {
      "text/plain": [
       " Columns 61 through 64:"
      ]
     },
     "metadata": {},
     "output_type": "display_data"
    },
    {
     "data": {
      "text/plain": []
     },
     "metadata": {},
     "output_type": "display_data"
    },
    {
     "data": {
      "text/plain": [
       "   1.2188 - 0.4134i   1.2132 - 0.4095i   1.2078 - 0.4057i   1.2025 - 0.4019i"
      ]
     },
     "metadata": {},
     "output_type": "display_data"
    },
    {
     "data": {
      "text/plain": []
     },
     "metadata": {},
     "output_type": "display_data"
    },
    {
     "data": {
      "text/plain": [
       " Columns 65 through 68:"
      ]
     },
     "metadata": {},
     "output_type": "display_data"
    },
    {
     "data": {
      "text/plain": []
     },
     "metadata": {},
     "output_type": "display_data"
    },
    {
     "data": {
      "text/plain": [
       "   1.1975 - 0.3981i   1.1926 - 0.3944i   1.1879 - 0.3907i   1.1834 - 0.3870i"
      ]
     },
     "metadata": {},
     "output_type": "display_data"
    },
    {
     "data": {
      "text/plain": []
     },
     "metadata": {},
     "output_type": "display_data"
    },
    {
     "data": {
      "text/plain": [
       " Columns 69 through 72:"
      ]
     },
     "metadata": {},
     "output_type": "display_data"
    },
    {
     "data": {
      "text/plain": []
     },
     "metadata": {},
     "output_type": "display_data"
    },
    {
     "data": {
      "text/plain": [
       "   1.1790 - 0.3833i   1.1747 - 0.3797i   1.1706 - 0.3762i   1.1666 - 0.3727i"
      ]
     },
     "metadata": {},
     "output_type": "display_data"
    },
    {
     "data": {
      "text/plain": []
     },
     "metadata": {},
     "output_type": "display_data"
    },
    {
     "data": {
      "text/plain": [
       " Columns 73 through 76:"
      ]
     },
     "metadata": {},
     "output_type": "display_data"
    },
    {
     "data": {
      "text/plain": []
     },
     "metadata": {},
     "output_type": "display_data"
    },
    {
     "data": {
      "text/plain": [
       "   1.1628 - 0.3692i   1.1591 - 0.3657i   1.1555 - 0.3623i   1.1520 - 0.3590i"
      ]
     },
     "metadata": {},
     "output_type": "display_data"
    },
    {
     "data": {
      "text/plain": []
     },
     "metadata": {},
     "output_type": "display_data"
    },
    {
     "data": {
      "text/plain": [
       " Columns 77 through 80:"
      ]
     },
     "metadata": {},
     "output_type": "display_data"
    },
    {
     "data": {
      "text/plain": []
     },
     "metadata": {},
     "output_type": "display_data"
    },
    {
     "data": {
      "text/plain": [
       "   1.1486 - 0.3557i   1.1453 - 0.3524i   1.1421 - 0.3492i   1.1391 - 0.3460i"
      ]
     },
     "metadata": {},
     "output_type": "display_data"
    },
    {
     "data": {
      "text/plain": []
     },
     "metadata": {},
     "output_type": "display_data"
    },
    {
     "data": {
      "text/plain": [
       " Columns 81 through 84:"
      ]
     },
     "metadata": {},
     "output_type": "display_data"
    },
    {
     "data": {
      "text/plain": []
     },
     "metadata": {},
     "output_type": "display_data"
    },
    {
     "data": {
      "text/plain": [
       "   1.1361 - 0.3429i   1.1332 - 0.3398i   1.1304 - 0.3367i   1.1277 - 0.3337i"
      ]
     },
     "metadata": {},
     "output_type": "display_data"
    },
    {
     "data": {
      "text/plain": []
     },
     "metadata": {},
     "output_type": "display_data"
    },
    {
     "data": {
      "text/plain": [
       " Columns 85 through 88:"
      ]
     },
     "metadata": {},
     "output_type": "display_data"
    },
    {
     "data": {
      "text/plain": []
     },
     "metadata": {},
     "output_type": "display_data"
    },
    {
     "data": {
      "text/plain": [
       "   1.1250 - 0.3307i   1.1224 - 0.3278i   1.1199 - 0.3249i   1.1175 - 0.3221i"
      ]
     },
     "metadata": {},
     "output_type": "display_data"
    },
    {
     "data": {
      "text/plain": []
     },
     "metadata": {},
     "output_type": "display_data"
    },
    {
     "data": {
      "text/plain": [
       " Columns 89 through 92:"
      ]
     },
     "metadata": {},
     "output_type": "display_data"
    },
    {
     "data": {
      "text/plain": []
     },
     "metadata": {},
     "output_type": "display_data"
    },
    {
     "data": {
      "text/plain": [
       "   1.1152 - 0.3192i   1.1129 - 0.3165i   1.1107 - 0.3137i   1.1085 - 0.3110i"
      ]
     },
     "metadata": {},
     "output_type": "display_data"
    },
    {
     "data": {
      "text/plain": []
     },
     "metadata": {},
     "output_type": "display_data"
    },
    {
     "data": {
      "text/plain": [
       " Columns 93 through 96:"
      ]
     },
     "metadata": {},
     "output_type": "display_data"
    },
    {
     "data": {
      "text/plain": []
     },
     "metadata": {},
     "output_type": "display_data"
    },
    {
     "data": {
      "text/plain": [
       "   1.1064 - 0.3084i   1.1044 - 0.3058i   1.1024 - 0.3032i   1.1005 - 0.3006i"
      ]
     },
     "metadata": {},
     "output_type": "display_data"
    },
    {
     "data": {
      "text/plain": []
     },
     "metadata": {},
     "output_type": "display_data"
    },
    {
     "data": {
      "text/plain": [
       " Columns 97 through 100:"
      ]
     },
     "metadata": {},
     "output_type": "display_data"
    },
    {
     "data": {
      "text/plain": []
     },
     "metadata": {},
     "output_type": "display_data"
    },
    {
     "data": {
      "text/plain": [
       "   1.0986 - 0.2981i   1.0968 - 0.2956i   1.0950 - 0.2932i   1.0933 - 0.2908i"
      ]
     },
     "metadata": {},
     "output_type": "display_data"
    },
    {
     "data": {
      "text/plain": []
     },
     "metadata": {},
     "output_type": "display_data"
    },
    {
     "data": {
      "text/plain": [
       " Columns 101 through 104:"
      ]
     },
     "metadata": {},
     "output_type": "display_data"
    },
    {
     "data": {
      "text/plain": []
     },
     "metadata": {},
     "output_type": "display_data"
    },
    {
     "data": {
      "text/plain": [
       "   1.0916 - 0.2884i   1.0899 - 0.2861i   1.0883 - 0.2838i   1.0868 - 0.2815i"
      ]
     },
     "metadata": {},
     "output_type": "display_data"
    },
    {
     "data": {
      "text/plain": []
     },
     "metadata": {},
     "output_type": "display_data"
    },
    {
     "data": {
      "text/plain": [
       " Columns 105 through 108:"
      ]
     },
     "metadata": {},
     "output_type": "display_data"
    },
    {
     "data": {
      "text/plain": []
     },
     "metadata": {},
     "output_type": "display_data"
    },
    {
     "data": {
      "text/plain": [
       "   1.0853 - 0.2793i   1.0838 - 0.2770i   1.0823 - 0.2749i   1.0809 - 0.2727i"
      ]
     },
     "metadata": {},
     "output_type": "display_data"
    },
    {
     "data": {
      "text/plain": []
     },
     "metadata": {},
     "output_type": "display_data"
    },
    {
     "data": {
      "text/plain": [
       " Columns 109 through 112:"
      ]
     },
     "metadata": {},
     "output_type": "display_data"
    },
    {
     "data": {
      "text/plain": []
     },
     "metadata": {},
     "output_type": "display_data"
    },
    {
     "data": {
      "text/plain": [
       "   1.0795 - 0.2706i   1.0782 - 0.2685i   1.0769 - 0.2664i   1.0756 - 0.2644i"
      ]
     },
     "metadata": {},
     "output_type": "display_data"
    },
    {
     "data": {
      "text/plain": []
     },
     "metadata": {},
     "output_type": "display_data"
    },
    {
     "data": {
      "text/plain": [
       " Columns 113 through 116:"
      ]
     },
     "metadata": {},
     "output_type": "display_data"
    },
    {
     "data": {
      "text/plain": []
     },
     "metadata": {},
     "output_type": "display_data"
    },
    {
     "data": {
      "text/plain": [
       "   1.0744 - 0.2624i   1.0732 - 0.2604i   1.0720 - 0.2585i   1.0708 - 0.2565i"
      ]
     },
     "metadata": {},
     "output_type": "display_data"
    },
    {
     "data": {
      "text/plain": []
     },
     "metadata": {},
     "output_type": "display_data"
    },
    {
     "data": {
      "text/plain": [
       " Columns 117 through 120:"
      ]
     },
     "metadata": {},
     "output_type": "display_data"
    },
    {
     "data": {
      "text/plain": []
     },
     "metadata": {},
     "output_type": "display_data"
    },
    {
     "data": {
      "text/plain": [
       "   1.0697 - 0.2546i   1.0686 - 0.2528i   1.0675 - 0.2509i   1.0665 - 0.2491i"
      ]
     },
     "metadata": {},
     "output_type": "display_data"
    },
    {
     "data": {
      "text/plain": []
     },
     "metadata": {},
     "output_type": "display_data"
    },
    {
     "data": {
      "text/plain": [
       " Columns 121 through 124:"
      ]
     },
     "metadata": {},
     "output_type": "display_data"
    },
    {
     "data": {
      "text/plain": []
     },
     "metadata": {},
     "output_type": "display_data"
    },
    {
     "data": {
      "text/plain": [
       "   1.0654 - 0.2473i   1.0644 - 0.2455i   1.0634 - 0.2437i   1.0625 - 0.2420i"
      ]
     },
     "metadata": {},
     "output_type": "display_data"
    },
    {
     "data": {
      "text/plain": []
     },
     "metadata": {},
     "output_type": "display_data"
    },
    {
     "data": {
      "text/plain": [
       " Columns 125 through 128:"
      ]
     },
     "metadata": {},
     "output_type": "display_data"
    },
    {
     "data": {
      "text/plain": []
     },
     "metadata": {},
     "output_type": "display_data"
    },
    {
     "data": {
      "text/plain": [
       "   1.0615 - 0.2403i   1.0606 - 0.2386i   1.0597 - 0.2369i   1.0588 - 0.2353i"
      ]
     },
     "metadata": {},
     "output_type": "display_data"
    },
    {
     "data": {
      "text/plain": []
     },
     "metadata": {},
     "output_type": "display_data"
    }
   ],
   "source": [
    "%%octave -o B,A,z,H\n",
    "\n",
    "### Compute the transfer function ###\n",
    "pkg load signal\n",
    "B = [1 2];\n",
    "A = [1 1];\n",
    "z = linspace(0,4,128);\n",
    "H = freqs(B,A,z);\n",
    "H"
   ]
  },
  {
   "cell_type": "code",
   "execution_count": 51,
   "metadata": {},
   "outputs": [
    {
     "data": {
      "image/png": "[encoded data removed]",
      "text/plain": [
       "<IPython.core.display.Image object>"
      ]
     },
     "metadata": {},
     "output_type": "display_data"
    }
   ],
   "source": [
    "%%octave\n",
    "\n",
    "### We can also have octave plot the frequency response for us ###\n",
    "freqs(B,A,z);"
   ]
  },
  {
   "cell_type": "markdown",
   "metadata": {},
   "source": [
    "---"
   ]
  },
  {
   "cell_type": "markdown",
   "metadata": {},
   "source": [
    "### 3D Mesh Grid Plot\n",
    "Suppose we wanted to generate a 3D mesh grid plot with the following parameters:\n",
    "\n",
    "\\begin{equation}\n",
    "  x = [0.0, 0.1, ..., 3.0]\n",
    "\\end{equation}  \n",
    "\\begin{equation}\n",
    "  xx \\text{ and } yy \\text{ are expanded copies of } x\n",
    "\\end{equation}  \n",
    "\\begin{equation}\n",
    "  r = sin^{2}(xx-\\frac{1}{2}) + cos^{2}(yy-\\frac{1}{2})\n",
    "\\end{equation}  \n",
    "\n",
    "Let's use octave again!"
   ]
  },
  {
   "cell_type": "code",
   "execution_count": 55,
   "metadata": {},
   "outputs": [
    {
     "data": {
      "image/png": "[encoded data removed]",
      "text/plain": [
       "<IPython.core.display.Image object>"
      ]
     },
     "metadata": {},
     "output_type": "display_data"
    }
   ],
   "source": [
    "%%octave -s 600,200 -f png\n",
    "\n",
    "subplot(121);\n",
    "x = 0:0.1:3;\n",
    "[xx, yy] = meshgrid(x);\n",
    "r = sin(xx - 0.5).^2 + cos(yy - 0.5).^2;\n",
    "surf(xx, yy, r);\n",
    "\n",
    "subplot(122);\n",
    "sombrero()"
   ]
  },
  {
   "cell_type": "markdown",
   "metadata": {},
   "source": [
    "***"
   ]
  },
  {
   "cell_type": "markdown",
   "metadata": {},
   "source": [
    "## Scipy \n",
    "* Python's library for scientific algorithms\n",
    "* Can solve integrals, differential equations, linear algebra, and so much more"
   ]
  },
  {
   "cell_type": "markdown",
   "metadata": {},
   "source": [
    "### Integration\n",
    "Suppose we want to solve the following integral\n",
    "\n",
    "\\begin{equation}\n",
    "  I(a,b) = \\int_{0}^{1}ax^2 + bdx\n",
    "\\end{equation}"
   ]
  },
  {
   "cell_type": "code",
   "execution_count": 4,
   "metadata": {},
   "outputs": [
    {
     "name": "stdout",
     "output_type": "stream",
     "text": [
      "integral value = 1.66666666667 , absolute error = 1.85037170771e-14\n"
     ]
    }
   ],
   "source": [
    "### write the integrand function ###\n",
    "def integrand(x, a, b):\n",
    "    return a*x**2 + b\n",
    "\n",
    "### Use scipy's quad() to solve the integral ##\n",
    "a = 2\n",
    "b = 1\n",
    "value, absolute_error = quad(integrand, 0, 1, args=(a,b))\n",
    "\n",
    "print \"integral value =\", value, \", absolute error =\", absolute_error"
   ]
  },
  {
   "cell_type": "markdown",
   "metadata": {},
   "source": [
    "<legend>Double Integral Example</legend>\n",
    "\n",
    "\\begin{equation}\n",
    "  I = \\int_{y=0}^{\\frac{1}{2}}\\int_{x=0}^{1-2y}xydxdy = \\frac{1}{96}\n",
    "\\end{equation}"
   ]
  },
  {
   "cell_type": "code",
   "execution_count": 7,
   "metadata": {},
   "outputs": [
    {
     "name": "stdout",
     "output_type": "stream",
     "text": [
      "integral value = 0.0104166666667 , absolute error = 4.10162012847e-16\n"
     ]
    }
   ],
   "source": [
    "def f(x, y):\n",
    "    return x*y\n",
    "\n",
    "def bounds_y():\n",
    "    return [0, 0.5]\n",
    "\n",
    "def bounds_x(y):\n",
    "    return [0, 1-2*y]\n",
    "\n",
    "value, absolute_error = nquad(f, [bounds_x, bounds_y])\n",
    "print \"integral value =\", value, \", absolute error =\", absolute_error"
   ]
  },
  {
   "cell_type": "markdown",
   "metadata": {
    "scrolled": false
   },
   "source": [
    "### Ordinary Differential Equations\n",
    "Consider the classic damped harmonic oscillation example.\n",
    "http://en.wikipedia.org/wiki/Damping\n",
    "\n",
    "\\begin{equation}\n",
    "  \\displaystyle \\frac{\\mathrm{d}^2x}{\\mathrm{d}t^2} + 2\\zeta\\omega_0\\frac{\\mathrm{d}x}{\\mathrm{d}t} + \\omega^2_0 x = 0\n",
    "\\end{equation}\n",
    "\n",
    "where $x$ is the position of the oscillator, $\\omega_0$ is the frequency, and $\\zeta$ is the damping ratio. To write this second-order ODE on standard form we introduce $p = \\frac{\\mathrm{d}x}{\\mathrm{d}t}$:\n",
    "\n",
    "\\begin{equation}\n",
    "  \\displaystyle \\frac{\\mathrm{d}p}{\\mathrm{d}t} = - 2\\zeta\\omega_0 p - \\omega^2_0 x\n",
    "\\end{equation}\n",
    "\n",
    "\\begin{equation}\n",
    "  \\displaystyle \\frac{\\mathrm{d}x}{\\mathrm{d}t} = p\n",
    "\\end{equation}"
   ]
  },
  {
   "cell_type": "code",
   "execution_count": 8,
   "metadata": {},
   "outputs": [],
   "source": [
    "def dy(y, t, zeta, w0):\n",
    "    \"\"\"\n",
    "    The right-hand side of the damped oscillator ODE\n",
    "    \"\"\"\n",
    "    x, p = y[0], y[1]\n",
    "    \n",
    "    dx = p\n",
    "    dp = -2 * zeta * w0 * p - w0**2 * x\n",
    "\n",
    "    return [dx, dp]"
   ]
  },
  {
   "cell_type": "code",
   "execution_count": 9,
   "metadata": {},
   "outputs": [],
   "source": [
    "# initial state: \n",
    "y0 = [1.0, 0.0]"
   ]
  },
  {
   "cell_type": "code",
   "execution_count": 14,
   "metadata": {},
   "outputs": [],
   "source": [
    "# time coodinate to solve the ODE for\n",
    "t = np.linspace(0, 10, 1000)\n",
    "w0 = 2*np.pi*1.0"
   ]
  },
  {
   "cell_type": "code",
   "execution_count": 17,
   "metadata": {},
   "outputs": [],
   "source": [
    "# solve the ODE problem for three different values of the damping ratio\n",
    "\n",
    "y1 = odeint(dy, y0, t, args=(0.0, w0)) # undamped\n",
    "y2 = odeint(dy, y0, t, args=(0.2, w0)) # under damped\n",
    "y3 = odeint(dy, y0, t, args=(1.0, w0)) # critial damping\n",
    "y4 = odeint(dy, y0, t, args=(5.0, w0)) # over damped"
   ]
  },
  {
   "cell_type": "code",
   "execution_count": 22,
   "metadata": {},
   "outputs": [
    {
     "data": {
      "text/plain": [
       "<Figure size 640x480 with 0 Axes>"
      ]
     },
     "execution_count": 22,
     "metadata": {},
     "output_type": "execute_result"
    },
    {
     "data": {
      "application/vnd.jupyter.widget-view+json": {
       "model_id": "",
       "version_major": 2,
       "version_minor": 0
      },
      "text/plain": [
       "FigureCanvasNbAgg()"
      ]
     },
     "metadata": {},
     "output_type": "display_data"
    },
    {
     "data": {
      "text/plain": [
       "[<matplotlib.lines.Line2D at 0x7fb8ee899b10>]"
      ]
     },
     "execution_count": 22,
     "metadata": {},
     "output_type": "execute_result"
    },
    {
     "data": {
      "text/plain": [
       "[<matplotlib.lines.Line2D at 0x7fb8ee7e7c10>]"
      ]
     },
     "execution_count": 22,
     "metadata": {},
     "output_type": "execute_result"
    },
    {
     "data": {
      "text/plain": [
       "[<matplotlib.lines.Line2D at 0x7fb8ee889890>]"
      ]
     },
     "execution_count": 22,
     "metadata": {},
     "output_type": "execute_result"
    },
    {
     "data": {
      "text/plain": [
       "[<matplotlib.lines.Line2D at 0x7fb8ee7a6150>]"
      ]
     },
     "execution_count": 22,
     "metadata": {},
     "output_type": "execute_result"
    },
    {
     "data": {
      "text/plain": [
       "<matplotlib.legend.Legend at 0x7fb8ee7a6550>"
      ]
     },
     "execution_count": 22,
     "metadata": {},
     "output_type": "execute_result"
    }
   ],
   "source": [
    "plt.figure('Damped Harmonic Oscillation ')\n",
    "fig, ax = plt.subplots()\n",
    "ax.plot(t, y1[:,0], 'k', label=\"undamped\", linewidth=0.25)\n",
    "ax.plot(t, y2[:,0], 'r', label=\"under damped\")\n",
    "ax.plot(t, y3[:,0], 'b', label=r\"critical damping\")\n",
    "ax.plot(t, y4[:,0], 'g', label=\"over damped\")\n",
    "ax.legend();\n",
    "plt.draw()\n",
    "plt.show()"
   ]
  },
  {
   "cell_type": "code",
   "execution_count": null,
   "metadata": {},
   "outputs": [],
   "source": []
  },
  {
   "cell_type": "code",
   "execution_count": null,
   "metadata": {},
   "outputs": [],
   "source": []
  },
  {
   "cell_type": "code",
   "execution_count": null,
   "metadata": {},
   "outputs": [],
   "source": []
  },
  {
   "cell_type": "code",
   "execution_count": null,
   "metadata": {},
   "outputs": [],
   "source": []
  },
  {
   "cell_type": "markdown",
   "metadata": {
    "ExecuteTime": {
     "end_time": "2018-10-10T14:08:57.992765Z",
     "start_time": "2018-10-10T14:08:57.990380Z"
    },
    "deletable": false,
    "editable": false,
    "run_control": {
     "frozen": true
    }
   },
   "source": [
    "# Fun With Stocks\n",
    "\n",
    "The python **pyEX** package pulls data from **IEX Real-Time Price** API\n",
    "\n",
    "[https://github.com/timkpaine/pyEX](https://github.com/timkpaine/pyEX)\n",
    "\n",
    "[https://iextrading.com/api-exhibit-a](https://iextrading.com/api-exhibit-a)"
   ]
  },
  {
   "cell_type": "code",
   "execution_count": 239,
   "metadata": {
    "ExecuteTime": {
     "end_time": "2018-10-10T23:34:44.845430Z",
     "start_time": "2018-10-10T23:34:44.828245Z"
    }
   },
   "outputs": [],
   "source": [
    "??pyEX.chartDF"
   ]
  },
  {
   "cell_type": "code",
   "execution_count": 78,
   "metadata": {
    "ExecuteTime": {
     "end_time": "2018-10-10T23:30:52.984021Z",
     "start_time": "2018-10-10T23:30:52.655175Z"
    }
   },
   "outputs": [
    {
     "name": "stdout",
     "output_type": "stream",
     "text": [
      "<class 'pandas.core.frame.DataFrame'>\n",
      "DatetimeIndex: 1259 entries, 2013-10-22 to 2018-10-19\n",
      "Data columns (total 11 columns):\n",
      "change              1259 non-null float64\n",
      "changeOverTime      1259 non-null float64\n",
      "changePercent       1259 non-null float64\n",
      "close               1259 non-null float64\n",
      "high                1259 non-null float64\n",
      "label               1259 non-null object\n",
      "low                 1259 non-null float64\n",
      "open                1259 non-null float64\n",
      "unadjustedVolume    1259 non-null int64\n",
      "volume              1259 non-null int64\n",
      "vwap                1259 non-null float64\n",
      "dtypes: float64(8), int64(2), object(1)\n",
      "memory usage: 118.0+ KB\n"
     ]
    }
   ],
   "source": [
    "df = pyEX.chartDF('googl', '5y')\n",
    "df.info()"
   ]
  },
  {
   "cell_type": "code",
   "execution_count": 79,
   "metadata": {
    "ExecuteTime": {
     "end_time": "2018-10-10T23:30:50.376361Z",
     "start_time": "2018-10-10T23:30:50.349040Z"
    }
   },
   "outputs": [
    {
     "data": {
      "text/html": [
       "<div>\n",
       "<style scoped>\n",
       "    .dataframe tbody tr th:only-of-type {\n",
       "        vertical-align: middle;\n",
       "    }\n",
       "\n",
       "    .dataframe tbody tr th {\n",
       "        vertical-align: top;\n",
       "    }\n",
       "\n",
       "    .dataframe thead th {\n",
       "        text-align: right;\n",
       "    }\n",
       "</style>\n",
       "<table border=\"1\" class=\"dataframe\">\n",
       "  <thead>\n",
       "    <tr style=\"text-align: right;\">\n",
       "      <th></th>\n",
       "      <th>change</th>\n",
       "      <th>changeOverTime</th>\n",
       "      <th>changePercent</th>\n",
       "      <th>close</th>\n",
       "      <th>high</th>\n",
       "      <th>label</th>\n",
       "      <th>low</th>\n",
       "      <th>open</th>\n",
       "      <th>unadjustedVolume</th>\n",
       "      <th>volume</th>\n",
       "      <th>vwap</th>\n",
       "    </tr>\n",
       "    <tr>\n",
       "      <th>date</th>\n",
       "      <th></th>\n",
       "      <th></th>\n",
       "      <th></th>\n",
       "      <th></th>\n",
       "      <th></th>\n",
       "      <th></th>\n",
       "      <th></th>\n",
       "      <th></th>\n",
       "      <th></th>\n",
       "      <th></th>\n",
       "      <th></th>\n",
       "    </tr>\n",
       "  </thead>\n",
       "  <tbody>\n",
       "    <tr>\n",
       "      <th>2013-10-22</th>\n",
       "      <td>1.8518</td>\n",
       "      <td>0.000000</td>\n",
       "      <td>0.369</td>\n",
       "      <td>504.0035</td>\n",
       "      <td>507.0065</td>\n",
       "      <td>Oct 22, 13</td>\n",
       "      <td>498.3934</td>\n",
       "      <td>503.0025</td>\n",
       "      <td>2211479</td>\n",
       "      <td>4418539</td>\n",
       "      <td>503.5736</td>\n",
       "    </tr>\n",
       "    <tr>\n",
       "      <th>2013-10-23</th>\n",
       "      <td>12.2157</td>\n",
       "      <td>0.024237</td>\n",
       "      <td>2.424</td>\n",
       "      <td>516.2192</td>\n",
       "      <td>517.8923</td>\n",
       "      <td>Oct 23, 13</td>\n",
       "      <td>500.8153</td>\n",
       "      <td>501.0005</td>\n",
       "      <td>2667586</td>\n",
       "      <td>5329842</td>\n",
       "      <td>525.0257</td>\n",
       "    </tr>\n",
       "    <tr>\n",
       "      <th>2013-10-24</th>\n",
       "      <td>-2.9314</td>\n",
       "      <td>0.018421</td>\n",
       "      <td>-0.568</td>\n",
       "      <td>513.2878</td>\n",
       "      <td>520.8053</td>\n",
       "      <td>Oct 24, 13</td>\n",
       "      <td>512.9124</td>\n",
       "      <td>516.4509</td>\n",
       "      <td>2093154</td>\n",
       "      <td>4182126</td>\n",
       "      <td>516.0919</td>\n",
       "    </tr>\n",
       "    <tr>\n",
       "      <th>2013-10-25</th>\n",
       "      <td>-5.1802</td>\n",
       "      <td>0.008143</td>\n",
       "      <td>-1.009</td>\n",
       "      <td>508.1076</td>\n",
       "      <td>514.9244</td>\n",
       "      <td>Oct 25, 13</td>\n",
       "      <td>505.8754</td>\n",
       "      <td>514.9244</td>\n",
       "      <td>2030838</td>\n",
       "      <td>4057618</td>\n",
       "      <td>509.2039</td>\n",
       "    </tr>\n",
       "    <tr>\n",
       "      <th>2013-10-28</th>\n",
       "      <td>-0.1001</td>\n",
       "      <td>0.007944</td>\n",
       "      <td>-0.020</td>\n",
       "      <td>508.0075</td>\n",
       "      <td>512.2267</td>\n",
       "      <td>Oct 28, 13</td>\n",
       "      <td>506.9990</td>\n",
       "      <td>508.1076</td>\n",
       "      <td>1166400</td>\n",
       "      <td>2330470</td>\n",
       "      <td>509.1627</td>\n",
       "    </tr>\n",
       "  </tbody>\n",
       "</table>\n",
       "</div>"
      ],
      "text/plain": [
       "             change  changeOverTime  changePercent     close      high  \\\n",
       "date                                                                     \n",
       "2013-10-22   1.8518        0.000000          0.369  504.0035  507.0065   \n",
       "2013-10-23  12.2157        0.024237          2.424  516.2192  517.8923   \n",
       "2013-10-24  -2.9314        0.018421         -0.568  513.2878  520.8053   \n",
       "2013-10-25  -5.1802        0.008143         -1.009  508.1076  514.9244   \n",
       "2013-10-28  -0.1001        0.007944         -0.020  508.0075  512.2267   \n",
       "\n",
       "                 label       low      open  unadjustedVolume   volume  \\\n",
       "date                                                                    \n",
       "2013-10-22  Oct 22, 13  498.3934  503.0025           2211479  4418539   \n",
       "2013-10-23  Oct 23, 13  500.8153  501.0005           2667586  5329842   \n",
       "2013-10-24  Oct 24, 13  512.9124  516.4509           2093154  4182126   \n",
       "2013-10-25  Oct 25, 13  505.8754  514.9244           2030838  4057618   \n",
       "2013-10-28  Oct 28, 13  506.9990  508.1076           1166400  2330470   \n",
       "\n",
       "                vwap  \n",
       "date                  \n",
       "2013-10-22  503.5736  \n",
       "2013-10-23  525.0257  \n",
       "2013-10-24  516.0919  \n",
       "2013-10-25  509.2039  \n",
       "2013-10-28  509.1627  "
      ]
     },
     "execution_count": 79,
     "metadata": {},
     "output_type": "execute_result"
    }
   ],
   "source": [
    "df.head(5)"
   ]
  },
  {
   "cell_type": "code",
   "execution_count": 80,
   "metadata": {
    "ExecuteTime": {
     "end_time": "2018-10-10T16:47:29.080469Z",
     "start_time": "2018-10-10T16:47:29.030142Z"
    }
   },
   "outputs": [
    {
     "data": {
      "text/html": [
       "<div>\n",
       "<style scoped>\n",
       "    .dataframe tbody tr th:only-of-type {\n",
       "        vertical-align: middle;\n",
       "    }\n",
       "\n",
       "    .dataframe tbody tr th {\n",
       "        vertical-align: top;\n",
       "    }\n",
       "\n",
       "    .dataframe thead th {\n",
       "        text-align: right;\n",
       "    }\n",
       "</style>\n",
       "<table border=\"1\" class=\"dataframe\">\n",
       "  <thead>\n",
       "    <tr style=\"text-align: right;\">\n",
       "      <th></th>\n",
       "      <th>change</th>\n",
       "      <th>changeOverTime</th>\n",
       "      <th>changePercent</th>\n",
       "      <th>close</th>\n",
       "      <th>high</th>\n",
       "      <th>low</th>\n",
       "      <th>open</th>\n",
       "      <th>unadjustedVolume</th>\n",
       "      <th>volume</th>\n",
       "      <th>vwap</th>\n",
       "    </tr>\n",
       "  </thead>\n",
       "  <tbody>\n",
       "    <tr>\n",
       "      <th>count</th>\n",
       "      <td>1259.000000</td>\n",
       "      <td>1259.000000</td>\n",
       "      <td>1259.000000</td>\n",
       "      <td>1259.000000</td>\n",
       "      <td>1259.000000</td>\n",
       "      <td>1259.000000</td>\n",
       "      <td>1259.000000</td>\n",
       "      <td>1.259000e+03</td>\n",
       "      <td>1.259000e+03</td>\n",
       "      <td>1259.000000</td>\n",
       "    </tr>\n",
       "    <tr>\n",
       "      <th>mean</th>\n",
       "      <td>0.478974</td>\n",
       "      <td>0.550913</td>\n",
       "      <td>0.072456</td>\n",
       "      <td>781.665440</td>\n",
       "      <td>788.101751</td>\n",
       "      <td>774.916001</td>\n",
       "      <td>781.913510</td>\n",
       "      <td>1.953849e+06</td>\n",
       "      <td>2.126855e+06</td>\n",
       "      <td>781.741052</td>\n",
       "    </tr>\n",
       "    <tr>\n",
       "      <th>std</th>\n",
       "      <td>11.163894</td>\n",
       "      <td>0.425904</td>\n",
       "      <td>1.404805</td>\n",
       "      <td>214.657304</td>\n",
       "      <td>216.542803</td>\n",
       "      <td>212.673586</td>\n",
       "      <td>214.591626</td>\n",
       "      <td>9.529381e+05</td>\n",
       "      <td>1.178451e+06</td>\n",
       "      <td>214.604878</td>\n",
       "    </tr>\n",
       "    <tr>\n",
       "      <th>min</th>\n",
       "      <td>-62.390000</td>\n",
       "      <td>-0.013777</td>\n",
       "      <td>-5.414000</td>\n",
       "      <td>497.060000</td>\n",
       "      <td>500.280000</td>\n",
       "      <td>490.910000</td>\n",
       "      <td>499.240000</td>\n",
       "      <td>5.211410e+05</td>\n",
       "      <td>5.211410e+05</td>\n",
       "      <td>495.069300</td>\n",
       "    </tr>\n",
       "    <tr>\n",
       "      <th>25%</th>\n",
       "      <td>-4.430000</td>\n",
       "      <td>0.139079</td>\n",
       "      <td>-0.581000</td>\n",
       "      <td>574.100000</td>\n",
       "      <td>580.135000</td>\n",
       "      <td>569.061750</td>\n",
       "      <td>575.062250</td>\n",
       "      <td>1.371870e+06</td>\n",
       "      <td>1.404534e+06</td>\n",
       "      <td>575.207650</td>\n",
       "    </tr>\n",
       "    <tr>\n",
       "      <th>50%</th>\n",
       "      <td>0.470470</td>\n",
       "      <td>0.501041</td>\n",
       "      <td>0.074000</td>\n",
       "      <td>756.530000</td>\n",
       "      <td>760.600000</td>\n",
       "      <td>748.489000</td>\n",
       "      <td>753.910000</td>\n",
       "      <td>1.715074e+06</td>\n",
       "      <td>1.772555e+06</td>\n",
       "      <td>754.977300</td>\n",
       "    </tr>\n",
       "    <tr>\n",
       "      <th>75%</th>\n",
       "      <td>6.145000</td>\n",
       "      <td>0.894392</td>\n",
       "      <td>0.806500</td>\n",
       "      <td>954.780000</td>\n",
       "      <td>959.755000</td>\n",
       "      <td>945.780000</td>\n",
       "      <td>952.085000</td>\n",
       "      <td>2.212012e+06</td>\n",
       "      <td>2.406234e+06</td>\n",
       "      <td>953.583350</td>\n",
       "    </tr>\n",
       "    <tr>\n",
       "      <th>max</th>\n",
       "      <td>97.840000</td>\n",
       "      <td>1.550578</td>\n",
       "      <td>16.258000</td>\n",
       "      <td>1285.500000</td>\n",
       "      <td>1291.440000</td>\n",
       "      <td>1263.000000</td>\n",
       "      <td>1289.120000</td>\n",
       "      <td>1.285814e+07</td>\n",
       "      <td>1.285814e+07</td>\n",
       "      <td>1277.250000</td>\n",
       "    </tr>\n",
       "  </tbody>\n",
       "</table>\n",
       "</div>"
      ],
      "text/plain": [
       "            change  changeOverTime  changePercent        close         high  \\\n",
       "count  1259.000000     1259.000000    1259.000000  1259.000000  1259.000000   \n",
       "mean      0.478974        0.550913       0.072456   781.665440   788.101751   \n",
       "std      11.163894        0.425904       1.404805   214.657304   216.542803   \n",
       "min     -62.390000       -0.013777      -5.414000   497.060000   500.280000   \n",
       "25%      -4.430000        0.139079      -0.581000   574.100000   580.135000   \n",
       "50%       0.470470        0.501041       0.074000   756.530000   760.600000   \n",
       "75%       6.145000        0.894392       0.806500   954.780000   959.755000   \n",
       "max      97.840000        1.550578      16.258000  1285.500000  1291.440000   \n",
       "\n",
       "               low         open  unadjustedVolume        volume         vwap  \n",
       "count  1259.000000  1259.000000      1.259000e+03  1.259000e+03  1259.000000  \n",
       "mean    774.916001   781.913510      1.953849e+06  2.126855e+06   781.741052  \n",
       "std     212.673586   214.591626      9.529381e+05  1.178451e+06   214.604878  \n",
       "min     490.910000   499.240000      5.211410e+05  5.211410e+05   495.069300  \n",
       "25%     569.061750   575.062250      1.371870e+06  1.404534e+06   575.207650  \n",
       "50%     748.489000   753.910000      1.715074e+06  1.772555e+06   754.977300  \n",
       "75%     945.780000   952.085000      2.212012e+06  2.406234e+06   953.583350  \n",
       "max    1263.000000  1289.120000      1.285814e+07  1.285814e+07  1277.250000  "
      ]
     },
     "execution_count": 80,
     "metadata": {},
     "output_type": "execute_result"
    }
   ],
   "source": [
    "df.describe()"
   ]
  },
  {
   "cell_type": "code",
   "execution_count": 81,
   "metadata": {
    "ExecuteTime": {
     "end_time": "2018-10-10T16:47:29.815496Z",
     "start_time": "2018-10-10T16:47:29.802881Z"
    }
   },
   "outputs": [
    {
     "data": {
      "text/plain": [
       "DatetimeIndex(['2013-10-22', '2013-10-23', '2013-10-24', '2013-10-25',\n",
       "               '2013-10-28', '2013-10-29', '2013-10-30', '2013-10-31',\n",
       "               '2013-11-01', '2013-11-04',\n",
       "               ...\n",
       "               '2018-10-08', '2018-10-09', '2018-10-10', '2018-10-11',\n",
       "               '2018-10-12', '2018-10-15', '2018-10-16', '2018-10-17',\n",
       "               '2018-10-18', '2018-10-19'],\n",
       "              dtype='datetime64[ns]', name=u'date', length=1259, freq=None)"
      ]
     },
     "execution_count": 81,
     "metadata": {},
     "output_type": "execute_result"
    }
   ],
   "source": [
    "df.index"
   ]
  },
  {
   "cell_type": "code",
   "execution_count": 82,
   "metadata": {
    "ExecuteTime": {
     "end_time": "2018-10-10T16:47:31.856189Z",
     "start_time": "2018-10-10T16:47:31.851124Z"
    }
   },
   "outputs": [
    {
     "data": {
      "text/plain": [
       "Index([u'change', u'changeOverTime', u'changePercent', u'close', u'high',\n",
       "       u'label', u'low', u'open', u'unadjustedVolume', u'volume', u'vwap'],\n",
       "      dtype='object')"
      ]
     },
     "execution_count": 82,
     "metadata": {},
     "output_type": "execute_result"
    }
   ],
   "source": [
    "df.columns"
   ]
  },
  {
   "cell_type": "code",
   "execution_count": 83,
   "metadata": {
    "ExecuteTime": {
     "end_time": "2018-10-10T16:47:35.162064Z",
     "start_time": "2018-10-10T16:47:34.967448Z"
    }
   },
   "outputs": [
    {
     "data": {
      "application/vnd.jupyter.widget-view+json": {
       "model_id": "c93fa6732c334869b6ba813a7c3a4115",
       "version_major": 2,
       "version_minor": 0
      },
      "text/plain": [
       "FigureCanvasNbAgg()"
      ]
     },
     "metadata": {},
     "output_type": "display_data"
    }
   ],
   "source": [
    "df = df[['open', 'close', 'high', 'low']]\n",
    "df.plot();"
   ]
  },
  {
   "cell_type": "code",
   "execution_count": 84,
   "metadata": {
    "ExecuteTime": {
     "end_time": "2018-10-10T16:47:36.331566Z",
     "start_time": "2018-10-10T16:47:35.774720Z"
    }
   },
   "outputs": [],
   "source": [
    "sns.set()\n",
    "sns.lineplot(data=df);"
   ]
  },
  {
   "cell_type": "code",
   "execution_count": 85,
   "metadata": {
    "ExecuteTime": {
     "end_time": "2018-10-10T16:47:37.378023Z",
     "start_time": "2018-10-10T16:47:36.971342Z"
    }
   },
   "outputs": [
    {
     "data": {
      "application/vnd.jupyter.widget-view+json": {
       "model_id": "",
       "version_major": 2,
       "version_minor": 0
      },
      "text/plain": [
       "FigureCanvasNbAgg()"
      ]
     },
     "metadata": {},
     "output_type": "display_data"
    }
   ],
   "source": [
    "df.hist();"
   ]
  },
  {
   "cell_type": "code",
   "execution_count": 93,
   "metadata": {
    "ExecuteTime": {
     "end_time": "2018-10-10T16:47:39.204276Z",
     "start_time": "2018-10-10T16:47:37.985016Z"
    }
   },
   "outputs": [
    {
     "data": {
      "application/vnd.jupyter.widget-view+json": {
       "model_id": "ba7f95999f3d49a39a69bd074ea48e36",
       "version_major": 2,
       "version_minor": 0
      },
      "text/plain": [
       "FigureCanvasNbAgg()"
      ]
     },
     "metadata": {},
     "output_type": "display_data"
    }
   ],
   "source": [
    "sns.pairplot(df);"
   ]
  },
  {
   "cell_type": "code",
   "execution_count": 87,
   "metadata": {
    "ExecuteTime": {
     "end_time": "2018-10-10T16:47:46.246607Z",
     "start_time": "2018-10-10T16:47:46.063068Z"
    }
   },
   "outputs": [
    {
     "data": {
      "application/vnd.jupyter.widget-view+json": {
       "model_id": "",
       "version_major": 2,
       "version_minor": 0
      },
      "text/plain": [
       "FigureCanvasNbAgg()"
      ]
     },
     "metadata": {},
     "output_type": "display_data"
    },
    {
     "name": "stderr",
     "output_type": "stream",
     "text": [
      "/home/python/.local/lib/python2.7/site-packages/scipy/stats/stats.py:1713: FutureWarning: Using a non-tuple sequence for multidimensional indexing is deprecated; use `arr[tuple(seq)]` instead of `arr[seq]`. In the future this will be interpreted as an array index, `arr[np.array(seq)]`, which will result either in an error or a different result.\n",
      "  return np.add.reduce(sorted[indexer] * weights, axis=axis) / sumval\n"
     ]
    }
   ],
   "source": [
    "plt.close()\n",
    "plt.figure('voilin')\n",
    "sns.violinplot(data=df);"
   ]
  },
  {
   "cell_type": "code",
   "execution_count": 88,
   "metadata": {
    "ExecuteTime": {
     "end_time": "2018-10-10T16:47:48.998281Z",
     "start_time": "2018-10-10T16:47:48.979037Z"
    }
   },
   "outputs": [],
   "source": [
    "# Save dataframe to csv #\n",
    "df.to_csv('google_stock_5y.csv')"
   ]
  },
  {
   "cell_type": "code",
   "execution_count": 89,
   "metadata": {
    "ExecuteTime": {
     "end_time": "2018-10-10T16:47:49.850890Z",
     "start_time": "2018-10-10T16:47:49.719819Z"
    }
   },
   "outputs": [
    {
     "name": "stdout",
     "output_type": "stream",
     "text": [
      "date,open,close,high,low\r\n",
      "2013-10-22,503.0025,504.0035,507.0065,498.3934\r\n",
      "2013-10-23,501.0005,516.2192,517.8923,500.8153\r\n",
      "2013-10-24,516.4509,513.2878,520.8053,512.9124\r\n",
      "2013-10-25,514.9244,508.1076,514.9244,505.8754\r\n",
      "2013-10-28,508.1076,508.0075,512.2267,506.999\r\n",
      "2013-10-29,510.0596,518.6381,518.9885,507.2568\r\n",
      "2013-10-30,519.2337,515.7252,519.2738,513.513\r\n",
      "2013-10-31,514.9795,515.8053,521.2827,512.497\r\n",
      "2013-11-01,516.4109,514.0335,518.518,513.0625\r\n"
     ]
    }
   ],
   "source": [
    "!head google_stock_5y.csv"
   ]
  },
  {
   "cell_type": "code",
   "execution_count": 90,
   "metadata": {
    "ExecuteTime": {
     "end_time": "2018-10-10T16:48:02.767349Z",
     "start_time": "2018-10-10T16:48:01.146720Z"
    }
   },
   "outputs": [
    {
     "data": {
      "text/html": [
       "<pre>Finished parsing file /home/python/workshop_1/google_stock_5y.csv</pre>"
      ],
      "text/plain": [
       "Finished parsing file /home/python/workshop_1/google_stock_5y.csv"
      ]
     },
     "metadata": {},
     "output_type": "display_data"
    },
    {
     "data": {
      "text/html": [
       "<pre>Parsing completed. Parsed 100 lines in 0.057878 secs.</pre>"
      ],
      "text/plain": [
       "Parsing completed. Parsed 100 lines in 0.057878 secs."
      ]
     },
     "metadata": {},
     "output_type": "display_data"
    },
    {
     "name": "stdout",
     "output_type": "stream",
     "text": [
      "------------------------------------------------------\n",
      "Inferred types from first 100 line(s) of file as \n",
      "column_type_hints=[str,float,float,float,float]\n",
      "If parsing fails due to incorrect types, you can correct\n",
      "the inferred type list above and pass it to read_csv in\n",
      "the column_type_hints argument\n",
      "------------------------------------------------------\n"
     ]
    },
    {
     "data": {
      "text/html": [
       "<pre>Read 1259 lines. Lines per second: 51387.8</pre>"
      ],
      "text/plain": [
       "Read 1259 lines. Lines per second: 51387.8"
      ]
     },
     "metadata": {},
     "output_type": "display_data"
    },
    {
     "data": {
      "text/html": [
       "<pre>Finished parsing file /home/python/workshop_1/google_stock_5y.csv</pre>"
      ],
      "text/plain": [
       "Finished parsing file /home/python/workshop_1/google_stock_5y.csv"
      ]
     },
     "metadata": {},
     "output_type": "display_data"
    },
    {
     "data": {
      "text/html": [
       "<pre>Parsing completed. Parsed 1259 lines in 0.025859 secs.</pre>"
      ],
      "text/plain": [
       "Parsing completed. Parsed 1259 lines in 0.025859 secs."
      ]
     },
     "metadata": {},
     "output_type": "display_data"
    },
    {
     "data": {
      "text/html": [
       "<div style=\"max-height:1000px;max-width:1500px;overflow:auto;\"><table frame=\"box\" rules=\"cols\">\n",
       "    <tr>\n",
       "        <th style=\"padding-left: 1em; padding-right: 1em; text-align: center\">date</th>\n",
       "        <th style=\"padding-left: 1em; padding-right: 1em; text-align: center\">open</th>\n",
       "        <th style=\"padding-left: 1em; padding-right: 1em; text-align: center\">close</th>\n",
       "        <th style=\"padding-left: 1em; padding-right: 1em; text-align: center\">high</th>\n",
       "        <th style=\"padding-left: 1em; padding-right: 1em; text-align: center\">low</th>\n",
       "    </tr>\n",
       "    <tr>\n",
       "        <td style=\"padding-left: 1em; padding-right: 1em; text-align: center; vertical-align: top\">2013-10-22</td>\n",
       "        <td style=\"padding-left: 1em; padding-right: 1em; text-align: center; vertical-align: top\">503.0025</td>\n",
       "        <td style=\"padding-left: 1em; padding-right: 1em; text-align: center; vertical-align: top\">504.0035</td>\n",
       "        <td style=\"padding-left: 1em; padding-right: 1em; text-align: center; vertical-align: top\">507.0065</td>\n",
       "        <td style=\"padding-left: 1em; padding-right: 1em; text-align: center; vertical-align: top\">498.3934</td>\n",
       "    </tr>\n",
       "    <tr>\n",
       "        <td style=\"padding-left: 1em; padding-right: 1em; text-align: center; vertical-align: top\">2013-10-23</td>\n",
       "        <td style=\"padding-left: 1em; padding-right: 1em; text-align: center; vertical-align: top\">501.0005</td>\n",
       "        <td style=\"padding-left: 1em; padding-right: 1em; text-align: center; vertical-align: top\">516.2192</td>\n",
       "        <td style=\"padding-left: 1em; padding-right: 1em; text-align: center; vertical-align: top\">517.8923</td>\n",
       "        <td style=\"padding-left: 1em; padding-right: 1em; text-align: center; vertical-align: top\">500.8153</td>\n",
       "    </tr>\n",
       "    <tr>\n",
       "        <td style=\"padding-left: 1em; padding-right: 1em; text-align: center; vertical-align: top\">2013-10-24</td>\n",
       "        <td style=\"padding-left: 1em; padding-right: 1em; text-align: center; vertical-align: top\">516.4509</td>\n",
       "        <td style=\"padding-left: 1em; padding-right: 1em; text-align: center; vertical-align: top\">513.2878</td>\n",
       "        <td style=\"padding-left: 1em; padding-right: 1em; text-align: center; vertical-align: top\">520.8053</td>\n",
       "        <td style=\"padding-left: 1em; padding-right: 1em; text-align: center; vertical-align: top\">512.9124</td>\n",
       "    </tr>\n",
       "    <tr>\n",
       "        <td style=\"padding-left: 1em; padding-right: 1em; text-align: center; vertical-align: top\">2013-10-25</td>\n",
       "        <td style=\"padding-left: 1em; padding-right: 1em; text-align: center; vertical-align: top\">514.9244</td>\n",
       "        <td style=\"padding-left: 1em; padding-right: 1em; text-align: center; vertical-align: top\">508.1076</td>\n",
       "        <td style=\"padding-left: 1em; padding-right: 1em; text-align: center; vertical-align: top\">514.9244</td>\n",
       "        <td style=\"padding-left: 1em; padding-right: 1em; text-align: center; vertical-align: top\">505.8754</td>\n",
       "    </tr>\n",
       "    <tr>\n",
       "        <td style=\"padding-left: 1em; padding-right: 1em; text-align: center; vertical-align: top\">2013-10-28</td>\n",
       "        <td style=\"padding-left: 1em; padding-right: 1em; text-align: center; vertical-align: top\">508.1076</td>\n",
       "        <td style=\"padding-left: 1em; padding-right: 1em; text-align: center; vertical-align: top\">508.0075</td>\n",
       "        <td style=\"padding-left: 1em; padding-right: 1em; text-align: center; vertical-align: top\">512.2267</td>\n",
       "        <td style=\"padding-left: 1em; padding-right: 1em; text-align: center; vertical-align: top\">506.999</td>\n",
       "    </tr>\n",
       "    <tr>\n",
       "        <td style=\"padding-left: 1em; padding-right: 1em; text-align: center; vertical-align: top\">2013-10-29</td>\n",
       "        <td style=\"padding-left: 1em; padding-right: 1em; text-align: center; vertical-align: top\">510.0596</td>\n",
       "        <td style=\"padding-left: 1em; padding-right: 1em; text-align: center; vertical-align: top\">518.6381</td>\n",
       "        <td style=\"padding-left: 1em; padding-right: 1em; text-align: center; vertical-align: top\">518.9885</td>\n",
       "        <td style=\"padding-left: 1em; padding-right: 1em; text-align: center; vertical-align: top\">507.2568</td>\n",
       "    </tr>\n",
       "    <tr>\n",
       "        <td style=\"padding-left: 1em; padding-right: 1em; text-align: center; vertical-align: top\">2013-10-30</td>\n",
       "        <td style=\"padding-left: 1em; padding-right: 1em; text-align: center; vertical-align: top\">519.2337</td>\n",
       "        <td style=\"padding-left: 1em; padding-right: 1em; text-align: center; vertical-align: top\">515.7252</td>\n",
       "        <td style=\"padding-left: 1em; padding-right: 1em; text-align: center; vertical-align: top\">519.2738</td>\n",
       "        <td style=\"padding-left: 1em; padding-right: 1em; text-align: center; vertical-align: top\">513.513</td>\n",
       "    </tr>\n",
       "    <tr>\n",
       "        <td style=\"padding-left: 1em; padding-right: 1em; text-align: center; vertical-align: top\">2013-10-31</td>\n",
       "        <td style=\"padding-left: 1em; padding-right: 1em; text-align: center; vertical-align: top\">514.9795</td>\n",
       "        <td style=\"padding-left: 1em; padding-right: 1em; text-align: center; vertical-align: top\">515.8053</td>\n",
       "        <td style=\"padding-left: 1em; padding-right: 1em; text-align: center; vertical-align: top\">521.2827</td>\n",
       "        <td style=\"padding-left: 1em; padding-right: 1em; text-align: center; vertical-align: top\">512.497</td>\n",
       "    </tr>\n",
       "    <tr>\n",
       "        <td style=\"padding-left: 1em; padding-right: 1em; text-align: center; vertical-align: top\">2013-11-01</td>\n",
       "        <td style=\"padding-left: 1em; padding-right: 1em; text-align: center; vertical-align: top\">516.4109</td>\n",
       "        <td style=\"padding-left: 1em; padding-right: 1em; text-align: center; vertical-align: top\">514.0335</td>\n",
       "        <td style=\"padding-left: 1em; padding-right: 1em; text-align: center; vertical-align: top\">518.518</td>\n",
       "        <td style=\"padding-left: 1em; padding-right: 1em; text-align: center; vertical-align: top\">513.0625</td>\n",
       "    </tr>\n",
       "    <tr>\n",
       "        <td style=\"padding-left: 1em; padding-right: 1em; text-align: center; vertical-align: top\">2013-11-04</td>\n",
       "        <td style=\"padding-left: 1em; padding-right: 1em; text-align: center; vertical-align: top\">516.2658</td>\n",
       "        <td style=\"padding-left: 1em; padding-right: 1em; text-align: center; vertical-align: top\">513.5661</td>\n",
       "        <td style=\"padding-left: 1em; padding-right: 1em; text-align: center; vertical-align: top\">516.7012</td>\n",
       "        <td style=\"padding-left: 1em; padding-right: 1em; text-align: center; vertical-align: top\">511.526</td>\n",
       "    </tr>\n",
       "</table>\n",
       "[1259 rows x 5 columns]<br/>Note: Only the head of the SFrame is printed.<br/>You can use print_rows(num_rows=m, num_columns=n) to print more rows and columns.\n",
       "</div>"
      ],
      "text/plain": [
       "Columns:\n",
       "\tdate\tstr\n",
       "\topen\tfloat\n",
       "\tclose\tfloat\n",
       "\thigh\tfloat\n",
       "\tlow\tfloat\n",
       "\n",
       "Rows: 1259\n",
       "\n",
       "Data:\n",
       "+------------+----------+----------+----------+----------+\n",
       "|    date    |   open   |  close   |   high   |   low    |\n",
       "+------------+----------+----------+----------+----------+\n",
       "| 2013-10-22 | 503.0025 | 504.0035 | 507.0065 | 498.3934 |\n",
       "| 2013-10-23 | 501.0005 | 516.2192 | 517.8923 | 500.8153 |\n",
       "| 2013-10-24 | 516.4509 | 513.2878 | 520.8053 | 512.9124 |\n",
       "| 2013-10-25 | 514.9244 | 508.1076 | 514.9244 | 505.8754 |\n",
       "| 2013-10-28 | 508.1076 | 508.0075 | 512.2267 | 506.999  |\n",
       "| 2013-10-29 | 510.0596 | 518.6381 | 518.9885 | 507.2568 |\n",
       "| 2013-10-30 | 519.2337 | 515.7252 | 519.2738 | 513.513  |\n",
       "| 2013-10-31 | 514.9795 | 515.8053 | 521.2827 | 512.497  |\n",
       "| 2013-11-01 | 516.4109 | 514.0335 | 518.518  | 513.0625 |\n",
       "| 2013-11-04 | 516.2658 | 513.5661 | 516.7012 | 511.526  |\n",
       "+------------+----------+----------+----------+----------+\n",
       "[1259 rows x 5 columns]\n",
       "Note: Only the head of the SFrame is printed.\n",
       "You can use print_rows(num_rows=m, num_columns=n) to print more rows and columns."
      ]
     },
     "execution_count": 90,
     "metadata": {},
     "output_type": "execute_result"
    }
   ],
   "source": [
    "sf = gl.SFrame.read_csv('google_stock_5y.csv')\n",
    "sf"
   ]
  },
  {
   "cell_type": "code",
   "execution_count": 91,
   "metadata": {
    "ExecuteTime": {
     "end_time": "2018-10-10T16:48:07.299213Z",
     "start_time": "2018-10-10T16:48:07.155480Z"
    },
    "scrolled": true
   },
   "outputs": [],
   "source": [
    "### For some reason this command only works if jupyter notebook is run with sudo ###\n",
    "### sudo jupyter notebook --allow-root ###\n",
    "# sf.show()"
   ]
  },
  {
   "cell_type": "code",
   "execution_count": 92,
   "metadata": {
    "ExecuteTime": {
     "end_time": "2018-10-10T16:48:15.093824Z",
     "start_time": "2018-10-10T16:48:14.123745Z"
    }
   },
   "outputs": [],
   "source": [
    "sf['date'] = sf['date'].apply(lambda x : dt.strptime(x, '%Y-%m-%d'))"
   ]
  },
  {
   "cell_type": "code",
   "execution_count": null,
   "metadata": {},
   "outputs": [],
   "source": []
  },
  {
   "cell_type": "code",
   "execution_count": null,
   "metadata": {},
   "outputs": [],
   "source": []
  },
  {
   "cell_type": "code",
   "execution_count": null,
   "metadata": {},
   "outputs": [],
   "source": []
  },
  {
   "cell_type": "markdown",
   "metadata": {},
   "source": [
    "# Housing Prices - Linear Regression"
   ]
  },
  {
   "cell_type": "code",
   "execution_count": 263,
   "metadata": {
    "ExecuteTime": {
     "end_time": "2018-10-10T17:42:19.584442Z",
     "start_time": "2018-10-10T17:42:19.511890Z"
    }
   },
   "outputs": [
    {
     "data": {
      "text/html": [
       "<pre>Downloading https://static.turi.com/datasets/regression/houses.csv to /var/tmp/graphlab-python/12716/863b3d63-c724-47a4-968a-f06f9579b9d6.csv</pre>"
      ],
      "text/plain": [
       "Downloading https://static.turi.com/datasets/regression/houses.csv to /var/tmp/graphlab-python/12716/863b3d63-c724-47a4-968a-f06f9579b9d6.csv"
      ]
     },
     "metadata": {},
     "output_type": "display_data"
    },
    {
     "data": {
      "text/html": [
       "<pre>Finished parsing file https://static.turi.com/datasets/regression/houses.csv</pre>"
      ],
      "text/plain": [
       "Finished parsing file https://static.turi.com/datasets/regression/houses.csv"
      ]
     },
     "metadata": {},
     "output_type": "display_data"
    },
    {
     "data": {
      "text/html": [
       "<pre>Parsing completed. Parsed 15 lines in 0.081961 secs.</pre>"
      ],
      "text/plain": [
       "Parsing completed. Parsed 15 lines in 0.081961 secs."
      ]
     },
     "metadata": {},
     "output_type": "display_data"
    },
    {
     "name": "stdout",
     "output_type": "stream",
     "text": [
      "------------------------------------------------------\n",
      "Inferred types from first 100 line(s) of file as \n",
      "column_type_hints=[int,int,float,int,int,int]\n",
      "If parsing fails due to incorrect types, you can correct\n",
      "the inferred type list above and pass it to read_csv in\n",
      "the column_type_hints argument\n",
      "------------------------------------------------------\n"
     ]
    },
    {
     "data": {
      "text/html": [
       "<pre>Read 15 lines. Lines per second: 376.667</pre>"
      ],
      "text/plain": [
       "Read 15 lines. Lines per second: 376.667"
      ]
     },
     "metadata": {},
     "output_type": "display_data"
    },
    {
     "data": {
      "text/html": [
       "<pre>Finished parsing file https://static.turi.com/datasets/regression/houses.csv</pre>"
      ],
      "text/plain": [
       "Finished parsing file https://static.turi.com/datasets/regression/houses.csv"
      ]
     },
     "metadata": {},
     "output_type": "display_data"
    }
   ],
   "source": [
    "sf =  gl.SFrame('https://static.turi.com/datasets/regression/houses.csv')"
   ]
  },
  {
   "cell_type": "code",
   "execution_count": 264,
   "metadata": {
    "ExecuteTime": {
     "end_time": "2018-10-10T17:42:24.654639Z",
     "start_time": "2018-10-10T17:42:24.570909Z"
    }
   },
   "outputs": [
    {
     "data": {
      "text/html": [
       "<div style=\"max-height:1000px;max-width:1500px;overflow:auto;\"><table frame=\"box\" rules=\"cols\">\n",
       "    <tr>\n",
       "        <th style=\"padding-left: 1em; padding-right: 1em; text-align: center\">tax</th>\n",
       "        <th style=\"padding-left: 1em; padding-right: 1em; text-align: center\">bedroom</th>\n",
       "        <th style=\"padding-left: 1em; padding-right: 1em; text-align: center\">bath</th>\n",
       "        <th style=\"padding-left: 1em; padding-right: 1em; text-align: center\">price</th>\n",
       "        <th style=\"padding-left: 1em; padding-right: 1em; text-align: center\">size</th>\n",
       "        <th style=\"padding-left: 1em; padding-right: 1em; text-align: center\">lot</th>\n",
       "    </tr>\n",
       "    <tr>\n",
       "        <td style=\"padding-left: 1em; padding-right: 1em; text-align: center; vertical-align: top\">590</td>\n",
       "        <td style=\"padding-left: 1em; padding-right: 1em; text-align: center; vertical-align: top\">2</td>\n",
       "        <td style=\"padding-left: 1em; padding-right: 1em; text-align: center; vertical-align: top\">1.0</td>\n",
       "        <td style=\"padding-left: 1em; padding-right: 1em; text-align: center; vertical-align: top\">50000</td>\n",
       "        <td style=\"padding-left: 1em; padding-right: 1em; text-align: center; vertical-align: top\">770</td>\n",
       "        <td style=\"padding-left: 1em; padding-right: 1em; text-align: center; vertical-align: top\">22100</td>\n",
       "    </tr>\n",
       "    <tr>\n",
       "        <td style=\"padding-left: 1em; padding-right: 1em; text-align: center; vertical-align: top\">1050</td>\n",
       "        <td style=\"padding-left: 1em; padding-right: 1em; text-align: center; vertical-align: top\">3</td>\n",
       "        <td style=\"padding-left: 1em; padding-right: 1em; text-align: center; vertical-align: top\">2.0</td>\n",
       "        <td style=\"padding-left: 1em; padding-right: 1em; text-align: center; vertical-align: top\">85000</td>\n",
       "        <td style=\"padding-left: 1em; padding-right: 1em; text-align: center; vertical-align: top\">1410</td>\n",
       "        <td style=\"padding-left: 1em; padding-right: 1em; text-align: center; vertical-align: top\">12000</td>\n",
       "    </tr>\n",
       "    <tr>\n",
       "        <td style=\"padding-left: 1em; padding-right: 1em; text-align: center; vertical-align: top\">20</td>\n",
       "        <td style=\"padding-left: 1em; padding-right: 1em; text-align: center; vertical-align: top\">3</td>\n",
       "        <td style=\"padding-left: 1em; padding-right: 1em; text-align: center; vertical-align: top\">1.0</td>\n",
       "        <td style=\"padding-left: 1em; padding-right: 1em; text-align: center; vertical-align: top\">22500</td>\n",
       "        <td style=\"padding-left: 1em; padding-right: 1em; text-align: center; vertical-align: top\">1060</td>\n",
       "        <td style=\"padding-left: 1em; padding-right: 1em; text-align: center; vertical-align: top\">3500</td>\n",
       "    </tr>\n",
       "    <tr>\n",
       "        <td style=\"padding-left: 1em; padding-right: 1em; text-align: center; vertical-align: top\">870</td>\n",
       "        <td style=\"padding-left: 1em; padding-right: 1em; text-align: center; vertical-align: top\">2</td>\n",
       "        <td style=\"padding-left: 1em; padding-right: 1em; text-align: center; vertical-align: top\">2.0</td>\n",
       "        <td style=\"padding-left: 1em; padding-right: 1em; text-align: center; vertical-align: top\">90000</td>\n",
       "        <td style=\"padding-left: 1em; padding-right: 1em; text-align: center; vertical-align: top\">1300</td>\n",
       "        <td style=\"padding-left: 1em; padding-right: 1em; text-align: center; vertical-align: top\">17500</td>\n",
       "    </tr>\n",
       "    <tr>\n",
       "        <td style=\"padding-left: 1em; padding-right: 1em; text-align: center; vertical-align: top\">1320</td>\n",
       "        <td style=\"padding-left: 1em; padding-right: 1em; text-align: center; vertical-align: top\">3</td>\n",
       "        <td style=\"padding-left: 1em; padding-right: 1em; text-align: center; vertical-align: top\">2.0</td>\n",
       "        <td style=\"padding-left: 1em; padding-right: 1em; text-align: center; vertical-align: top\">133000</td>\n",
       "        <td style=\"padding-left: 1em; padding-right: 1em; text-align: center; vertical-align: top\">1500</td>\n",
       "        <td style=\"padding-left: 1em; padding-right: 1em; text-align: center; vertical-align: top\">30000</td>\n",
       "    </tr>\n",
       "    <tr>\n",
       "        <td style=\"padding-left: 1em; padding-right: 1em; text-align: center; vertical-align: top\">1350</td>\n",
       "        <td style=\"padding-left: 1em; padding-right: 1em; text-align: center; vertical-align: top\">2</td>\n",
       "        <td style=\"padding-left: 1em; padding-right: 1em; text-align: center; vertical-align: top\">1.0</td>\n",
       "        <td style=\"padding-left: 1em; padding-right: 1em; text-align: center; vertical-align: top\">90500</td>\n",
       "        <td style=\"padding-left: 1em; padding-right: 1em; text-align: center; vertical-align: top\">820</td>\n",
       "        <td style=\"padding-left: 1em; padding-right: 1em; text-align: center; vertical-align: top\">25700</td>\n",
       "    </tr>\n",
       "    <tr>\n",
       "        <td style=\"padding-left: 1em; padding-right: 1em; text-align: center; vertical-align: top\">2790</td>\n",
       "        <td style=\"padding-left: 1em; padding-right: 1em; text-align: center; vertical-align: top\">3</td>\n",
       "        <td style=\"padding-left: 1em; padding-right: 1em; text-align: center; vertical-align: top\">2.5</td>\n",
       "        <td style=\"padding-left: 1em; padding-right: 1em; text-align: center; vertical-align: top\">260000</td>\n",
       "        <td style=\"padding-left: 1em; padding-right: 1em; text-align: center; vertical-align: top\">2130</td>\n",
       "        <td style=\"padding-left: 1em; padding-right: 1em; text-align: center; vertical-align: top\">25000</td>\n",
       "    </tr>\n",
       "    <tr>\n",
       "        <td style=\"padding-left: 1em; padding-right: 1em; text-align: center; vertical-align: top\">680</td>\n",
       "        <td style=\"padding-left: 1em; padding-right: 1em; text-align: center; vertical-align: top\">2</td>\n",
       "        <td style=\"padding-left: 1em; padding-right: 1em; text-align: center; vertical-align: top\">1.0</td>\n",
       "        <td style=\"padding-left: 1em; padding-right: 1em; text-align: center; vertical-align: top\">142500</td>\n",
       "        <td style=\"padding-left: 1em; padding-right: 1em; text-align: center; vertical-align: top\">1170</td>\n",
       "        <td style=\"padding-left: 1em; padding-right: 1em; text-align: center; vertical-align: top\">22000</td>\n",
       "    </tr>\n",
       "    <tr>\n",
       "        <td style=\"padding-left: 1em; padding-right: 1em; text-align: center; vertical-align: top\">1840</td>\n",
       "        <td style=\"padding-left: 1em; padding-right: 1em; text-align: center; vertical-align: top\">3</td>\n",
       "        <td style=\"padding-left: 1em; padding-right: 1em; text-align: center; vertical-align: top\">2.0</td>\n",
       "        <td style=\"padding-left: 1em; padding-right: 1em; text-align: center; vertical-align: top\">160000</td>\n",
       "        <td style=\"padding-left: 1em; padding-right: 1em; text-align: center; vertical-align: top\">1500</td>\n",
       "        <td style=\"padding-left: 1em; padding-right: 1em; text-align: center; vertical-align: top\">19000</td>\n",
       "    </tr>\n",
       "    <tr>\n",
       "        <td style=\"padding-left: 1em; padding-right: 1em; text-align: center; vertical-align: top\">3680</td>\n",
       "        <td style=\"padding-left: 1em; padding-right: 1em; text-align: center; vertical-align: top\">4</td>\n",
       "        <td style=\"padding-left: 1em; padding-right: 1em; text-align: center; vertical-align: top\">2.0</td>\n",
       "        <td style=\"padding-left: 1em; padding-right: 1em; text-align: center; vertical-align: top\">240000</td>\n",
       "        <td style=\"padding-left: 1em; padding-right: 1em; text-align: center; vertical-align: top\">2790</td>\n",
       "        <td style=\"padding-left: 1em; padding-right: 1em; text-align: center; vertical-align: top\">20000</td>\n",
       "    </tr>\n",
       "</table>\n",
       "[10 rows x 6 columns]<br/>\n",
       "</div>"
      ],
      "text/plain": [
       "Columns:\n",
       "\ttax\tint\n",
       "\tbedroom\tint\n",
       "\tbath\tfloat\n",
       "\tprice\tint\n",
       "\tsize\tint\n",
       "\tlot\tint\n",
       "\n",
       "Rows: 10\n",
       "\n",
       "Data:\n",
       "+------+---------+------+--------+------+-------+\n",
       "| tax  | bedroom | bath | price  | size |  lot  |\n",
       "+------+---------+------+--------+------+-------+\n",
       "| 590  |    2    | 1.0  | 50000  | 770  | 22100 |\n",
       "| 1050 |    3    | 2.0  | 85000  | 1410 | 12000 |\n",
       "|  20  |    3    | 1.0  | 22500  | 1060 |  3500 |\n",
       "| 870  |    2    | 2.0  | 90000  | 1300 | 17500 |\n",
       "| 1320 |    3    | 2.0  | 133000 | 1500 | 30000 |\n",
       "| 1350 |    2    | 1.0  | 90500  | 820  | 25700 |\n",
       "| 2790 |    3    | 2.5  | 260000 | 2130 | 25000 |\n",
       "| 680  |    2    | 1.0  | 142500 | 1170 | 22000 |\n",
       "| 1840 |    3    | 2.0  | 160000 | 1500 | 19000 |\n",
       "| 3680 |    4    | 2.0  | 240000 | 2790 | 20000 |\n",
       "+------+---------+------+--------+------+-------+\n",
       "[10 rows x 6 columns]"
      ]
     },
     "execution_count": 264,
     "metadata": {},
     "output_type": "execute_result"
    }
   ],
   "source": [
    "sf.head()"
   ]
  },
  {
   "cell_type": "code",
   "execution_count": 94,
   "metadata": {
    "ExecuteTime": {
     "end_time": "2018-10-10T17:42:01.317576Z",
     "start_time": "2018-10-10T17:42:01.039710Z"
    }
   },
   "outputs": [],
   "source": [
    "df = pd.read_csv('https://static.turi.com/datasets/regression/houses.csv')"
   ]
  },
  {
   "cell_type": "code",
   "execution_count": 95,
   "metadata": {
    "ExecuteTime": {
     "end_time": "2018-10-10T17:42:03.664825Z",
     "start_time": "2018-10-10T17:42:03.631967Z"
    }
   },
   "outputs": [
    {
     "data": {
      "text/html": [
       "<div>\n",
       "<style scoped>\n",
       "    .dataframe tbody tr th:only-of-type {\n",
       "        vertical-align: middle;\n",
       "    }\n",
       "\n",
       "    .dataframe tbody tr th {\n",
       "        vertical-align: top;\n",
       "    }\n",
       "\n",
       "    .dataframe thead th {\n",
       "        text-align: right;\n",
       "    }\n",
       "</style>\n",
       "<table border=\"1\" class=\"dataframe\">\n",
       "  <thead>\n",
       "    <tr style=\"text-align: right;\">\n",
       "      <th></th>\n",
       "      <th>tax</th>\n",
       "      <th>bedroom</th>\n",
       "      <th>bath</th>\n",
       "      <th>price</th>\n",
       "      <th>size</th>\n",
       "      <th>lot</th>\n",
       "    </tr>\n",
       "  </thead>\n",
       "  <tbody>\n",
       "    <tr>\n",
       "      <th>count</th>\n",
       "      <td>15.000000</td>\n",
       "      <td>15.000000</td>\n",
       "      <td>15.000000</td>\n",
       "      <td>15.000000</td>\n",
       "      <td>15.000000</td>\n",
       "      <td>15.000000</td>\n",
       "    </tr>\n",
       "    <tr>\n",
       "      <th>mean</th>\n",
       "      <td>1552.666667</td>\n",
       "      <td>2.733333</td>\n",
       "      <td>1.733333</td>\n",
       "      <td>122140.000000</td>\n",
       "      <td>1432.666667</td>\n",
       "      <td>19886.666667</td>\n",
       "    </tr>\n",
       "    <tr>\n",
       "      <th>std</th>\n",
       "      <td>1017.107008</td>\n",
       "      <td>0.593617</td>\n",
       "      <td>0.622973</td>\n",
       "      <td>64866.905496</td>\n",
       "      <td>513.732374</td>\n",
       "      <td>8191.708933</td>\n",
       "    </tr>\n",
       "    <tr>\n",
       "      <th>min</th>\n",
       "      <td>20.000000</td>\n",
       "      <td>2.000000</td>\n",
       "      <td>1.000000</td>\n",
       "      <td>22500.000000</td>\n",
       "      <td>770.000000</td>\n",
       "      <td>3500.000000</td>\n",
       "    </tr>\n",
       "    <tr>\n",
       "      <th>25%</th>\n",
       "      <td>775.000000</td>\n",
       "      <td>2.000000</td>\n",
       "      <td>1.000000</td>\n",
       "      <td>86000.000000</td>\n",
       "      <td>1115.000000</td>\n",
       "      <td>15750.000000</td>\n",
       "    </tr>\n",
       "    <tr>\n",
       "      <th>50%</th>\n",
       "      <td>1350.000000</td>\n",
       "      <td>3.000000</td>\n",
       "      <td>2.000000</td>\n",
       "      <td>118600.000000</td>\n",
       "      <td>1410.000000</td>\n",
       "      <td>20000.000000</td>\n",
       "    </tr>\n",
       "    <tr>\n",
       "      <th>75%</th>\n",
       "      <td>1955.000000</td>\n",
       "      <td>3.000000</td>\n",
       "      <td>2.000000</td>\n",
       "      <td>145250.000000</td>\n",
       "      <td>1525.000000</td>\n",
       "      <td>23550.000000</td>\n",
       "    </tr>\n",
       "    <tr>\n",
       "      <th>max</th>\n",
       "      <td>3680.000000</td>\n",
       "      <td>4.000000</td>\n",
       "      <td>3.000000</td>\n",
       "      <td>260000.000000</td>\n",
       "      <td>2790.000000</td>\n",
       "      <td>38000.000000</td>\n",
       "    </tr>\n",
       "  </tbody>\n",
       "</table>\n",
       "</div>"
      ],
      "text/plain": [
       "               tax    bedroom       bath          price         size  \\\n",
       "count    15.000000  15.000000  15.000000      15.000000    15.000000   \n",
       "mean   1552.666667   2.733333   1.733333  122140.000000  1432.666667   \n",
       "std    1017.107008   0.593617   0.622973   64866.905496   513.732374   \n",
       "min      20.000000   2.000000   1.000000   22500.000000   770.000000   \n",
       "25%     775.000000   2.000000   1.000000   86000.000000  1115.000000   \n",
       "50%    1350.000000   3.000000   2.000000  118600.000000  1410.000000   \n",
       "75%    1955.000000   3.000000   2.000000  145250.000000  1525.000000   \n",
       "max    3680.000000   4.000000   3.000000  260000.000000  2790.000000   \n",
       "\n",
       "                lot  \n",
       "count     15.000000  \n",
       "mean   19886.666667  \n",
       "std     8191.708933  \n",
       "min     3500.000000  \n",
       "25%    15750.000000  \n",
       "50%    20000.000000  \n",
       "75%    23550.000000  \n",
       "max    38000.000000  "
      ]
     },
     "execution_count": 95,
     "metadata": {},
     "output_type": "execute_result"
    }
   ],
   "source": [
    "df.describe()"
   ]
  },
  {
   "cell_type": "code",
   "execution_count": 96,
   "metadata": {
    "ExecuteTime": {
     "end_time": "2018-10-10T17:42:09.729875Z",
     "start_time": "2018-10-10T17:42:09.721025Z"
    }
   },
   "outputs": [
    {
     "name": "stdout",
     "output_type": "stream",
     "text": [
      "<class 'pandas.core.frame.DataFrame'>\n",
      "RangeIndex: 15 entries, 0 to 14\n",
      "Data columns (total 6 columns):\n",
      "tax        15 non-null int64\n",
      "bedroom    15 non-null int64\n",
      "bath       15 non-null float64\n",
      "price      15 non-null int64\n",
      "size       15 non-null int64\n",
      "lot        15 non-null int64\n",
      "dtypes: float64(1), int64(5)\n",
      "memory usage: 792.0 bytes\n"
     ]
    }
   ],
   "source": [
    "df.info()"
   ]
  },
  {
   "cell_type": "code",
   "execution_count": 97,
   "metadata": {
    "ExecuteTime": {
     "end_time": "2018-10-10T17:42:30.971010Z",
     "start_time": "2018-10-10T17:42:30.791146Z"
    }
   },
   "outputs": [
    {
     "data": {
      "application/vnd.jupyter.widget-view+json": {
       "model_id": "4b32d31d71df4b51b8dbc0f32c88cd23",
       "version_major": 2,
       "version_minor": 0
      },
      "text/plain": [
       "FigureCanvasNbAgg()"
      ]
     },
     "metadata": {},
     "output_type": "display_data"
    },
    {
     "data": {
      "text/plain": [
       "<matplotlib.axes._subplots.AxesSubplot at 0x7f93967f1950>"
      ]
     },
     "execution_count": 97,
     "metadata": {},
     "output_type": "execute_result"
    }
   ],
   "source": [
    "df.plot()\n",
    "plt.draw()\n",
    "plt.show()"
   ]
  },
  {
   "cell_type": "markdown",
   "metadata": {},
   "source": [
    "Let's plot again but this time with the y-axis set to log scale."
   ]
  },
  {
   "cell_type": "code",
   "execution_count": 98,
   "metadata": {
    "ExecuteTime": {
     "end_time": "2018-10-10T17:45:21.825487Z",
     "start_time": "2018-10-10T17:45:21.399299Z"
    }
   },
   "outputs": [
    {
     "data": {
      "application/vnd.jupyter.widget-view+json": {
       "model_id": "dab862f012a949768e3e1c8ff1ab2bab",
       "version_major": 2,
       "version_minor": 0
      },
      "text/plain": [
       "FigureCanvasNbAgg()"
      ]
     },
     "metadata": {},
     "output_type": "display_data"
    },
    {
     "data": {
      "text/plain": [
       "<matplotlib.axes._subplots.AxesSubplot at 0x7f939262f350>"
      ]
     },
     "execution_count": 98,
     "metadata": {},
     "output_type": "execute_result"
    }
   ],
   "source": [
    "df.plot()\n",
    "plt.yscale('log')\n",
    "plt.draw()\n",
    "plt.show()"
   ]
  },
  {
   "cell_type": "code",
   "execution_count": null,
   "metadata": {
    "ExecuteTime": {
     "end_time": "2018-10-10T17:48:47.543211Z",
     "start_time": "2018-10-10T17:48:47.536577Z"
    }
   },
   "outputs": [],
   "source": []
  },
  {
   "cell_type": "code",
   "execution_count": 270,
   "metadata": {
    "ExecuteTime": {
     "end_time": "2018-10-10T17:59:54.898928Z",
     "start_time": "2018-10-10T17:59:54.826742Z"
    }
   },
   "outputs": [
    {
     "data": {
      "text/html": [
       "<pre>Boosted trees regression:</pre>"
      ],
      "text/plain": [
       "Boosted trees regression:"
      ]
     },
     "metadata": {},
     "output_type": "display_data"
    },
    {
     "data": {
      "text/html": [
       "<pre>--------------------------------------------------------</pre>"
      ],
      "text/plain": [
       "--------------------------------------------------------"
      ]
     },
     "metadata": {},
     "output_type": "display_data"
    },
    {
     "data": {
      "text/html": [
       "<pre>Number of examples          : 15</pre>"
      ],
      "text/plain": [
       "Number of examples          : 15"
      ]
     },
     "metadata": {},
     "output_type": "display_data"
    },
    {
     "data": {
      "text/html": [
       "<pre>Number of features          : 3</pre>"
      ],
      "text/plain": [
       "Number of features          : 3"
      ]
     },
     "metadata": {},
     "output_type": "display_data"
    },
    {
     "data": {
      "text/html": [
       "<pre>Number of unpacked features : 3</pre>"
      ],
      "text/plain": [
       "Number of unpacked features : 3"
      ]
     },
     "metadata": {},
     "output_type": "display_data"
    },
    {
     "data": {
      "text/html": [
       "<pre>+-----------+--------------+--------------------+---------------+</pre>"
      ],
      "text/plain": [
       "+-----------+--------------+--------------------+---------------+"
      ]
     },
     "metadata": {},
     "output_type": "display_data"
    },
    {
     "data": {
      "text/html": [
       "<pre>| Iteration | Elapsed Time | Training-max_error | Training-rmse |</pre>"
      ],
      "text/plain": [
       "| Iteration | Elapsed Time | Training-max_error | Training-rmse |"
      ]
     },
     "metadata": {},
     "output_type": "display_data"
    },
    {
     "data": {
      "text/html": [
       "<pre>+-----------+--------------+--------------------+---------------+</pre>"
      ],
      "text/plain": [
       "+-----------+--------------+--------------------+---------------+"
      ]
     },
     "metadata": {},
     "output_type": "display_data"
    },
    {
     "data": {
      "text/html": [
       "<pre>| 1         | 0.008260     | 213671.062500      | 105234.945312 |</pre>"
      ],
      "text/plain": [
       "| 1         | 0.008260     | 213671.062500      | 105234.945312 |"
      ]
     },
     "metadata": {},
     "output_type": "display_data"
    },
    {
     "data": {
      "text/html": [
       "<pre>| 2         | 0.012162     | 183884.562500      | 82256.898438  |</pre>"
      ],
      "text/plain": [
       "| 2         | 0.012162     | 183884.562500      | 82256.898438  |"
      ]
     },
     "metadata": {},
     "output_type": "display_data"
    },
    {
     "data": {
      "text/html": [
       "<pre>| 3         | 0.012753     | 149107.656250      | 65396.761719  |</pre>"
      ],
      "text/plain": [
       "| 3         | 0.012753     | 149107.656250      | 65396.761719  |"
      ]
     },
     "metadata": {},
     "output_type": "display_data"
    },
    {
     "data": {
      "text/html": [
       "<pre>| 4         | 0.013222     | 121286.109375      | 52618.617188  |</pre>"
      ],
      "text/plain": [
       "| 4         | 0.013222     | 121286.109375      | 52618.617188  |"
      ]
     },
     "metadata": {},
     "output_type": "display_data"
    },
    {
     "data": {
      "text/html": [
       "<pre>| 5         | 0.013826     | 99028.890625       | 42504.289062  |</pre>"
      ],
      "text/plain": [
       "| 5         | 0.013826     | 99028.890625       | 42504.289062  |"
      ]
     },
     "metadata": {},
     "output_type": "display_data"
    },
    {
     "data": {
      "text/html": [
       "<pre>| 6         | 0.019223     | 81223.109375       | 34111.531250  |</pre>"
      ],
      "text/plain": [
       "| 6         | 0.019223     | 81223.109375       | 34111.531250  |"
      ]
     },
     "metadata": {},
     "output_type": "display_data"
    },
    {
     "data": {
      "text/html": [
       "<pre>+-----------+--------------+--------------------+---------------+</pre>"
      ],
      "text/plain": [
       "+-----------+--------------+--------------------+---------------+"
      ]
     },
     "metadata": {},
     "output_type": "display_data"
    }
   ],
   "source": [
    "# Select model based on features.\n",
    "model = gl.regression.create(sf, target='price',\n",
    "                                  features=['bath', 'bedroom', 'size'])"
   ]
  },
  {
   "cell_type": "code",
   "execution_count": 271,
   "metadata": {
    "ExecuteTime": {
     "end_time": "2018-10-10T18:00:03.003031Z",
     "start_time": "2018-10-10T18:00:02.976907Z"
    }
   },
   "outputs": [
    {
     "name": "stdout",
     "output_type": "stream",
     "text": [
      "Class                          : BoostedTreesRegression\n",
      "\n",
      "Schema\n",
      "------\n",
      "Number of examples             : 15\n",
      "Number of feature columns      : 3\n",
      "Number of unpacked features    : 3\n",
      "\n",
      "Settings\n",
      "--------\n",
      "Number of trees                : 10\n",
      "Max tree depth                 : 6\n",
      "Training time (sec)            : 0.0257\n",
      "Training rmse                  : 15539.6787\n",
      "Validation rmse                : None\n",
      "Training max_error             : 39172.9688\n",
      "Validation max_error           : None\n",
      "\n"
     ]
    }
   ],
   "source": [
    "model.summary()"
   ]
  },
  {
   "cell_type": "code",
   "execution_count": 272,
   "metadata": {
    "ExecuteTime": {
     "end_time": "2018-10-10T18:00:05.720355Z",
     "start_time": "2018-10-10T18:00:05.695030Z"
    }
   },
   "outputs": [],
   "source": [
    "# Make predictions and evaluate results.\n",
    "predictions = model.predict(sf)\n",
    "results = model.evaluate(sf)"
   ]
  },
  {
   "cell_type": "code",
   "execution_count": 273,
   "metadata": {
    "ExecuteTime": {
     "end_time": "2018-10-10T18:00:07.029126Z",
     "start_time": "2018-10-10T18:00:07.015153Z"
    }
   },
   "outputs": [
    {
     "data": {
      "text/plain": [
       "dtype: float\n",
       "Rows: 15\n",
       "[47354.8125, 86948.8671875, 31288.62890625, 90732.09375, 135966.53125, 84134.953125, 220827.03125, 115396.3359375, 135966.53125, 220827.03125, 78838.7421875, 110927.578125, 135966.53125, 137100.09375, 68074.03125]"
      ]
     },
     "execution_count": 273,
     "metadata": {},
     "output_type": "execute_result"
    }
   ],
   "source": [
    "predictions"
   ]
  },
  {
   "cell_type": "code",
   "execution_count": 274,
   "metadata": {
    "ExecuteTime": {
     "end_time": "2018-10-10T18:00:07.611116Z",
     "start_time": "2018-10-10T18:00:07.602306Z"
    }
   },
   "outputs": [
    {
     "data": {
      "text/plain": [
       "{'max_error': 39172.96875, 'rmse': 15539.67890511792}"
      ]
     },
     "execution_count": 274,
     "metadata": {},
     "output_type": "execute_result"
    }
   ],
   "source": [
    "results"
   ]
  },
  {
   "cell_type": "code",
   "execution_count": 275,
   "metadata": {
    "ExecuteTime": {
     "end_time": "2018-10-10T18:00:09.896734Z",
     "start_time": "2018-10-10T18:00:09.889687Z"
    }
   },
   "outputs": [],
   "source": [
    "# Split Data, 80% for Training, 20% for Testing #\n",
    "train_data, test_data = sf.random_split(0.8, seed=0)"
   ]
  },
  {
   "cell_type": "code",
   "execution_count": 276,
   "metadata": {
    "ExecuteTime": {
     "end_time": "2018-10-10T18:01:19.751655Z",
     "start_time": "2018-10-10T18:01:19.706360Z"
    }
   },
   "outputs": [
    {
     "data": {
      "text/html": [
       "<pre>Boosted trees regression:</pre>"
      ],
      "text/plain": [
       "Boosted trees regression:"
      ]
     },
     "metadata": {},
     "output_type": "display_data"
    },
    {
     "data": {
      "text/html": [
       "<pre>--------------------------------------------------------</pre>"
      ],
      "text/plain": [
       "--------------------------------------------------------"
      ]
     },
     "metadata": {},
     "output_type": "display_data"
    },
    {
     "data": {
      "text/html": [
       "<pre>Number of examples          : 14</pre>"
      ],
      "text/plain": [
       "Number of examples          : 14"
      ]
     },
     "metadata": {},
     "output_type": "display_data"
    },
    {
     "data": {
      "text/html": [
       "<pre>Number of features          : 1</pre>"
      ],
      "text/plain": [
       "Number of features          : 1"
      ]
     },
     "metadata": {},
     "output_type": "display_data"
    },
    {
     "data": {
      "text/html": [
       "<pre>Number of unpacked features : 1</pre>"
      ],
      "text/plain": [
       "Number of unpacked features : 1"
      ]
     },
     "metadata": {},
     "output_type": "display_data"
    },
    {
     "data": {
      "text/html": [
       "<pre>+-----------+--------------+--------------------+---------------+</pre>"
      ],
      "text/plain": [
       "+-----------+--------------+--------------------+---------------+"
      ]
     },
     "metadata": {},
     "output_type": "display_data"
    },
    {
     "data": {
      "text/html": [
       "<pre>| Iteration | Elapsed Time | Training-max_error | Training-rmse |</pre>"
      ],
      "text/plain": [
       "| Iteration | Elapsed Time | Training-max_error | Training-rmse |"
      ]
     },
     "metadata": {},
     "output_type": "display_data"
    },
    {
     "data": {
      "text/html": [
       "<pre>+-----------+--------------+--------------------+---------------+</pre>"
      ],
      "text/plain": [
       "+-----------+--------------+--------------------+---------------+"
      ]
     },
     "metadata": {},
     "output_type": "display_data"
    },
    {
     "data": {
      "text/html": [
       "<pre>| 1         | 0.007041     | 212949.625000      | 105668.195312 |</pre>"
      ],
      "text/plain": [
       "| 1         | 0.007041     | 212949.625000      | 105668.195312 |"
      ]
     },
     "metadata": {},
     "output_type": "display_data"
    },
    {
     "data": {
      "text/html": [
       "<pre>| 2         | 0.011369     | 183108.312500      | 83031.164062  |</pre>"
      ],
      "text/plain": [
       "| 2         | 0.011369     | 183108.312500      | 83031.164062  |"
      ]
     },
     "metadata": {},
     "output_type": "display_data"
    },
    {
     "data": {
      "text/html": [
       "<pre>| 3         | 0.017699     | 148486.656250      | 66251.640625  |</pre>"
      ],
      "text/plain": [
       "| 3         | 0.017699     | 148486.656250      | 66251.640625  |"
      ]
     },
     "metadata": {},
     "output_type": "display_data"
    },
    {
     "data": {
      "text/html": [
       "<pre>| 4         | 0.019792     | 126214.125000      | 53697.398438  |</pre>"
      ],
      "text/plain": [
       "| 4         | 0.019792     | 126214.125000      | 53697.398438  |"
      ]
     },
     "metadata": {},
     "output_type": "display_data"
    },
    {
     "data": {
      "text/html": [
       "<pre>| 5         | 0.029083     | 102971.296875      | 43149.742188  |</pre>"
      ],
      "text/plain": [
       "| 5         | 0.029083     | 102971.296875      | 43149.742188  |"
      ]
     },
     "metadata": {},
     "output_type": "display_data"
    },
    {
     "data": {
      "text/html": [
       "<pre>| 6         | 0.036201     | 84377.031250       | 34802.820312  |</pre>"
      ],
      "text/plain": [
       "| 6         | 0.036201     | 84377.031250       | 34802.820312  |"
      ]
     },
     "metadata": {},
     "output_type": "display_data"
    },
    {
     "data": {
      "text/html": [
       "<pre>+-----------+--------------+--------------------+---------------+</pre>"
      ],
      "text/plain": [
       "+-----------+--------------+--------------------+---------------+"
      ]
     },
     "metadata": {},
     "output_type": "display_data"
    }
   ],
   "source": [
    "model = gl.regression.create(train_data, target='price', features=['size'])"
   ]
  },
  {
   "cell_type": "code",
   "execution_count": 277,
   "metadata": {
    "ExecuteTime": {
     "end_time": "2018-10-10T18:01:38.502843Z",
     "start_time": "2018-10-10T18:01:38.486206Z"
    }
   },
   "outputs": [
    {
     "name": "stdout",
     "output_type": "stream",
     "text": [
      "{'max_error': 342.390625, 'rmse': 342.390625}\n"
     ]
    }
   ],
   "source": [
    "print model.evaluate(test_data)"
   ]
  },
  {
   "cell_type": "code",
   "execution_count": 381,
   "metadata": {
    "ExecuteTime": {
     "end_time": "2018-10-10T18:03:38.696927Z",
     "start_time": "2018-10-10T18:03:38.527249Z"
    }
   },
   "outputs": [
    {
     "name": "stderr",
     "output_type": "stream",
     "text": [
      "UsageError: Line magic function `%octave` not found.\n"
     ]
    }
   ],
   "source": [
    "LookupError"
   ]
  },
  {
   "cell_type": "code",
   "execution_count": null,
   "metadata": {},
   "outputs": [],
   "source": []
  }
 ],
 "metadata": {
  "celltoolbar": "Initialization Cell",
  "hide_input": false,
  "kernelspec": {
   "display_name": "Python 2",
   "language": "python",
   "name": "python2"
  },
  "language_info": {
   "codemirror_mode": {
    "name": "ipython",
    "version": 2
   },
   "file_extension": ".py",
   "mimetype": "text/x-python",
   "name": "python",
   "nbconvert_exporter": "python",
   "pygments_lexer": "ipython2",
   "version": "2.7.15rc1"
  },
  "latex_envs": {
   "LaTeX_envs_menu_present": true,
   "autoclose": false,
   "autocomplete": true,
   "bibliofile": "biblio.bib",
   "cite_by": "apalike",
   "current_citInitial": 1,
   "eqLabelWithNumbers": true,
   "eqNumInitial": 1,
   "hotkeys": {
    "equation": "Ctrl-E",
    "itemize": "Ctrl-I"
   },
   "labels_anchors": false,
   "latex_user_defs": false,
   "report_style_numbering": false,
   "user_envs_cfg": false
  },
  "nbTranslate": {
   "displayLangs": [
    "*"
   ],
   "hotkey": "alt-t",
   "langInMainMenu": true,
   "sourceLang": "en",
   "targetLang": "fr",
   "useGoogleTranslate": true
  },
  "notify_time": "5",
  "toc": {
   "base_numbering": 1,
   "nav_menu": {
    "height": "222px",
    "width": "220px"
   },
   "number_sections": true,
   "sideBar": true,
   "skip_h1_title": false,
   "title_cell": "Table of Contents",
   "title_sidebar": "Contents",
   "toc_cell": false,
   "toc_position": {
    "height": "calc(100% - 180px)",
    "left": "10px",
    "top": "150px",
    "width": "347px"
   },
   "toc_section_display": true,
   "toc_window_display": true
  },
  "varInspector": {
   "cols": {
    "lenName": 16,
    "lenType": 16,
    "lenVar": 40
   },
   "kernels_config": {
    "python": {
     "delete_cmd_postfix": "",
     "delete_cmd_prefix": "del ",
     "library": "var_list.py",
     "varRefreshCmd": "print(var_dic_list())"
    },
    "r": {
     "delete_cmd_postfix": ") ",
     "delete_cmd_prefix": "rm(",
     "library": "var_list.r",
     "varRefreshCmd": "cat(var_dic_list()) "
    }
   },
   "types_to_exclude": [
    "module",
    "function",
    "builtin_function_or_method",
    "instance",
    "_Feature"
   ],
   "window_display": false
  }
 },
 "nbformat": 4,
 "nbformat_minor": 2
}
